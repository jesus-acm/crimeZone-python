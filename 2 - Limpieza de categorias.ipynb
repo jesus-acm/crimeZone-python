{
 "cells": [
  {
   "cell_type": "code",
   "execution_count": 2,
   "metadata": {},
   "outputs": [],
   "source": [
    "import pandas as pd"
   ]
  },
  {
   "cell_type": "code",
<<<<<<< HEAD
   "execution_count": 3,
=======
   "execution_count": 30,
>>>>>>> 6c7669c61f3ac62e11fa55e52d3f2fc4c63cf997
   "metadata": {},
   "outputs": [
    {
     "output_type": "execute_result",
     "data": {
<<<<<<< HEAD
      "text/plain": "                 fecha                                          crimen  \\\n0  2016-05-18 17:45:00      ROBO A TRANSEUNTE DE CELULAR CON VIOLENCIA   \n1  2016-05-18 14:00:00                              VIOLENCIA FAMILIAR   \n2  2016-05-19 13:20:00                    ROBO A NEGOCIO SIN VIOLENCIA   \n3  2016-05-05 17:00:00                    ROBO A NEGOCIO CON VIOLENCIA   \n4  2016-05-19 13:35:00  ROBO A TRANSEUNTE EN VIA PUBLICA CON VIOLENCIA   \n\n                                           categoria  \\\n0                             DELITO DE BAJO IMPACTO   \n1                             DELITO DE BAJO IMPACTO   \n2                             DELITO DE BAJO IMPACTO   \n3                       ROBO A NEGOCIO CON VIOLENCIA   \n4  ROBO A TRANSEUNTE EN VÍA PÚBLICA CON Y SIN VIO...   \n\n                      colonia       long        lat  \n0  DEFENSORES DE LA REPÚBLICA -99.141133  19.472193  \n1                  DEL CARMEN -99.133885  19.542214  \n2         SANTIAGO ATZACOALCO -99.097474  19.496379  \n3                 25 DE JULIO -99.083278  19.495574  \n4           LA LAGUNA TICOMÁN -99.132372  19.514183  ",
      "text/html": "<div>\n<style scoped>\n    .dataframe tbody tr th:only-of-type {\n        vertical-align: middle;\n    }\n\n    .dataframe tbody tr th {\n        vertical-align: top;\n    }\n\n    .dataframe thead th {\n        text-align: right;\n    }\n</style>\n<table border=\"1\" class=\"dataframe\">\n  <thead>\n    <tr style=\"text-align: right;\">\n      <th></th>\n      <th>fecha</th>\n      <th>crimen</th>\n      <th>categoria</th>\n      <th>colonia</th>\n      <th>long</th>\n      <th>lat</th>\n    </tr>\n  </thead>\n  <tbody>\n    <tr>\n      <th>0</th>\n      <td>2016-05-18 17:45:00</td>\n      <td>ROBO A TRANSEUNTE DE CELULAR CON VIOLENCIA</td>\n      <td>DELITO DE BAJO IMPACTO</td>\n      <td>DEFENSORES DE LA REPÚBLICA</td>\n      <td>-99.141133</td>\n      <td>19.472193</td>\n    </tr>\n    <tr>\n      <th>1</th>\n      <td>2016-05-18 14:00:00</td>\n      <td>VIOLENCIA FAMILIAR</td>\n      <td>DELITO DE BAJO IMPACTO</td>\n      <td>DEL CARMEN</td>\n      <td>-99.133885</td>\n      <td>19.542214</td>\n    </tr>\n    <tr>\n      <th>2</th>\n      <td>2016-05-19 13:20:00</td>\n      <td>ROBO A NEGOCIO SIN VIOLENCIA</td>\n      <td>DELITO DE BAJO IMPACTO</td>\n      <td>SANTIAGO ATZACOALCO</td>\n      <td>-99.097474</td>\n      <td>19.496379</td>\n    </tr>\n    <tr>\n      <th>3</th>\n      <td>2016-05-05 17:00:00</td>\n      <td>ROBO A NEGOCIO CON VIOLENCIA</td>\n      <td>ROBO A NEGOCIO CON VIOLENCIA</td>\n      <td>25 DE JULIO</td>\n      <td>-99.083278</td>\n      <td>19.495574</td>\n    </tr>\n    <tr>\n      <th>4</th>\n      <td>2016-05-19 13:35:00</td>\n      <td>ROBO A TRANSEUNTE EN VIA PUBLICA CON VIOLENCIA</td>\n      <td>ROBO A TRANSEUNTE EN VÍA PÚBLICA CON Y SIN VIO...</td>\n      <td>LA LAGUNA TICOMÁN</td>\n      <td>-99.132372</td>\n      <td>19.514183</td>\n    </tr>\n  </tbody>\n</table>\n</div>"
     },
=======
      "text/html": [
       "<div>\n",
       "<style scoped>\n",
       "    .dataframe tbody tr th:only-of-type {\n",
       "        vertical-align: middle;\n",
       "    }\n",
       "\n",
       "    .dataframe tbody tr th {\n",
       "        vertical-align: top;\n",
       "    }\n",
       "\n",
       "    .dataframe thead th {\n",
       "        text-align: right;\n",
       "    }\n",
       "</style>\n",
       "<table border=\"1\" class=\"dataframe\">\n",
       "  <thead>\n",
       "    <tr style=\"text-align: right;\">\n",
       "      <th></th>\n",
       "      <th>fecha</th>\n",
       "      <th>crimen</th>\n",
       "      <th>categoria</th>\n",
       "      <th>colonia</th>\n",
       "      <th>long</th>\n",
       "      <th>lat</th>\n",
       "    </tr>\n",
       "  </thead>\n",
       "  <tbody>\n",
       "    <tr>\n",
       "      <th>79997</th>\n",
       "      <td>2016-04-17 17:30:00</td>\n",
       "      <td>VIOLENCIA FAMILIAR</td>\n",
       "      <td>DELITO DE BAJO IMPACTO</td>\n",
       "      <td>PROVIDENCIA</td>\n",
       "      <td>-99.069072</td>\n",
       "      <td>19.482224</td>\n",
       "    </tr>\n",
       "    <tr>\n",
       "      <th>79998</th>\n",
       "      <td>2016-04-12 18:00:00</td>\n",
       "      <td>DENUNCIA DE HECHOS</td>\n",
       "      <td>HECHO NO DELICTIVO</td>\n",
       "      <td>BARRIO CANDELARIA TICOMÁN</td>\n",
       "      <td>-99.138402</td>\n",
       "      <td>19.518728</td>\n",
       "    </tr>\n",
       "    <tr>\n",
       "      <th>79999</th>\n",
       "      <td>2016-01-15 02:00:00</td>\n",
       "      <td>DAÑO EN PROPIEDAD AJENA CULPOSA POR TRÁNSITO V...</td>\n",
       "      <td>DELITO DE BAJO IMPACTO</td>\n",
       "      <td>GUADALUPE INSURGENTES</td>\n",
       "      <td>-99.133853</td>\n",
       "      <td>19.473836</td>\n",
       "    </tr>\n",
       "    <tr>\n",
       "      <th>80000</th>\n",
       "      <td>2016-01-14 23:15:00</td>\n",
       "      <td>AMENAZAS</td>\n",
       "      <td>DELITO DE BAJO IMPACTO</td>\n",
       "      <td>CHALMA DE GUADALUPE</td>\n",
       "      <td>-99.151921</td>\n",
       "      <td>19.553133</td>\n",
       "    </tr>\n",
       "    <tr>\n",
       "      <th>80001</th>\n",
       "      <td>2016-03-22 14:00:00</td>\n",
       "      <td>FRAUDE</td>\n",
       "      <td>DELITO DE BAJO IMPACTO</td>\n",
       "      <td>NUEVA VALLEJO</td>\n",
       "      <td>-99.155282</td>\n",
       "      <td>19.498603</td>\n",
       "    </tr>\n",
       "    <tr>\n",
       "      <th>...</th>\n",
       "      <td>...</td>\n",
       "      <td>...</td>\n",
       "      <td>...</td>\n",
       "      <td>...</td>\n",
       "      <td>...</td>\n",
       "      <td>...</td>\n",
       "    </tr>\n",
       "    <tr>\n",
       "      <th>80092</th>\n",
       "      <td>2017-01-03 12:00:00</td>\n",
       "      <td>FRAUDE</td>\n",
       "      <td>DELITO DE BAJO IMPACTO</td>\n",
       "      <td>INDUSTRIAL</td>\n",
       "      <td>-99.129614</td>\n",
       "      <td>19.472951</td>\n",
       "    </tr>\n",
       "    <tr>\n",
       "      <th>80093</th>\n",
       "      <td>2017-01-24 21:40:00</td>\n",
       "      <td>ROBO A TRANSEUNTE EN VIA PUBLICA CON VIOLENCIA</td>\n",
       "      <td>ROBO A TRANSEUNTE EN VÍA PÚBLICA CON Y SIN VIO...</td>\n",
       "      <td>SAN JUAN DE ARAGÓN IV SECCIÓN</td>\n",
       "      <td>-99.063838</td>\n",
       "      <td>19.452206</td>\n",
       "    </tr>\n",
       "    <tr>\n",
       "      <th>80094</th>\n",
       "      <td>2017-01-24 09:00:00</td>\n",
       "      <td>ROBO DE OBJETOS</td>\n",
       "      <td>DELITO DE BAJO IMPACTO</td>\n",
       "      <td>UNIDAD PROFESIONAL ADOLFO LOPEZ MATEOS</td>\n",
       "      <td>-99.136321</td>\n",
       "      <td>19.499410</td>\n",
       "    </tr>\n",
       "    <tr>\n",
       "      <th>80095</th>\n",
       "      <td>2017-01-25 11:15:00</td>\n",
       "      <td>ROBO A TRANSEUNTE EN VIA PUBLICA CON VIOLENCIA</td>\n",
       "      <td>ROBO A TRANSEUNTE EN VÍA PÚBLICA CON Y SIN VIO...</td>\n",
       "      <td>7 DE NOVIEMBRE</td>\n",
       "      <td>-99.122125</td>\n",
       "      <td>19.459943</td>\n",
       "    </tr>\n",
       "    <tr>\n",
       "      <th>80096</th>\n",
       "      <td>2017-01-29 09:00:00</td>\n",
       "      <td>DAÑO EN PROPIEDAD AJENA INTENCIONAL</td>\n",
       "      <td>DELITO DE BAJO IMPACTO</td>\n",
       "      <td>HÉROE DE NACOZARI</td>\n",
       "      <td>-99.141891</td>\n",
       "      <td>19.472007</td>\n",
       "    </tr>\n",
       "  </tbody>\n",
       "</table>\n",
       "<p>100 rows × 6 columns</p>\n",
       "</div>"
      ],
      "text/plain": [
       "                     fecha                                             crimen  \\\n",
       "79997  2016-04-17 17:30:00                                 VIOLENCIA FAMILIAR   \n",
       "79998  2016-04-12 18:00:00                                 DENUNCIA DE HECHOS   \n",
       "79999  2016-01-15 02:00:00  DAÑO EN PROPIEDAD AJENA CULPOSA POR TRÁNSITO V...   \n",
       "80000  2016-01-14 23:15:00                                           AMENAZAS   \n",
       "80001  2016-03-22 14:00:00                                             FRAUDE   \n",
       "...                    ...                                                ...   \n",
       "80092  2017-01-03 12:00:00                                             FRAUDE   \n",
       "80093  2017-01-24 21:40:00     ROBO A TRANSEUNTE EN VIA PUBLICA CON VIOLENCIA   \n",
       "80094  2017-01-24 09:00:00                                    ROBO DE OBJETOS   \n",
       "80095  2017-01-25 11:15:00     ROBO A TRANSEUNTE EN VIA PUBLICA CON VIOLENCIA   \n",
       "80096  2017-01-29 09:00:00                DAÑO EN PROPIEDAD AJENA INTENCIONAL   \n",
       "\n",
       "                                               categoria  \\\n",
       "79997                             DELITO DE BAJO IMPACTO   \n",
       "79998                                 HECHO NO DELICTIVO   \n",
       "79999                             DELITO DE BAJO IMPACTO   \n",
       "80000                             DELITO DE BAJO IMPACTO   \n",
       "80001                             DELITO DE BAJO IMPACTO   \n",
       "...                                                  ...   \n",
       "80092                             DELITO DE BAJO IMPACTO   \n",
       "80093  ROBO A TRANSEUNTE EN VÍA PÚBLICA CON Y SIN VIO...   \n",
       "80094                             DELITO DE BAJO IMPACTO   \n",
       "80095  ROBO A TRANSEUNTE EN VÍA PÚBLICA CON Y SIN VIO...   \n",
       "80096                             DELITO DE BAJO IMPACTO   \n",
       "\n",
       "                                      colonia       long        lat  \n",
       "79997                             PROVIDENCIA -99.069072  19.482224  \n",
       "79998               BARRIO CANDELARIA TICOMÁN -99.138402  19.518728  \n",
       "79999                   GUADALUPE INSURGENTES -99.133853  19.473836  \n",
       "80000                     CHALMA DE GUADALUPE -99.151921  19.553133  \n",
       "80001                           NUEVA VALLEJO -99.155282  19.498603  \n",
       "...                                       ...        ...        ...  \n",
       "80092                              INDUSTRIAL -99.129614  19.472951  \n",
       "80093           SAN JUAN DE ARAGÓN IV SECCIÓN -99.063838  19.452206  \n",
       "80094  UNIDAD PROFESIONAL ADOLFO LOPEZ MATEOS -99.136321  19.499410  \n",
       "80095                          7 DE NOVIEMBRE -99.122125  19.459943  \n",
       "80096                       HÉROE DE NACOZARI -99.141891  19.472007  \n",
       "\n",
       "[100 rows x 6 columns]"
      ]
     },
     "execution_count": 30,
>>>>>>> 6c7669c61f3ac62e11fa55e52d3f2fc4c63cf997
     "metadata": {},
     "execution_count": 3
    }
   ],
   "source": [
    "datos = pd.read_csv('../Archivos/crimenes-GAM-todos.csv')\n",
    "datos"
   ]
  },
  {
   "cell_type": "code",
   "execution_count": 4,
   "metadata": {},
   "outputs": [
    {
     "output_type": "execute_result",
     "data": {
      "text/plain": "(99639, 6)"
     },
     "metadata": {},
     "execution_count": 4
    }
   ],
   "source": [
    "datos.shape"
   ]
  },
  {
   "cell_type": "code",
   "execution_count": 5,
   "metadata": {},
   "outputs": [
    {
     "output_type": "execute_result",
     "data": {
      "text/plain": "fecha         object\ncrimen        object\ncategoria     object\ncolonia       object\nlong         float64\nlat          float64\ndtype: object"
     },
     "metadata": {},
     "execution_count": 5
    }
   ],
   "source": [
    "datos.dtypes"
   ]
  },
  {
   "cell_type": "code",
   "execution_count": 6,
   "metadata": {},
   "outputs": [
    {
     "output_type": "execute_result",
     "data": {
      "text/plain": "fecha         string\ncrimen        string\ncategoria     string\ncolonia       string\nlong         float64\nlat          float64\ndtype: object"
     },
     "metadata": {},
     "execution_count": 6
    }
   ],
   "source": [
    "crimenes = datos.convert_dtypes()\n",
    "crimenes.dtypes"
   ]
  },
  {
   "cell_type": "code",
   "execution_count": 7,
   "metadata": {},
   "outputs": [
    {
     "output_type": "execute_result",
     "data": {
      "text/plain": "<StringArray>\n[                                 'DELITO DE BAJO IMPACTO',\n                            'ROBO A NEGOCIO CON VIOLENCIA',\n    'ROBO A TRANSEUNTE EN VÍA PÚBLICA CON Y SIN VIOLENCIA',\n                    'ROBO DE VEHÍCULO CON Y SIN VIOLENCIA',\n                    'ROBO A CASA HABITACIÓN CON VIOLENCIA',\n                                        'HOMICIDIO DOLOSO',\n                                      'HECHO NO DELICTIVO',\n 'ROBO A PASAJERO A BORDO DE MICROBUS CON Y SIN VIOLENCIA',\n           'LESIONES DOLOSAS POR DISPARO DE ARMA DE FUEGO',\n   'ROBO A PASAJERO A BORDO DEL METRO CON Y SIN VIOLENCIA',\n 'ROBO A CUENTAHABIENTE SALIENDO DEL CAJERO CON VIOLENCIA',\n                   'ROBO A REPARTIDOR CON Y SIN VIOLENCIA',\n           'ROBO A PASAJERO A BORDO DE TAXI CON VIOLENCIA',\n                'ROBO A TRANSPORTISTA CON Y SIN VIOLENCIA',\n                                               'VIOLACIÓN',\n                                               'SECUESTRO']\nLength: 16, dtype: string"
     },
     "metadata": {},
     "execution_count": 7
    }
   ],
   "source": [
    "crimenes['categoria'].unique()"
   ]
  },
  {
   "cell_type": "code",
<<<<<<< HEAD
   "execution_count": 8,
=======
   "execution_count": 28,
>>>>>>> 6c7669c61f3ac62e11fa55e52d3f2fc4c63cf997
   "metadata": {},
   "outputs": [
    {
     "output_type": "execute_result",
     "data": {
<<<<<<< HEAD
      "text/plain": "                                            categoria  cuenta_delito\n14                                          SECUESTRO             16\n12           ROBO A TRANSPORTISTA CON Y SIN VIOLENCIA             84\n8       ROBO A PASAJERO A BORDO DE TAXI CON VIOLENCIA             99\n5   ROBO A CUENTAHABIENTE SALIENDO DEL CAJERO CON ...            243\n4                ROBO A CASA HABITACIÓN CON VIOLENCIA            301\n15                                          VIOLACIÓN            428\n9   ROBO A PASAJERO A BORDO DEL METRO CON Y SIN VI...            447\n7   ROBO A PASAJERO A BORDO DE MICROBUS CON Y SIN ...            498\n2                                    HOMICIDIO DOLOSO            921\n3       LESIONES DOLOSAS POR DISPARO DE ARMA DE FUEGO           1267\n10              ROBO A REPARTIDOR CON Y SIN VIOLENCIA           1405\n6                        ROBO A NEGOCIO CON VIOLENCIA           1922\n1                                  HECHO NO DELICTIVO           5078\n11  ROBO A TRANSEUNTE EN VÍA PÚBLICA CON Y SIN VIO...           5803\n13               ROBO DE VEHÍCULO CON Y SIN VIOLENCIA           7754\n0                              DELITO DE BAJO IMPACTO          73373",
      "text/html": "<div>\n<style scoped>\n    .dataframe tbody tr th:only-of-type {\n        vertical-align: middle;\n    }\n\n    .dataframe tbody tr th {\n        vertical-align: top;\n    }\n\n    .dataframe thead th {\n        text-align: right;\n    }\n</style>\n<table border=\"1\" class=\"dataframe\">\n  <thead>\n    <tr style=\"text-align: right;\">\n      <th></th>\n      <th>categoria</th>\n      <th>cuenta_delito</th>\n    </tr>\n  </thead>\n  <tbody>\n    <tr>\n      <th>14</th>\n      <td>SECUESTRO</td>\n      <td>16</td>\n    </tr>\n    <tr>\n      <th>12</th>\n      <td>ROBO A TRANSPORTISTA CON Y SIN VIOLENCIA</td>\n      <td>84</td>\n    </tr>\n    <tr>\n      <th>8</th>\n      <td>ROBO A PASAJERO A BORDO DE TAXI CON VIOLENCIA</td>\n      <td>99</td>\n    </tr>\n    <tr>\n      <th>5</th>\n      <td>ROBO A CUENTAHABIENTE SALIENDO DEL CAJERO CON ...</td>\n      <td>243</td>\n    </tr>\n    <tr>\n      <th>4</th>\n      <td>ROBO A CASA HABITACIÓN CON VIOLENCIA</td>\n      <td>301</td>\n    </tr>\n    <tr>\n      <th>15</th>\n      <td>VIOLACIÓN</td>\n      <td>428</td>\n    </tr>\n    <tr>\n      <th>9</th>\n      <td>ROBO A PASAJERO A BORDO DEL METRO CON Y SIN VI...</td>\n      <td>447</td>\n    </tr>\n    <tr>\n      <th>7</th>\n      <td>ROBO A PASAJERO A BORDO DE MICROBUS CON Y SIN ...</td>\n      <td>498</td>\n    </tr>\n    <tr>\n      <th>2</th>\n      <td>HOMICIDIO DOLOSO</td>\n      <td>921</td>\n    </tr>\n    <tr>\n      <th>3</th>\n      <td>LESIONES DOLOSAS POR DISPARO DE ARMA DE FUEGO</td>\n      <td>1267</td>\n    </tr>\n    <tr>\n      <th>10</th>\n      <td>ROBO A REPARTIDOR CON Y SIN VIOLENCIA</td>\n      <td>1405</td>\n    </tr>\n    <tr>\n      <th>6</th>\n      <td>ROBO A NEGOCIO CON VIOLENCIA</td>\n      <td>1922</td>\n    </tr>\n    <tr>\n      <th>1</th>\n      <td>HECHO NO DELICTIVO</td>\n      <td>5078</td>\n    </tr>\n    <tr>\n      <th>11</th>\n      <td>ROBO A TRANSEUNTE EN VÍA PÚBLICA CON Y SIN VIO...</td>\n      <td>5803</td>\n    </tr>\n    <tr>\n      <th>13</th>\n      <td>ROBO DE VEHÍCULO CON Y SIN VIOLENCIA</td>\n      <td>7754</td>\n    </tr>\n    <tr>\n      <th>0</th>\n      <td>DELITO DE BAJO IMPACTO</td>\n      <td>73373</td>\n    </tr>\n  </tbody>\n</table>\n</div>"
     },
=======
      "text/html": [
       "<div>\n",
       "<style scoped>\n",
       "    .dataframe tbody tr th:only-of-type {\n",
       "        vertical-align: middle;\n",
       "    }\n",
       "\n",
       "    .dataframe tbody tr th {\n",
       "        vertical-align: top;\n",
       "    }\n",
       "\n",
       "    .dataframe thead th {\n",
       "        text-align: right;\n",
       "    }\n",
       "</style>\n",
       "<table border=\"1\" class=\"dataframe\">\n",
       "  <thead>\n",
       "    <tr style=\"text-align: right;\">\n",
       "      <th></th>\n",
       "      <th>index</th>\n",
       "      <th>categoria</th>\n",
       "      <th>total</th>\n",
       "    </tr>\n",
       "  </thead>\n",
       "  <tbody>\n",
       "    <tr>\n",
       "      <th>0</th>\n",
       "      <td>14</td>\n",
       "      <td>SECUESTRO</td>\n",
       "      <td>11</td>\n",
       "    </tr>\n",
       "    <tr>\n",
       "      <th>1</th>\n",
       "      <td>12</td>\n",
       "      <td>ROBO A TRANSPORTISTA CON Y SIN VIOLENCIA</td>\n",
       "      <td>62</td>\n",
       "    </tr>\n",
       "    <tr>\n",
       "      <th>2</th>\n",
       "      <td>8</td>\n",
       "      <td>ROBO A PASAJERO A BORDO DE TAXI CON VIOLENCIA</td>\n",
       "      <td>74</td>\n",
       "    </tr>\n",
       "    <tr>\n",
       "      <th>3</th>\n",
       "      <td>5</td>\n",
       "      <td>ROBO A CUENTAHABIENTE SALIENDO DEL CAJERO CON ...</td>\n",
       "      <td>182</td>\n",
       "    </tr>\n",
       "    <tr>\n",
       "      <th>4</th>\n",
       "      <td>4</td>\n",
       "      <td>ROBO A CASA HABITACIÓN CON VIOLENCIA</td>\n",
       "      <td>241</td>\n",
       "    </tr>\n",
       "    <tr>\n",
       "      <th>5</th>\n",
       "      <td>9</td>\n",
       "      <td>ROBO A PASAJERO A BORDO DEL METRO CON Y SIN VI...</td>\n",
       "      <td>241</td>\n",
       "    </tr>\n",
       "    <tr>\n",
       "      <th>6</th>\n",
       "      <td>7</td>\n",
       "      <td>ROBO A PASAJERO A BORDO DE MICROBUS CON Y SIN ...</td>\n",
       "      <td>419</td>\n",
       "    </tr>\n",
       "    <tr>\n",
       "      <th>7</th>\n",
       "      <td>2</td>\n",
       "      <td>HOMICIDIO DOLOSO</td>\n",
       "      <td>739</td>\n",
       "    </tr>\n",
       "    <tr>\n",
       "      <th>8</th>\n",
       "      <td>10</td>\n",
       "      <td>ROBO A REPARTIDOR CON Y SIN VIOLENCIA</td>\n",
       "      <td>1067</td>\n",
       "    </tr>\n",
       "    <tr>\n",
       "      <th>9</th>\n",
       "      <td>3</td>\n",
       "      <td>LESIONES DOLOSAS POR DISPARO DE ARMA DE FUEGO</td>\n",
       "      <td>1111</td>\n",
       "    </tr>\n",
       "    <tr>\n",
       "      <th>10</th>\n",
       "      <td>6</td>\n",
       "      <td>ROBO A NEGOCIO CON VIOLENCIA</td>\n",
       "      <td>1369</td>\n",
       "    </tr>\n",
       "    <tr>\n",
       "      <th>11</th>\n",
       "      <td>11</td>\n",
       "      <td>ROBO A TRANSEUNTE EN VÍA PÚBLICA CON Y SIN VIO...</td>\n",
       "      <td>3524</td>\n",
       "    </tr>\n",
       "    <tr>\n",
       "      <th>12</th>\n",
       "      <td>1</td>\n",
       "      <td>HECHO NO DELICTIVO</td>\n",
       "      <td>5154</td>\n",
       "    </tr>\n",
       "    <tr>\n",
       "      <th>13</th>\n",
       "      <td>13</td>\n",
       "      <td>ROBO DE VEHÍCULO CON Y SIN VIOLENCIA</td>\n",
       "      <td>6075</td>\n",
       "    </tr>\n",
       "    <tr>\n",
       "      <th>14</th>\n",
       "      <td>0</td>\n",
       "      <td>DELITO DE BAJO IMPACTO</td>\n",
       "      <td>59610</td>\n",
       "    </tr>\n",
       "  </tbody>\n",
       "</table>\n",
       "</div>"
      ],
      "text/plain": [
       "    index                                          categoria  total\n",
       "0      14                                          SECUESTRO     11\n",
       "1      12           ROBO A TRANSPORTISTA CON Y SIN VIOLENCIA     62\n",
       "2       8      ROBO A PASAJERO A BORDO DE TAXI CON VIOLENCIA     74\n",
       "3       5  ROBO A CUENTAHABIENTE SALIENDO DEL CAJERO CON ...    182\n",
       "4       4               ROBO A CASA HABITACIÓN CON VIOLENCIA    241\n",
       "5       9  ROBO A PASAJERO A BORDO DEL METRO CON Y SIN VI...    241\n",
       "6       7  ROBO A PASAJERO A BORDO DE MICROBUS CON Y SIN ...    419\n",
       "7       2                                   HOMICIDIO DOLOSO    739\n",
       "8      10              ROBO A REPARTIDOR CON Y SIN VIOLENCIA   1067\n",
       "9       3      LESIONES DOLOSAS POR DISPARO DE ARMA DE FUEGO   1111\n",
       "10      6                       ROBO A NEGOCIO CON VIOLENCIA   1369\n",
       "11     11  ROBO A TRANSEUNTE EN VÍA PÚBLICA CON Y SIN VIO...   3524\n",
       "12      1                                 HECHO NO DELICTIVO   5154\n",
       "13     13               ROBO DE VEHÍCULO CON Y SIN VIOLENCIA   6075\n",
       "14      0                             DELITO DE BAJO IMPACTO  59610"
      ]
     },
     "execution_count": 28,
>>>>>>> 6c7669c61f3ac62e11fa55e52d3f2fc4c63cf997
     "metadata": {},
     "execution_count": 8
    }
   ],
   "source": [
    "crimenes.groupby(['categoria']).size().to_frame().reset_index().rename(columns={\n",
    "    0:'total'\n",
    "}).sort_values(by='total',ascending=True).reset_index()"
   ]
  },
  {
   "cell_type": "code",
   "execution_count": 9,
   "metadata": {},
   "outputs": [],
   "source": [
    "def tabla_frecuencias_categoria(categoria, ascendente):\n",
    "    return crimenes[crimenes['categoria']==categoria].groupby(['crimen']).size().to_frame().reset_index().rename(columns={\n",
    "    0:'Total'\n",
    "}).sort_values(by='Total',ascending=~ascendente)"
   ]
  },
  {
   "cell_type": "code",
   "execution_count": 10,
   "metadata": {},
   "outputs": [
    {
     "output_type": "execute_result",
     "data": {
      "text/plain": "10"
     },
     "metadata": {},
     "execution_count": 10
    }
   ],
   "source": [
    "pd.isnull(crimenes['fecha']).values.ravel().sum()"
   ]
  },
  {
   "cell_type": "markdown",
   "metadata": {},
   "source": [
    "# Secuestro"
   ]
  },
  {
   "cell_type": "code",
   "execution_count": 11,
   "metadata": {},
   "outputs": [
    {
     "output_type": "execute_result",
     "data": {
      "text/plain": "               crimen  Total\n0  PLAGIO O SECUESTRO     16",
      "text/html": "<div>\n<style scoped>\n    .dataframe tbody tr th:only-of-type {\n        vertical-align: middle;\n    }\n\n    .dataframe tbody tr th {\n        vertical-align: top;\n    }\n\n    .dataframe thead th {\n        text-align: right;\n    }\n</style>\n<table border=\"1\" class=\"dataframe\">\n  <thead>\n    <tr style=\"text-align: right;\">\n      <th></th>\n      <th>crimen</th>\n      <th>Total</th>\n    </tr>\n  </thead>\n  <tbody>\n    <tr>\n      <th>0</th>\n      <td>PLAGIO O SECUESTRO</td>\n      <td>16</td>\n    </tr>\n  </tbody>\n</table>\n</div>"
     },
     "metadata": {},
     "execution_count": 11
    }
   ],
   "source": [
    "tabla_frecuencias_categoria('SECUESTRO', True)"
   ]
  },
  {
   "cell_type": "markdown",
   "metadata": {},
   "source": [
    "# Robo a transportista con y sin violencia"
   ]
  },
  {
   "cell_type": "code",
   "execution_count": 12,
   "metadata": {},
   "outputs": [
    {
     "output_type": "execute_result",
     "data": {
      "text/plain": "                                              crimen  Total\n1  ROBO A TRANSPORTISTA Y VEHICULO PESADO SIN VIO...      8\n0  ROBO A TRANSPORTISTA Y VEHICULO PESADO CON VIO...     76",
      "text/html": "<div>\n<style scoped>\n    .dataframe tbody tr th:only-of-type {\n        vertical-align: middle;\n    }\n\n    .dataframe tbody tr th {\n        vertical-align: top;\n    }\n\n    .dataframe thead th {\n        text-align: right;\n    }\n</style>\n<table border=\"1\" class=\"dataframe\">\n  <thead>\n    <tr style=\"text-align: right;\">\n      <th></th>\n      <th>crimen</th>\n      <th>Total</th>\n    </tr>\n  </thead>\n  <tbody>\n    <tr>\n      <th>1</th>\n      <td>ROBO A TRANSPORTISTA Y VEHICULO PESADO SIN VIO...</td>\n      <td>8</td>\n    </tr>\n    <tr>\n      <th>0</th>\n      <td>ROBO A TRANSPORTISTA Y VEHICULO PESADO CON VIO...</td>\n      <td>76</td>\n    </tr>\n  </tbody>\n</table>\n</div>"
     },
     "metadata": {},
     "execution_count": 12
    }
   ],
   "source": [
    "tabla_frecuencias_categoria('ROBO A TRANSPORTISTA CON Y SIN VIOLENCIA', True)"
   ]
  },
  {
   "cell_type": "markdown",
   "metadata": {},
   "source": [
    " # Robo a pasajero a bordo de taxi con violencia"
   ]
  },
  {
   "cell_type": "code",
   "execution_count": 13,
   "metadata": {},
   "outputs": [
    {
     "output_type": "execute_result",
     "data": {
      "text/plain": "                                              crimen  Total\n1  ROBO A TRANSEUNTE A BORDO DE TAXI PÚBLICO Y PR...     45\n0      ROBO A PASAJERO A BORDO DE TAXI CON VIOLENCIA     54",
      "text/html": "<div>\n<style scoped>\n    .dataframe tbody tr th:only-of-type {\n        vertical-align: middle;\n    }\n\n    .dataframe tbody tr th {\n        vertical-align: top;\n    }\n\n    .dataframe thead th {\n        text-align: right;\n    }\n</style>\n<table border=\"1\" class=\"dataframe\">\n  <thead>\n    <tr style=\"text-align: right;\">\n      <th></th>\n      <th>crimen</th>\n      <th>Total</th>\n    </tr>\n  </thead>\n  <tbody>\n    <tr>\n      <th>1</th>\n      <td>ROBO A TRANSEUNTE A BORDO DE TAXI PÚBLICO Y PR...</td>\n      <td>45</td>\n    </tr>\n    <tr>\n      <th>0</th>\n      <td>ROBO A PASAJERO A BORDO DE TAXI CON VIOLENCIA</td>\n      <td>54</td>\n    </tr>\n  </tbody>\n</table>\n</div>"
     },
     "metadata": {},
     "execution_count": 13
    }
   ],
   "source": [
    "tabla_frecuencias_categoria('ROBO A PASAJERO A BORDO DE TAXI CON VIOLENCIA', True)"
   ]
  },
  {
   "cell_type": "markdown",
   "metadata": {},
   "source": [
    "# Robo a cuentahabiente saliendo del cajero con violencia"
   ]
  },
  {
   "cell_type": "code",
   "execution_count": 14,
   "metadata": {},
   "outputs": [
    {
     "output_type": "execute_result",
     "data": {
      "text/plain": "                                              crimen  Total\n1  ROBO A TRANSEUNTE SALIENDO DEL CAJERO CON VIOL...     37\n0  ROBO A TRANSEUNTE SALIENDO DEL BANCO CON VIOLE...    206",
      "text/html": "<div>\n<style scoped>\n    .dataframe tbody tr th:only-of-type {\n        vertical-align: middle;\n    }\n\n    .dataframe tbody tr th {\n        vertical-align: top;\n    }\n\n    .dataframe thead th {\n        text-align: right;\n    }\n</style>\n<table border=\"1\" class=\"dataframe\">\n  <thead>\n    <tr style=\"text-align: right;\">\n      <th></th>\n      <th>crimen</th>\n      <th>Total</th>\n    </tr>\n  </thead>\n  <tbody>\n    <tr>\n      <th>1</th>\n      <td>ROBO A TRANSEUNTE SALIENDO DEL CAJERO CON VIOL...</td>\n      <td>37</td>\n    </tr>\n    <tr>\n      <th>0</th>\n      <td>ROBO A TRANSEUNTE SALIENDO DEL BANCO CON VIOLE...</td>\n      <td>206</td>\n    </tr>\n  </tbody>\n</table>\n</div>"
     },
     "metadata": {},
     "execution_count": 14
    }
   ],
   "source": [
    "tabla_frecuencias_categoria('ROBO A CUENTAHABIENTE SALIENDO DEL CAJERO CON VIOLENCIA', True)"
   ]
  },
  {
   "cell_type": "markdown",
   "metadata": {},
   "source": [
    "# Violación"
   ]
  },
  {
   "cell_type": "code",
   "execution_count": 15,
   "metadata": {},
   "outputs": [
    {
     "output_type": "execute_result",
     "data": {
      "text/plain": "                              crimen  Total\n2  VIOLACION EQUIPARADA POR CONOCIDO      2\n3              VIOLACION TUMULTUARIA      7\n1               VIOLACION EQUIPARADA     45\n0                          VIOLACION    374",
      "text/html": "<div>\n<style scoped>\n    .dataframe tbody tr th:only-of-type {\n        vertical-align: middle;\n    }\n\n    .dataframe tbody tr th {\n        vertical-align: top;\n    }\n\n    .dataframe thead th {\n        text-align: right;\n    }\n</style>\n<table border=\"1\" class=\"dataframe\">\n  <thead>\n    <tr style=\"text-align: right;\">\n      <th></th>\n      <th>crimen</th>\n      <th>Total</th>\n    </tr>\n  </thead>\n  <tbody>\n    <tr>\n      <th>2</th>\n      <td>VIOLACION EQUIPARADA POR CONOCIDO</td>\n      <td>2</td>\n    </tr>\n    <tr>\n      <th>3</th>\n      <td>VIOLACION TUMULTUARIA</td>\n      <td>7</td>\n    </tr>\n    <tr>\n      <th>1</th>\n      <td>VIOLACION EQUIPARADA</td>\n      <td>45</td>\n    </tr>\n    <tr>\n      <th>0</th>\n      <td>VIOLACION</td>\n      <td>374</td>\n    </tr>\n  </tbody>\n</table>\n</div>"
     },
     "metadata": {},
     "execution_count": 15
    }
   ],
   "source": [
    "tabla_frecuencias_categoria('VIOLACIÓN', True)"
   ]
  },
  {
   "cell_type": "code",
   "execution_count": 16,
   "metadata": {},
   "outputs": [
    {
     "output_type": "execute_result",
     "data": {
      "text/plain": "(99211, 6)"
     },
     "metadata": {},
     "execution_count": 16
    }
   ],
   "source": [
    "crimenes = crimenes[crimenes['categoria']!='VIOLACIÓN']\n",
    "crimenes.shape"
   ]
  },
  {
   "cell_type": "markdown",
   "metadata": {},
   "source": [
    "# Robo a casa habitación con violencia"
   ]
  },
  {
   "cell_type": "code",
   "execution_count": 17,
   "metadata": {},
   "outputs": [
    {
     "output_type": "execute_result",
     "data": {
      "text/plain": "                                            crimen  Total\n1  ROBO A CASA HABITACION Y VEHICULO CON VIOLENCIA     46\n0             ROBO A CASA HABITACION CON VIOLENCIA    255",
      "text/html": "<div>\n<style scoped>\n    .dataframe tbody tr th:only-of-type {\n        vertical-align: middle;\n    }\n\n    .dataframe tbody tr th {\n        vertical-align: top;\n    }\n\n    .dataframe thead th {\n        text-align: right;\n    }\n</style>\n<table border=\"1\" class=\"dataframe\">\n  <thead>\n    <tr style=\"text-align: right;\">\n      <th></th>\n      <th>crimen</th>\n      <th>Total</th>\n    </tr>\n  </thead>\n  <tbody>\n    <tr>\n      <th>1</th>\n      <td>ROBO A CASA HABITACION Y VEHICULO CON VIOLENCIA</td>\n      <td>46</td>\n    </tr>\n    <tr>\n      <th>0</th>\n      <td>ROBO A CASA HABITACION CON VIOLENCIA</td>\n      <td>255</td>\n    </tr>\n  </tbody>\n</table>\n</div>"
     },
     "metadata": {},
     "execution_count": 17
    }
   ],
   "source": [
    "tabla_frecuencias_categoria('ROBO A CASA HABITACIÓN CON VIOLENCIA', True)"
   ]
  },
  {
   "cell_type": "markdown",
   "metadata": {},
   "source": [
    "#  Robo a pasajero a bordo del metro con y sin violencia"
   ]
  },
  {
   "cell_type": "code",
   "execution_count": 18,
   "metadata": {},
   "outputs": [
    {
     "output_type": "execute_result",
     "data": {
      "text/plain": "                                           crimen  Total\n0  ROBO A PASAJERO A BORDO DE METRO CON VIOLENCIA     56\n1  ROBO A PASAJERO A BORDO DE METRO SIN VIOLENCIA    391",
      "text/html": "<div>\n<style scoped>\n    .dataframe tbody tr th:only-of-type {\n        vertical-align: middle;\n    }\n\n    .dataframe tbody tr th {\n        vertical-align: top;\n    }\n\n    .dataframe thead th {\n        text-align: right;\n    }\n</style>\n<table border=\"1\" class=\"dataframe\">\n  <thead>\n    <tr style=\"text-align: right;\">\n      <th></th>\n      <th>crimen</th>\n      <th>Total</th>\n    </tr>\n  </thead>\n  <tbody>\n    <tr>\n      <th>0</th>\n      <td>ROBO A PASAJERO A BORDO DE METRO CON VIOLENCIA</td>\n      <td>56</td>\n    </tr>\n    <tr>\n      <th>1</th>\n      <td>ROBO A PASAJERO A BORDO DE METRO SIN VIOLENCIA</td>\n      <td>391</td>\n    </tr>\n  </tbody>\n</table>\n</div>"
     },
     "metadata": {},
     "execution_count": 18
    }
   ],
   "source": [
    "tabla_frecuencias_categoria('ROBO A PASAJERO A BORDO DEL METRO CON Y SIN VIOLENCIA', True)"
   ]
  },
  {
   "cell_type": "markdown",
   "metadata": {},
   "source": [
    "# Robo a pasajero a bordo de microbus con y sin violencia"
   ]
  },
  {
   "cell_type": "code",
   "execution_count": 19,
   "metadata": {},
   "outputs": [
    {
     "output_type": "execute_result",
     "data": {
      "text/plain": "                                              crimen  Total\n1  ROBO A PASAJERO A BORDO DE PESERO COLECTIVO SI...     34\n0  ROBO A PASAJERO A BORDO DE PESERO COLECTIVO CO...    464",
      "text/html": "<div>\n<style scoped>\n    .dataframe tbody tr th:only-of-type {\n        vertical-align: middle;\n    }\n\n    .dataframe tbody tr th {\n        vertical-align: top;\n    }\n\n    .dataframe thead th {\n        text-align: right;\n    }\n</style>\n<table border=\"1\" class=\"dataframe\">\n  <thead>\n    <tr style=\"text-align: right;\">\n      <th></th>\n      <th>crimen</th>\n      <th>Total</th>\n    </tr>\n  </thead>\n  <tbody>\n    <tr>\n      <th>1</th>\n      <td>ROBO A PASAJERO A BORDO DE PESERO COLECTIVO SI...</td>\n      <td>34</td>\n    </tr>\n    <tr>\n      <th>0</th>\n      <td>ROBO A PASAJERO A BORDO DE PESERO COLECTIVO CO...</td>\n      <td>464</td>\n    </tr>\n  </tbody>\n</table>\n</div>"
     },
     "metadata": {},
     "execution_count": 19
    }
   ],
   "source": [
    "tabla_frecuencias_categoria('ROBO A PASAJERO A BORDO DE MICROBUS CON Y SIN VIOLENCIA', True)"
   ]
  },
  {
   "cell_type": "markdown",
   "metadata": {},
   "source": [
    "# Homicidio doloso"
   ]
  },
  {
   "cell_type": "code",
   "execution_count": 20,
   "metadata": {},
   "outputs": [
    {
     "output_type": "execute_result",
     "data": {
      "text/plain": "                                     crimen  Total\n2  FEMINICIDIO POR DISPARO DE ARMA DE FUEGO      1\n4                HOMICIDIO POR AHORCAMIENTO      1\n3                    FEMINICIDIO POR GOLPES      2\n1               FEMINICIDIO POR ARMA BLANCA      5\n0                               FEMINICIDIO     22\n7                      HOMICIDIO POR GOLPES     50\n8          HOMICIDIOS INTENCIONALES (OTROS)     56\n5                 HOMICIDIO POR ARMA BLANCA     81\n6               HOMICIDIO POR ARMA DE FUEGO    703",
      "text/html": "<div>\n<style scoped>\n    .dataframe tbody tr th:only-of-type {\n        vertical-align: middle;\n    }\n\n    .dataframe tbody tr th {\n        vertical-align: top;\n    }\n\n    .dataframe thead th {\n        text-align: right;\n    }\n</style>\n<table border=\"1\" class=\"dataframe\">\n  <thead>\n    <tr style=\"text-align: right;\">\n      <th></th>\n      <th>crimen</th>\n      <th>Total</th>\n    </tr>\n  </thead>\n  <tbody>\n    <tr>\n      <th>2</th>\n      <td>FEMINICIDIO POR DISPARO DE ARMA DE FUEGO</td>\n      <td>1</td>\n    </tr>\n    <tr>\n      <th>4</th>\n      <td>HOMICIDIO POR AHORCAMIENTO</td>\n      <td>1</td>\n    </tr>\n    <tr>\n      <th>3</th>\n      <td>FEMINICIDIO POR GOLPES</td>\n      <td>2</td>\n    </tr>\n    <tr>\n      <th>1</th>\n      <td>FEMINICIDIO POR ARMA BLANCA</td>\n      <td>5</td>\n    </tr>\n    <tr>\n      <th>0</th>\n      <td>FEMINICIDIO</td>\n      <td>22</td>\n    </tr>\n    <tr>\n      <th>7</th>\n      <td>HOMICIDIO POR GOLPES</td>\n      <td>50</td>\n    </tr>\n    <tr>\n      <th>8</th>\n      <td>HOMICIDIOS INTENCIONALES (OTROS)</td>\n      <td>56</td>\n    </tr>\n    <tr>\n      <th>5</th>\n      <td>HOMICIDIO POR ARMA BLANCA</td>\n      <td>81</td>\n    </tr>\n    <tr>\n      <th>6</th>\n      <td>HOMICIDIO POR ARMA DE FUEGO</td>\n      <td>703</td>\n    </tr>\n  </tbody>\n</table>\n</div>"
     },
     "metadata": {},
     "execution_count": 20
    }
   ],
   "source": [
    "tabla_frecuencias_categoria('HOMICIDIO DOLOSO', True)"
   ]
  },
  {
   "cell_type": "markdown",
   "metadata": {},
   "source": [
    "# Robo a repartidor con y sin violencia"
   ]
  },
  {
   "cell_type": "code",
   "execution_count": 21,
   "metadata": {},
   "outputs": [
    {
     "output_type": "execute_result",
     "data": {
      "text/plain": "                                       crimen  Total\n3  ROBO A REPARTIDOR Y VEHICULO SIN VIOLENCIA     15\n2  ROBO A REPARTIDOR Y VEHICULO CON VIOLENCIA     82\n1             ROBO A REPARTIDOR SIN VIOLENCIA    178\n0             ROBO A REPARTIDOR CON VIOLENCIA   1130",
      "text/html": "<div>\n<style scoped>\n    .dataframe tbody tr th:only-of-type {\n        vertical-align: middle;\n    }\n\n    .dataframe tbody tr th {\n        vertical-align: top;\n    }\n\n    .dataframe thead th {\n        text-align: right;\n    }\n</style>\n<table border=\"1\" class=\"dataframe\">\n  <thead>\n    <tr style=\"text-align: right;\">\n      <th></th>\n      <th>crimen</th>\n      <th>Total</th>\n    </tr>\n  </thead>\n  <tbody>\n    <tr>\n      <th>3</th>\n      <td>ROBO A REPARTIDOR Y VEHICULO SIN VIOLENCIA</td>\n      <td>15</td>\n    </tr>\n    <tr>\n      <th>2</th>\n      <td>ROBO A REPARTIDOR Y VEHICULO CON VIOLENCIA</td>\n      <td>82</td>\n    </tr>\n    <tr>\n      <th>1</th>\n      <td>ROBO A REPARTIDOR SIN VIOLENCIA</td>\n      <td>178</td>\n    </tr>\n    <tr>\n      <th>0</th>\n      <td>ROBO A REPARTIDOR CON VIOLENCIA</td>\n      <td>1130</td>\n    </tr>\n  </tbody>\n</table>\n</div>"
     },
     "metadata": {},
     "execution_count": 21
    }
   ],
   "source": [
    "tabla_frecuencias_categoria('ROBO A REPARTIDOR CON Y SIN VIOLENCIA', True)"
   ]
  },
  {
   "cell_type": "markdown",
   "metadata": {},
   "source": [
    "# Lesiones dolosas por disparo de arma de fuego"
   ]
  },
  {
   "cell_type": "code",
   "execution_count": 22,
   "metadata": {},
   "outputs": [
    {
     "output_type": "execute_result",
     "data": {
      "text/plain": "                                     crimen  Total\n0  LESIONES INTENCIONALES POR ARMA DE FUEGO   1267",
      "text/html": "<div>\n<style scoped>\n    .dataframe tbody tr th:only-of-type {\n        vertical-align: middle;\n    }\n\n    .dataframe tbody tr th {\n        vertical-align: top;\n    }\n\n    .dataframe thead th {\n        text-align: right;\n    }\n</style>\n<table border=\"1\" class=\"dataframe\">\n  <thead>\n    <tr style=\"text-align: right;\">\n      <th></th>\n      <th>crimen</th>\n      <th>Total</th>\n    </tr>\n  </thead>\n  <tbody>\n    <tr>\n      <th>0</th>\n      <td>LESIONES INTENCIONALES POR ARMA DE FUEGO</td>\n      <td>1267</td>\n    </tr>\n  </tbody>\n</table>\n</div>"
     },
     "metadata": {},
     "execution_count": 22
    }
   ],
   "source": [
    "tabla_frecuencias_categoria('LESIONES DOLOSAS POR DISPARO DE ARMA DE FUEGO', True)"
   ]
  },
  {
   "cell_type": "markdown",
   "metadata": {},
   "source": [
    "# Robo a negocio con violencia"
   ]
  },
  {
   "cell_type": "code",
   "execution_count": 23,
   "metadata": {},
   "outputs": [
    {
     "output_type": "execute_result",
     "data": {
      "text/plain": "                                              crimen  Total\n6  ROBO A SUCURSAL BANCARIA (SUPERMERCADO) CON VI...      1\n7             ROBO A SUCURSAL BANCARIA CON VIOLENCIA      1\n8  ROBO DURANTE TRASLADO DE VALORES (NOMINA) CON ...      2\n5  ROBO A SUCURSAL BANCARIA (ASALTO BANCARIO) CON...      3\n1  ROBO A NEGOCIO CON VIOLENCIA POR FARDEROS (TIE...      4\n3            ROBO A NEGOCIO Y VEHICULO CON VIOLENCIA      6\n4               ROBO A OFICINA PÚBLICA CON VIOLENCIA     10\n2  ROBO A NEGOCIO CON VIOLENCIA POR FARDEROS (TIE...     51\n0                       ROBO A NEGOCIO CON VIOLENCIA   1844",
      "text/html": "<div>\n<style scoped>\n    .dataframe tbody tr th:only-of-type {\n        vertical-align: middle;\n    }\n\n    .dataframe tbody tr th {\n        vertical-align: top;\n    }\n\n    .dataframe thead th {\n        text-align: right;\n    }\n</style>\n<table border=\"1\" class=\"dataframe\">\n  <thead>\n    <tr style=\"text-align: right;\">\n      <th></th>\n      <th>crimen</th>\n      <th>Total</th>\n    </tr>\n  </thead>\n  <tbody>\n    <tr>\n      <th>6</th>\n      <td>ROBO A SUCURSAL BANCARIA (SUPERMERCADO) CON VI...</td>\n      <td>1</td>\n    </tr>\n    <tr>\n      <th>7</th>\n      <td>ROBO A SUCURSAL BANCARIA CON VIOLENCIA</td>\n      <td>1</td>\n    </tr>\n    <tr>\n      <th>8</th>\n      <td>ROBO DURANTE TRASLADO DE VALORES (NOMINA) CON ...</td>\n      <td>2</td>\n    </tr>\n    <tr>\n      <th>5</th>\n      <td>ROBO A SUCURSAL BANCARIA (ASALTO BANCARIO) CON...</td>\n      <td>3</td>\n    </tr>\n    <tr>\n      <th>1</th>\n      <td>ROBO A NEGOCIO CON VIOLENCIA POR FARDEROS (TIE...</td>\n      <td>4</td>\n    </tr>\n    <tr>\n      <th>3</th>\n      <td>ROBO A NEGOCIO Y VEHICULO CON VIOLENCIA</td>\n      <td>6</td>\n    </tr>\n    <tr>\n      <th>4</th>\n      <td>ROBO A OFICINA PÚBLICA CON VIOLENCIA</td>\n      <td>10</td>\n    </tr>\n    <tr>\n      <th>2</th>\n      <td>ROBO A NEGOCIO CON VIOLENCIA POR FARDEROS (TIE...</td>\n      <td>51</td>\n    </tr>\n    <tr>\n      <th>0</th>\n      <td>ROBO A NEGOCIO CON VIOLENCIA</td>\n      <td>1844</td>\n    </tr>\n  </tbody>\n</table>\n</div>"
     },
     "metadata": {},
     "execution_count": 23
    }
   ],
   "source": [
    "tabla_frecuencias_categoria('ROBO A NEGOCIO CON VIOLENCIA', True)"
   ]
  },
  {
   "cell_type": "markdown",
   "metadata": {},
   "source": [
    "# Robo a transeunte en  vía pública con y sin violencia"
   ]
  },
  {
   "cell_type": "code",
   "execution_count": 24,
   "metadata": {},
   "outputs": [
    {
     "output_type": "execute_result",
     "data": {
      "text/plain": "                                              crimen  Total\n0  ROBO A TRANSEUNTE EN VIA PUBLICA (NOMINA) CON ...      4\n2     ROBO A TRANSEUNTE EN VIA PUBLICA SIN VIOLENCIA    596\n1     ROBO A TRANSEUNTE EN VIA PUBLICA CON VIOLENCIA   5203",
      "text/html": "<div>\n<style scoped>\n    .dataframe tbody tr th:only-of-type {\n        vertical-align: middle;\n    }\n\n    .dataframe tbody tr th {\n        vertical-align: top;\n    }\n\n    .dataframe thead th {\n        text-align: right;\n    }\n</style>\n<table border=\"1\" class=\"dataframe\">\n  <thead>\n    <tr style=\"text-align: right;\">\n      <th></th>\n      <th>crimen</th>\n      <th>Total</th>\n    </tr>\n  </thead>\n  <tbody>\n    <tr>\n      <th>0</th>\n      <td>ROBO A TRANSEUNTE EN VIA PUBLICA (NOMINA) CON ...</td>\n      <td>4</td>\n    </tr>\n    <tr>\n      <th>2</th>\n      <td>ROBO A TRANSEUNTE EN VIA PUBLICA SIN VIOLENCIA</td>\n      <td>596</td>\n    </tr>\n    <tr>\n      <th>1</th>\n      <td>ROBO A TRANSEUNTE EN VIA PUBLICA CON VIOLENCIA</td>\n      <td>5203</td>\n    </tr>\n  </tbody>\n</table>\n</div>"
     },
     "metadata": {},
     "execution_count": 24
    }
   ],
   "source": [
    "tabla_frecuencias_categoria('ROBO A TRANSEUNTE EN VÍA PÚBLICA CON Y SIN VIOLENCIA', True)"
   ]
  },
  {
   "cell_type": "markdown",
   "metadata": {},
   "source": [
    "# Hecho no delictivo"
   ]
  },
  {
   "cell_type": "code",
   "execution_count": 25,
   "metadata": {},
   "outputs": [
    {
     "output_type": "execute_result",
     "data": {
      "text/plain": "                                               crimen  Total\n9              DENUNCIA DE HECHOS POR ROBO DE CELULAR      1\n16                    PERDIDA DE LA VIDA POR DERRUMBE      2\n10  PERDIDA DE LA VIDA ASFIXIA POR ALIMENTOS/ LIQU...      3\n13                     PERDIDA DE LA VIDA POR ASFIXIA      4\n2                                             DDH FDS      6\n11           PERDIDA DE LA VIDA POR ACCIDENTE LABORAL      9\n12                 PERDIDA DE LA VIDA POR AHOGAMIENTO     10\n21               PERDIDA DE LA VIDA POR PRECIPITACION     10\n18                PERDIDA DE LA VIDA POR INTOXICACION     11\n24        PERDIDA DE LA VIDA POR SUICIDIO EN EL METRO     12\n15       PERDIDA DE LA VIDA POR CONGESTION ALCOHOLICA     13\n0                                        DDH ANONIMAS     13\n5                                           DDH REDES     16\n7                                       DDH SIN DATOS     19\n3                                            DDH FRVT     19\n1                                          DDH CERESO     22\n22                   PERDIDA DE LA VIDA POR QUEMADURA     23\n6                                    DDH RELACIONADAS     42\n4                                  DDH OTRAS MATERIAS     63\n20               PERDIDA DE LA VIDA POR PARO CARDIACO     66\n14                       PERDIDA DE LA VIDA POR CAIDA     68\n17                  PERDIDA DE LA VIDA POR ENFERMEDAD    100\n23                    PERDIDA DE LA VIDA POR SUICIDIO    201\n19                PERDIDA DE LA VIDA POR OTRAS CAUSAS    637\n8                                  DENUNCIA DE HECHOS   3708",
      "text/html": "<div>\n<style scoped>\n    .dataframe tbody tr th:only-of-type {\n        vertical-align: middle;\n    }\n\n    .dataframe tbody tr th {\n        vertical-align: top;\n    }\n\n    .dataframe thead th {\n        text-align: right;\n    }\n</style>\n<table border=\"1\" class=\"dataframe\">\n  <thead>\n    <tr style=\"text-align: right;\">\n      <th></th>\n      <th>crimen</th>\n      <th>Total</th>\n    </tr>\n  </thead>\n  <tbody>\n    <tr>\n      <th>9</th>\n      <td>DENUNCIA DE HECHOS POR ROBO DE CELULAR</td>\n      <td>1</td>\n    </tr>\n    <tr>\n      <th>16</th>\n      <td>PERDIDA DE LA VIDA POR DERRUMBE</td>\n      <td>2</td>\n    </tr>\n    <tr>\n      <th>10</th>\n      <td>PERDIDA DE LA VIDA ASFIXIA POR ALIMENTOS/ LIQU...</td>\n      <td>3</td>\n    </tr>\n    <tr>\n      <th>13</th>\n      <td>PERDIDA DE LA VIDA POR ASFIXIA</td>\n      <td>4</td>\n    </tr>\n    <tr>\n      <th>2</th>\n      <td>DDH FDS</td>\n      <td>6</td>\n    </tr>\n    <tr>\n      <th>11</th>\n      <td>PERDIDA DE LA VIDA POR ACCIDENTE LABORAL</td>\n      <td>9</td>\n    </tr>\n    <tr>\n      <th>12</th>\n      <td>PERDIDA DE LA VIDA POR AHOGAMIENTO</td>\n      <td>10</td>\n    </tr>\n    <tr>\n      <th>21</th>\n      <td>PERDIDA DE LA VIDA POR PRECIPITACION</td>\n      <td>10</td>\n    </tr>\n    <tr>\n      <th>18</th>\n      <td>PERDIDA DE LA VIDA POR INTOXICACION</td>\n      <td>11</td>\n    </tr>\n    <tr>\n      <th>24</th>\n      <td>PERDIDA DE LA VIDA POR SUICIDIO EN EL METRO</td>\n      <td>12</td>\n    </tr>\n    <tr>\n      <th>15</th>\n      <td>PERDIDA DE LA VIDA POR CONGESTION ALCOHOLICA</td>\n      <td>13</td>\n    </tr>\n    <tr>\n      <th>0</th>\n      <td>DDH ANONIMAS</td>\n      <td>13</td>\n    </tr>\n    <tr>\n      <th>5</th>\n      <td>DDH REDES</td>\n      <td>16</td>\n    </tr>\n    <tr>\n      <th>7</th>\n      <td>DDH SIN DATOS</td>\n      <td>19</td>\n    </tr>\n    <tr>\n      <th>3</th>\n      <td>DDH FRVT</td>\n      <td>19</td>\n    </tr>\n    <tr>\n      <th>1</th>\n      <td>DDH CERESO</td>\n      <td>22</td>\n    </tr>\n    <tr>\n      <th>22</th>\n      <td>PERDIDA DE LA VIDA POR QUEMADURA</td>\n      <td>23</td>\n    </tr>\n    <tr>\n      <th>6</th>\n      <td>DDH RELACIONADAS</td>\n      <td>42</td>\n    </tr>\n    <tr>\n      <th>4</th>\n      <td>DDH OTRAS MATERIAS</td>\n      <td>63</td>\n    </tr>\n    <tr>\n      <th>20</th>\n      <td>PERDIDA DE LA VIDA POR PARO CARDIACO</td>\n      <td>66</td>\n    </tr>\n    <tr>\n      <th>14</th>\n      <td>PERDIDA DE LA VIDA POR CAIDA</td>\n      <td>68</td>\n    </tr>\n    <tr>\n      <th>17</th>\n      <td>PERDIDA DE LA VIDA POR ENFERMEDAD</td>\n      <td>100</td>\n    </tr>\n    <tr>\n      <th>23</th>\n      <td>PERDIDA DE LA VIDA POR SUICIDIO</td>\n      <td>201</td>\n    </tr>\n    <tr>\n      <th>19</th>\n      <td>PERDIDA DE LA VIDA POR OTRAS CAUSAS</td>\n      <td>637</td>\n    </tr>\n    <tr>\n      <th>8</th>\n      <td>DENUNCIA DE HECHOS</td>\n      <td>3708</td>\n    </tr>\n  </tbody>\n</table>\n</div>"
     },
     "metadata": {},
     "execution_count": 25
    }
   ],
   "source": [
    "tabla_frecuencias_categoria('HECHO NO DELICTIVO', True)"
   ]
  },
  {
   "cell_type": "markdown",
   "metadata": {},
   "source": [
    "# Robo de vehículo con y sin violencia"
   ]
  },
  {
   "cell_type": "code",
   "execution_count": 26,
   "metadata": {},
   "outputs": [
    {
     "output_type": "execute_result",
     "data": {
      "text/plain": "                                               crimen  Total\n0                    ROBO DE MAQUINARIA CON VIOLENCIA      3\n5   ROBO DE VEHICULO DE SERVICIO OFICIAL CON VIOLE...      5\n6   ROBO DE VEHICULO DE SERVICIO OFICIAL SIN VIOLE...     23\n3   ROBO DE VEHICULO DE SERVICIO DE TRANSPORTE CON...     26\n4   ROBO DE VEHICULO DE SERVICIO DE TRANSPORTE SIN...     35\n10  ROBO DE VEHICULO DE SERVICIO PÚBLICO SIN VIOLE...    380\n1                   ROBO DE MOTOCICLETA CON VIOLENCIA    474\n2                   ROBO DE MOTOCICLETA SIN VIOLENCIA    533\n9   ROBO DE VEHICULO DE SERVICIO PÚBLICO CON VIOLE...    774\n7   ROBO DE VEHICULO DE SERVICIO PARTICULAR CON VI...   1985\n8   ROBO DE VEHICULO DE SERVICIO PARTICULAR SIN VI...   3516",
      "text/html": "<div>\n<style scoped>\n    .dataframe tbody tr th:only-of-type {\n        vertical-align: middle;\n    }\n\n    .dataframe tbody tr th {\n        vertical-align: top;\n    }\n\n    .dataframe thead th {\n        text-align: right;\n    }\n</style>\n<table border=\"1\" class=\"dataframe\">\n  <thead>\n    <tr style=\"text-align: right;\">\n      <th></th>\n      <th>crimen</th>\n      <th>Total</th>\n    </tr>\n  </thead>\n  <tbody>\n    <tr>\n      <th>0</th>\n      <td>ROBO DE MAQUINARIA CON VIOLENCIA</td>\n      <td>3</td>\n    </tr>\n    <tr>\n      <th>5</th>\n      <td>ROBO DE VEHICULO DE SERVICIO OFICIAL CON VIOLE...</td>\n      <td>5</td>\n    </tr>\n    <tr>\n      <th>6</th>\n      <td>ROBO DE VEHICULO DE SERVICIO OFICIAL SIN VIOLE...</td>\n      <td>23</td>\n    </tr>\n    <tr>\n      <th>3</th>\n      <td>ROBO DE VEHICULO DE SERVICIO DE TRANSPORTE CON...</td>\n      <td>26</td>\n    </tr>\n    <tr>\n      <th>4</th>\n      <td>ROBO DE VEHICULO DE SERVICIO DE TRANSPORTE SIN...</td>\n      <td>35</td>\n    </tr>\n    <tr>\n      <th>10</th>\n      <td>ROBO DE VEHICULO DE SERVICIO PÚBLICO SIN VIOLE...</td>\n      <td>380</td>\n    </tr>\n    <tr>\n      <th>1</th>\n      <td>ROBO DE MOTOCICLETA CON VIOLENCIA</td>\n      <td>474</td>\n    </tr>\n    <tr>\n      <th>2</th>\n      <td>ROBO DE MOTOCICLETA SIN VIOLENCIA</td>\n      <td>533</td>\n    </tr>\n    <tr>\n      <th>9</th>\n      <td>ROBO DE VEHICULO DE SERVICIO PÚBLICO CON VIOLE...</td>\n      <td>774</td>\n    </tr>\n    <tr>\n      <th>7</th>\n      <td>ROBO DE VEHICULO DE SERVICIO PARTICULAR CON VI...</td>\n      <td>1985</td>\n    </tr>\n    <tr>\n      <th>8</th>\n      <td>ROBO DE VEHICULO DE SERVICIO PARTICULAR SIN VI...</td>\n      <td>3516</td>\n    </tr>\n  </tbody>\n</table>\n</div>"
     },
     "metadata": {},
     "execution_count": 26
    }
   ],
   "source": [
    "tabla_frecuencias_categoria('ROBO DE VEHÍCULO CON Y SIN VIOLENCIA', True)"
   ]
  },
  {
   "cell_type": "markdown",
   "metadata": {},
   "source": [
    "# Delito de bajo impacto"
   ]
  },
  {
   "cell_type": "code",
<<<<<<< HEAD
   "execution_count": 37,
   "metadata": {},
   "outputs": [
    {
     "output_type": "execute_result",
     "data": {
      "text/plain": "['ROBO DURANTE TRASLADO DE VALORES (NOMINA) SIN VIOLENCIA',\n 'EXPOSICION DE MENORES',\n 'PRIVACION DE LA LIBERTAD PERSONAL (REALIZAR ACTO SEXUAL)',\n 'LESIONES INTENCIONALES Y ROBO DE VEHICULO',\n 'GESTIÓN AMBIENTAL',\n 'DESACATO',\n 'DELITOS CONTRA LA SALUD',\n 'DAÑO EN PROPIEDAD AJENA INTENCIONAL A VIAS DE COMUNICACION',\n 'ROBO A PASAJERO EN ECOBUS SIN VIOLENCIA',\n 'REGULACIÓN URBANA',\n 'INHUMACIONES Y/O EXHUMACIONES',\n 'INTIMIDACION (EVITAR DENUNCIA, APORTE INFORMACIÓN O PRUEBAS)',\n 'LENOCINIO',\n 'TENTATIVA DE FEMINICIDIO',\n 'COACCION DE SERVIDORES PUBLICOS',\n 'DAÑO EN PROPIEDAD AJENA CULPOSA POR TRÁNSITO VEHICULAR A VIAS DE COMUNICACION',\n 'UTILIZACION INDEBIDA DE LA VIA PUBLICA',\n 'CAMBIO DE USO DE SUELO',\n 'ATAQUES A LA PAZ PUBLICA',\n 'LEY FEDERAL DE ARMAS DE FUEGO Y EXPLOSIVOS',\n 'LESIONES DOLOSAS POR QUEMADURAS',\n 'ROBO A TRANSEUNTE Y VEHICULO CON VIOLENCIA',\n 'HOMICIDIO CULPOSO POR INSTRUMENTO PUNZO CORTANTE',\n 'ROBO A PASAJERO EN ECOBUS CON VIOLENCIA',\n 'TRAFICO DE INFANTES',\n 'ROBO A PASAJERO EN RTP SIN VIOLENCIA',\n 'USO INDEBIDO DE CONDECORACIONES UNIFORMES E INSIGNIAS',\n 'SABOTAJE',\n 'FALSIFICACION DE SELLOS, MARCAS, LLAVES Y OTROS',\n 'ROBO A LOCALES SEMIFIJOS (PUESTOS DE ALIMENTOS,BEBIDAS, ENSERES, PERIODICOS,LOTERIA, OTROS)',\n 'OTROS DELITOS',\n 'EXPLOTACIÓN DE MENOR O DISCAPACITADO',\n 'EXPLOTACIÓN LABORAL DE MENORES, PERSONAS CON DISCAPACIDAD FÍSICA O MENTAL Y ADULTOS MAYORES',\n 'INHUMACION, EXHUMACION Y RESPETO A LOS CADAVERES O RESTOS HUMANOS',\n 'EVASION DE PRESOS',\n 'CONTRA EL ESTADO CIVIL',\n 'DIFAMACION',\n 'FALSIFICACIÓN DE SELLOS, MARCAS, LLAVES, CUÑOS, TROQUELES, CONTRASEÑAS Y OTROS',\n 'ROBO EN INTERIOR DE EMPRESA (NOMINA) SIN VIOLENCIA',\n 'DESAPARICION FORZADA DE PERSONAS',\n 'FABRICACION, COMERCIALIZACION Y USO INDEBIDO DE INSIGNIAS Y UNIFORMES',\n 'ROBO A TRANSEUNTE EN HOTEL CON VIOLENCIA',\n 'HOMICIDIO CULPOSO FUERA DEL D.F (ATROPELLADO)',\n 'HOMICIDIO CULPOSO FUERA DEL D.F (COLISION)',\n 'HOMICIDIO CULPOSO',\n 'VARIACION DE NOMBRE O DOMICILIO',\n 'ACOSO SEXUAL AGRAVADO EN CONTRA DE MENORES',\n 'ROBO A TRANSEUNTE EN TERMINAL DE PASAJEROS CON VIOLENCIA',\n 'ROBO A PASAJERO EN AUTOBUS FORANEO SIN VIOLENCIA',\n 'ROBO A PASAJERO EN TROLEBUS SIN VIOLENCIA',\n 'ROBO A NEGOCIO Y VEHICULO SIN VIOLENCIA',\n 'CORRUPCION DE MENORES E INCAPACES',\n 'OTROS CULPOSOS',\n 'ROBO A SUCURSAL BANCARIA (SUPERMERCADO) SIN VIOLENCIA',\n 'BIGAMIA',\n 'PELIGRO DE CONTAGIO',\n 'TRAFICO DE INFLUENCIA',\n 'ESTUPRO',\n 'VIOLACION DE CORRESPONDENCIA',\n 'OPERACIONES CON RECURSOS DE PROCEDENCIA ILICITA',\n 'TENTATIVA DE VIOLACION',\n 'TENTATIVA DE FRAUDE',\n 'ROBO A PASAJERO EN RTP CON VIOLENCIA',\n 'USURPACION DE FUNCIONES PUBLICAS',\n 'ROBO A PASAJERO EN AUTOBÚS FORÁNEO CON VIOLENCIA',\n 'INTIMIDACION',\n 'TRATA DE PERSONAS',\n 'PORNOGRAFÍA',\n 'REVELACION DE SECRETOS',\n 'HOMICIDIO CULPOSO POR ARMA DE FUEGO',\n 'PECULADO',\n 'HOMICIDIO CULPOSO POR TRÁNSITO VEHICULAR',\n 'HOMICIDIO CULPOSO POR TRÁNSITO VEHICULAR (CAIDA)',\n 'CONTRA LA INTIMIDAD SEXUAL',\n 'PORNOGRAFIA INFANTIL',\n 'DESOBEDENCIA DE PARTICULARES',\n 'TENTATIVA DE SUICIDIO',\n 'USURPACION DE FUNCIONES',\n 'DELITOS DE ABOGADOS, PATRONOS, LITIGANTES Y ASESORES JURIDICOS',\n 'ROBO DE ALHAJAS',\n 'ROBO S/V DENTRO DE NEGOCIOS, AUTOSERVICIOS, CONVENIENCIA',\n 'ROBO A PASAJERO EN TROLEBUS CON VIOLENCIA',\n 'FALSEDAD ANTE AUTORIDADES',\n 'ROBO DE FLUIDOS',\n 'EJERCICIO ILEGAL Y ABANDONO DEL SERVICIO PUBLICO',\n 'ROBO A TRANSEUNTE A BORDO DE TAXI PUBLICO Y PRIVADO SIN VIOLENCIA',\n 'ROBO A PASAJERO A BORDO DE TAXI SIN VIOLENCIA',\n 'USURPACION DE PROFESION',\n 'COBRANZA ILEGITIMA',\n 'ATAQUE A LAS VIAS DE COMUNICACION (DAÑO A VIAS O MEDIOS DE TRANSPORTE)',\n 'DELITOS DE ABOGADOS PATRONOS Y LITIGANTES',\n 'ROBO A NEGOCIO SIN VIOLENCIA POR FARDEROS (TIENDAS DE CONVENIENCIA)',\n 'LESIONES CULPOSAS POR QUEMADURAS',\n 'ROBO A PASAJERO A BORDO DE METROBUS CON VIOLENCIA',\n 'PRIV. ILEGAL DE LA LIB. Y ROBO DE VEHICULO',\n 'LESIONES CULPOSAS ACCIDENTE LABORAL',\n 'ROBO A CASA HABITACION Y VEHICULO SIN VIOLENCIA',\n 'DISPAROS DE ARMA DE FUEGO',\n 'RESPONSABILIDAD PROFESIONAL Y TECNICA',\n 'TENTATIVA DE HOMICIDIO',\n 'ATAQUE A LAS VIAS GENERALES DE COMUNICACIÓN',\n 'ROBO A TRANSEUNTE EN RESTAURANT CON VIOLENCIA',\n 'DAÑO EN PROPIEDAD AJENA INTENCIONAL A NEGOCIO',\n 'FALSEDAD DE DECLARACIONES',\n 'USO INDEBIDO DE ATRIBUCIONES Y FACULTADES',\n 'ROBO DE ANIMALES',\n 'TENTATIVA DE ROBO DE VEHICULO',\n 'ROBO A TRANSEUNTE EN PARQUES Y MERCADOS CON VIOLENCIA',\n 'ROBO DE ARMA',\n 'LESIONES CULPOSAS POR CAIDA DE VEHÍCULO EN MOVIMIENTO',\n 'CORRUPCIÓN DE PERSONAS MENORES DE EDAD O PERSONAS QUE NO TENGAN CAPACIDAD PARA COMPRENDER EL SIGNIFICADO DEL HECHO O DE PERSONAS QUE NO TENGAN CAPACIDAD DE RESISTIR LA CONDUCTA',\n 'ROBO A TRANSEUNTE CONDUCTOR DE TAXI PUBLICO Y PRIVADO CON VIOLENCIA',\n 'DESOBEDIENCIA Y RESISTENCIA DE PARTICULARES',\n 'CONTRA EL CUMPLIMIENTO DE LA OBLIGACION ALIMENTARIA',\n 'RESISTENCIA DE PARTICULARES (SE OPONGA O RESISTA)',\n 'ROBO A OFICINA PÚBLICA SIN VIOLENCIA',\n 'ROBO A PASAJERO / CONDUCTOR DE TAXI CON VIOLENCIA',\n 'CORRUPCION DE MENORES',\n 'CONTRA FUNCIONARIOS PUBLICOS',\n 'RESPONSABILIDAD PROFESIONAL',\n 'EJERCICIO INDEBIDO DEL SERVIDOR PUBLICO',\n 'PERSONAS EXTRAVIADAS Y AUSENTES',\n 'ABORTO',\n 'SECUESTRO EXPRESS (PARA COMETER ROBO O EXTORSIÓN)',\n 'ROBO A PASAJERO A BORDO DE TRANSPORTE PÚBLICO SIN VIOLENCIA',\n 'PORTACIÓN, FABRICACIÓN E IMPORTACIÓN DE OBJETOS APTOS PARA AGREDIR',\n 'MALTRATO ANIMAL',\n 'DELITOS ELECTORALES',\n 'DAÑO EN PROPIEDAD AJENA CULPOSA POR TRÁNSITO VEHICULAR A BIENES INMUEBLES',\n 'COHECHO',\n 'HOMICIDIO CULPOSO POR TRÁNSITO VEHICULAR (COLISION)',\n 'ROBO A TRANSEUNTE EN NEGOCIO CON VIOLENCIA',\n 'TENTATIVA DE ROBO',\n 'OMISION DE AUXILIO O DE CUIDADO',\n 'PORTACION ARMA/PROHIB.',\n 'PORTACION DE ARMA DE FUEGO',\n 'POSESION DE VEHICULO ROBADO',\n 'ALLANAMIENTO DE MORADA, DESPACHO, OFICINA O ESTABLECIMIENTO MERCANTIL',\n 'DISCRIMINACION',\n 'DAÑO EN PROPIEDAD AJENA INTENCIONAL A BIENES INMUEBLES',\n 'RETENCIÓN O SUSTRACCIÓN DE MENORES INCAPACES',\n 'HOMICIDIO CULPOSO POR TRÁNSITO VEHICULAR (ATROPELLADO)',\n 'FALSIFICACION O ALTERACION Y USO INDEBIDO DE DOCUMENTOS',\n 'USO DE DOCUMENTO FALSO',\n 'LESIONES CULPOSAS POR CAIDA',\n 'INSOLVENCIA ALIMENTARIA',\n 'DAÑO EN PROPIEDAD AJENA INTENCIONAL A CASA HABITACION',\n 'ROBO DE PLACA DE AUTOMOVIL',\n 'TORTURA',\n 'QUEBRANTAMIENTO DE SELLOS',\n 'DELITOS AMBIENTALES',\n 'ABANDONO DE PERSONA',\n 'ROBO A NEGOCIO SIN VIOLENCIA POR FARDEROS (TIENDAS DE AUTOSERVICIO)',\n 'FALSIFICACION DE DOCUMENTOS',\n 'ACOSO SEXUAL',\n 'ALLANAMIENTO DE MORADA',\n 'ENCUBRIMIENTO POR FAVORECIMIENTO Y RECEPTACIÓN',\n 'ABUSO DE AUTORIDAD Y USO ILEGAL DE LA FUERZA PUBLICA',\n 'NEGACION DEL SERVICIO PUBLICO',\n 'LA ADMINISTRACION DE JUSTICIA',\n 'ROBO A PASAJERO A BORDO DE METROBUS SIN VIOLENCIA',\n 'EXTORSION',\n 'PRIVACION DE LA LIBERTAD PERSONAL',\n 'ROBO DE OBJETOS A ESCUELA',\n 'ROBO DE VEHICULO DE PEDALES',\n 'LESIONES INTENCIONALES',\n 'SUSTRACCION DE MENORES',\n 'ROBO DE DOCUMENTOS',\n 'LESIONES CULPOSAS',\n 'LESIONES CULPOSAS POR TRANSITO VEHICULAR',\n 'DAÑO EN PROPIEDAD AJENA INTENCIONAL A AUTOMOVIL',\n 'ABUSO DE AUTORIDAD',\n 'PRODUCCIÓN, IMPRESIÓN, ENAJENACIÓN, DISTRIBUCIÓN, ALTERACIÓN O FALSIFICACIÓN DE TÍTULOS AL PORTADOR, DOCUMENTOS DE CRÉDITO PÚBLICOS O VALES DE CANJE',\n 'NARCOMENUDEO POSESIÓN CON FINES DE VENTA, COMERCIO Y SUMINISTRO',\n 'ENCUBRIMIENTO',\n 'ROBO A PASAJERO / CONDUCTOR DE VEHICULO CON VIOLENCIA',\n 'ROBO DE DINERO',\n 'TENTATIVA DE EXTORSION',\n 'DAÑO EN PROPIEDAD AJENA CULPOSA',\n 'LESIONES INTENCIONALES POR ARMA BLANCA',\n 'ROBO A TRANSEUNTE DE CELULAR SIN VIOLENCIA',\n 'ROBO A PASAJERO A BORDO DE TRANSPORTE PÚBLICO CON VIOLENCIA',\n 'DAÑO EN PROPIEDAD AJENA INTENCIONAL',\n 'USURPACIÓN DE IDENTIDAD',\n 'ROBO A TRANSEUNTE DE CELULAR CON VIOLENCIA',\n 'FALSIFICACION DE TITULOS AL PORTADOR Y DOCUMENTOS DE CREDITO PUBLICO',\n 'DAÑO EN PROPIEDAD AJENA CULPOSA POR TRÁNSITO VEHICULAR A AUTOMOVIL',\n 'ABUSO SEXUAL',\n 'LESIONES INTENCIONALES POR GOLPES',\n 'LESIONES CULPOSAS POR TRANSITO VEHICULAR EN COLISION',\n 'ABUSO DE CONFIANZA',\n 'DESPOJO',\n 'NARCOMENUDEO POSESION SIMPLE',\n 'ROBO DE OBJETOS DEL INTERIOR DE UN VEHICULO',\n 'ROBO A CASA HABITACION SIN VIOLENCIA',\n 'ROBO DE ACCESORIOS DE AUTO',\n 'FRAUDE',\n 'AMENAZAS',\n 'ROBO DE OBJETOS',\n 'ROBO A NEGOCIO SIN VIOLENCIA',\n 'VIOLENCIA FAMILIAR']"
     },
     "metadata": {},
     "execution_count": 37
    }
   ],
   "source": [
    "list(tabla_frecuencias_categoria('DELITO DE BAJO IMPACTO',True).reset_index()['crimen'])"
   ]
  },
  {
   "cell_type": "markdown",
   "metadata": {},
   "source": [
    "## Eliminación de delitos no relacionados con robos"
   ]
  },
  {
   "cell_type": "code",
   "execution_count": 55,
   "metadata": {},
   "outputs": [],
   "source": [
    "delitos_a_borrar = ['ROBO DURANTE TRASLADO DE VALORES (NOMINA) SIN VIOLENCIA',\n",
    " 'EXPOSICION DE MENORES',\n",
    " 'PRIVACION DE LA LIBERTAD PERSONAL (REALIZAR ACTO SEXUAL)',\n",
    " 'LESIONES INTENCIONALES Y ROBO DE VEHICULO',\n",
    " 'GESTIÓN AMBIENTAL',\n",
    " 'DESACATO',\n",
    " 'DELITOS CONTRA LA SALUD',\n",
    " 'DAÑO EN PROPIEDAD AJENA INTENCIONAL A VIAS DE COMUNICACION',\n",
    " 'REGULACIÓN URBANA',\n",
    " 'INHUMACIONES Y/O EXHUMACIONES',\n",
    " 'INTIMIDACION (EVITAR DENUNCIA, APORTE INFORMACIÓN O PRUEBAS)',\n",
    " 'LENOCINIO',\n",
    " 'COACCION DE SERVIDORES PUBLICOS',\n",
    " 'DAÑO EN PROPIEDAD AJENA CULPOSA POR TRÁNSITO VEHICULAR A VIAS DE COMUNICACION',\n",
    " 'UTILIZACION INDEBIDA DE LA VIA PUBLICA',\n",
    " 'CAMBIO DE USO DE SUELO',\n",
    " 'ATAQUES A LA PAZ PUBLICA',\n",
    " 'LEY FEDERAL DE ARMAS DE FUEGO Y EXPLOSIVOS',\n",
    " 'LESIONES DOLOSAS POR QUEMADURAS',\n",
    " 'TRAFICO DE INFANTES',\n",
    " 'USO INDEBIDO DE CONDECORACIONES UNIFORMES E INSIGNIAS',\n",
    " 'SABOTAJE',\n",
    " 'FALSIFICACION DE SELLOS, MARCAS, LLAVES Y OTROS',\n",
    " 'OTROS DELITOS',\n",
    " 'EXPLOTACIÓN DE MENOR O DISCAPACITADO',\n",
    " 'EXPLOTACIÓN LABORAL DE MENORES, PERSONAS CON DISCAPACIDAD FÍSICA O MENTAL Y ADULTOS MAYORES',\n",
    " 'INHUMACION, EXHUMACION Y RESPETO A LOS CADAVERES O RESTOS HUMANOS',\n",
    " 'EVASION DE PRESOS',\n",
    " 'CONTRA EL ESTADO CIVIL',\n",
    " 'DIFAMACION',\n",
    " 'FALSIFICACIÓN DE SELLOS, MARCAS, LLAVES, CUÑOS, TROQUELES, CONTRASEÑAS Y OTROS',\n",
    " 'ROBO EN INTERIOR DE EMPRESA (NOMINA) SIN VIOLENCIA',\n",
    " 'FABRICACION, COMERCIALIZACION Y USO INDEBIDO DE INSIGNIAS Y UNIFORMES',\n",
    " 'HOMICIDIO CULPOSO FUERA DEL D.F (ATROPELLADO)',# \n",
    " 'HOMICIDIO CULPOSO FUERA DEL D.F (COLISION)',\n",
    " 'VARIACION DE NOMBRE O DOMICILIO',\n",
    " 'ACOSO SEXUAL AGRAVADO EN CONTRA DE MENORES',\n",
    " 'CORRUPCION DE MENORES E INCAPACES',\n",
    " 'OTROS CULPOSOS',\n",
    " 'ROBO A SUCURSAL BANCARIA (SUPERMERCADO) SIN VIOLENCIA',\n",
    " 'BIGAMIA',\n",
    " 'PELIGRO DE CONTAGIO',\n",
    " 'TRAFICO DE INFLUENCIA',\n",
    " 'ESTUPRO',\n",
    " 'VIOLACION DE CORRESPONDENCIA',\n",
    " 'OPERACIONES CON RECURSOS DE PROCEDENCIA ILICITA',\n",
    " 'TENTATIVA DE FRAUDE',\n",
    " 'USURPACION DE FUNCIONES PUBLICAS',\n",
    " 'PORNOGRAFÍA',\n",
    " 'REVELACION DE SECRETOS',\n",
    " 'PECULADO',\n",
    " 'HOMICIDIO CULPOSO POR TRÁNSITO VEHICULAR',\n",
    " 'HOMICIDIO CULPOSO POR TRÁNSITO VEHICULAR (CAIDA)',\n",
    " 'CONTRA LA INTIMIDAD SEXUAL',\n",
    " 'PORNOGRAFIA INFANTIL',\n",
    " 'DESOBEDENCIA DE PARTICULARES',\n",
    " 'TENTATIVA DE SUICIDIO',\n",
    " 'USURPACION DE FUNCIONES',\n",
    " 'DELITOS DE ABOGADOS, PATRONOS, LITIGANTES Y ASESORES JURIDICOS',\n",
    " 'ROBO DE ALHAJAS',\n",
    " 'FALSEDAD ANTE AUTORIDADES',\n",
    " 'ROBO DE FLUIDOS',\n",
    " 'EJERCICIO ILEGAL Y ABANDONO DEL SERVICIO PUBLICO',\n",
    " 'USURPACION DE PROFESION',\n",
    " 'COBRANZA ILEGITIMA',\n",
    " 'ATAQUE A LAS VIAS DE COMUNICACION (DAÑO A VIAS O MEDIOS DE TRANSPORTE)',\n",
    " 'DELITOS DE ABOGADOS PATRONOS Y LITIGANTES',\n",
    " 'ROBO A NEGOCIO SIN VIOLENCIA POR FARDEROS (TIENDAS DE CONVENIENCIA)',\n",
    " 'LESIONES CULPOSAS POR QUEMADURAS',\n",
    " 'PRIV. ILEGAL DE LA LIB. Y ROBO DE VEHICULO',\n",
    " 'LESIONES CULPOSAS ACCIDENTE LABORAL',\n",
    " 'DISPAROS DE ARMA DE FUEGO',\n",
    " 'RESPONSABILIDAD PROFESIONAL Y TECNICA',\n",
    " 'ATAQUE A LAS VIAS GENERALES DE COMUNICACIÓN',\n",
    " 'DAÑO EN PROPIEDAD AJENA INTENCIONAL A NEGOCIO',\n",
    " 'FALSEDAD DE DECLARACIONES',\n",
    " 'USO INDEBIDO DE ATRIBUCIONES Y FACULTADES',\n",
    " 'ROBO DE ANIMALES',\n",
    " 'ROBO DE ARMA',\n",
    " 'LESIONES CULPOSAS POR CAIDA DE VEHÍCULO EN MOVIMIENTO',\n",
    " 'CORRUPCIÓN DE PERSONAS MENORES DE EDAD O PERSONAS QUE NO TENGAN CAPACIDAD PARA COMPRENDER EL SIGNIFICADO DEL HECHO O DE PERSONAS QUE NO TENGAN CAPACIDAD DE RESISTIR LA CONDUCTA',\n",
    " 'ROBO A TRANSEUNTE CONDUCTOR DE TAXI PUBLICO Y PRIVADO CON VIOLENCIA',\n",
    " 'DESOBEDIENCIA Y RESISTENCIA DE PARTICULARES',\n",
    " 'CONTRA EL CUMPLIMIENTO DE LA OBLIGACION ALIMENTARIA',\n",
    " 'RESISTENCIA DE PARTICULARES (SE OPONGA O RESISTA)',\n",
    " 'ROBO A OFICINA PÚBLICA SIN VIOLENCIA',\n",
    " 'ROBO A PASAJERO / CONDUCTOR DE TAXI CON VIOLENCIA',\n",
    " 'CORRUPCION DE MENORES',\n",
    " 'CONTRA FUNCIONARIOS PUBLICOS',\n",
    " 'RESPONSABILIDAD PROFESIONAL',\n",
    " 'EJERCICIO INDEBIDO DEL SERVIDOR PUBLICO',\n",
    " 'PERSONAS EXTRAVIADAS Y AUSENTES',\n",
    " 'ABORTO',\n",
    " 'SECUESTRO EXPRESS (PARA COMETER ROBO O EXTORSIÓN)',\n",
    " 'PORTACIÓN, FABRICACIÓN E IMPORTACIÓN DE OBJETOS APTOS PARA AGREDIR',\n",
    " 'MALTRATO ANIMAL',\n",
    " 'DELITOS ELECTORALES',\n",
    " 'DAÑO EN PROPIEDAD AJENA CULPOSA POR TRÁNSITO VEHICULAR A BIENES INMUEBLES',\n",
    " 'COHECHO',\n",
    " 'HOMICIDIO CULPOSO POR TRÁNSITO VEHICULAR (COLISION)',\n",
    " 'OMISION DE AUXILIO O DE CUIDADO',\n",
    " 'PORTACION ARMA/PROHIB.',\n",
    " 'PORTACION DE ARMA DE FUEGO',\n",
    " 'POSESION DE VEHICULO ROBADO',\n",
    " 'ALLANAMIENTO DE MORADA, DESPACHO, OFICINA O ESTABLECIMIENTO MERCANTIL',\n",
    " 'DISCRIMINACION',\n",
    " 'DAÑO EN PROPIEDAD AJENA INTENCIONAL A BIENES INMUEBLES',\n",
    " 'RETENCIÓN O SUSTRACCIÓN DE MENORES INCAPACES',\n",
    " 'HOMICIDIO CULPOSO POR TRÁNSITO VEHICULAR (ATROPELLADO)',\n",
    " 'FALSIFICACION O ALTERACION Y USO INDEBIDO DE DOCUMENTOS',\n",
    " 'USO DE DOCUMENTO FALSO',\n",
    " 'LESIONES CULPOSAS POR CAIDA',\n",
    " 'INSOLVENCIA ALIMENTARIA',\n",
    " 'DAÑO EN PROPIEDAD AJENA INTENCIONAL A CASA HABITACION',\n",
    " 'ROBO DE PLACA DE AUTOMOVIL',\n",
    " 'TORTURA',\n",
    " 'QUEBRANTAMIENTO DE SELLOS',\n",
    " 'DELITOS AMBIENTALES',\n",
    " 'ABANDONO DE PERSONA',\n",
    " 'ROBO A NEGOCIO SIN VIOLENCIA POR FARDEROS (TIENDAS DE AUTOSERVICIO)',\n",
    " 'FALSIFICACION DE DOCUMENTOS',\n",
    " 'ACOSO SEXUAL',\n",
    " 'ALLANAMIENTO DE MORADA',\n",
    " 'ENCUBRIMIENTO POR FAVORECIMIENTO Y RECEPTACIÓN',\n",
    " 'ABUSO DE AUTORIDAD Y USO ILEGAL DE LA FUERZA PUBLICA',\n",
    " 'NEGACION DEL SERVICIO PUBLICO',\n",
    " 'LA ADMINISTRACION DE JUSTICIA',\n",
    " 'EXTORSION',\n",
    " 'PRIVACION DE LA LIBERTAD PERSONAL',\n",
    " 'ROBO DE OBJETOS A ESCUELA',\n",
    " 'ROBO DE VEHICULO DE PEDALES',\n",
    " 'LESIONES INTENCIONALES',\n",
    " 'SUSTRACCION DE MENORES',\n",
    " 'ROBO DE DOCUMENTOS',\n",
    " 'LESIONES CULPOSAS',\n",
    " 'LESIONES CULPOSAS POR TRANSITO VEHICULAR',\n",
    " 'DAÑO EN PROPIEDAD AJENA INTENCIONAL A AUTOMOVIL',\n",
    " 'ABUSO DE AUTORIDAD',\n",
    " 'PRODUCCIÓN, IMPRESIÓN, ENAJENACIÓN, DISTRIBUCIÓN, ALTERACIÓN O FALSIFICACIÓN DE TÍTULOS AL PORTADOR, DOCUMENTOS DE CRÉDITO PÚBLICOS O VALES DE CANJE',\n",
    " 'ENCUBRIMIENTO',\n",
    " 'TENTATIVA DE EXTORSION',\n",
    " 'DAÑO EN PROPIEDAD AJENA CULPOSA',\n",
    " 'LESIONES INTENCIONALES POR ARMA BLANCA',\n",
    " 'DAÑO EN PROPIEDAD AJENA INTENCIONAL',\n",
    " 'USURPACIÓN DE IDENTIDAD',\n",
    " 'FALSIFICACION DE TITULOS AL PORTADOR Y DOCUMENTOS DE CREDITO PUBLICO',\n",
    " 'DAÑO EN PROPIEDAD AJENA CULPOSA POR TRÁNSITO VEHICULAR A AUTOMOVIL',\n",
    " 'ABUSO SEXUAL',\n",
    " 'LESIONES INTENCIONALES POR GOLPES',\n",
    " 'LESIONES CULPOSAS POR TRANSITO VEHICULAR EN COLISION',\n",
    " 'ABUSO DE CONFIANZA',\n",
    " 'DESPOJO',\n",
    " 'NARCOMENUDEO POSESION SIMPLE',\n",
    " 'FRAUDE',\n",
    " 'AMENAZAS',\n",
    " 'VIOLENCIA FAMILIAR']"
   ]
  },
  {
   "cell_type": "code",
   "execution_count": 73,
=======
   "execution_count": 27,
>>>>>>> 6c7669c61f3ac62e11fa55e52d3f2fc4c63cf997
   "metadata": {},
   "outputs": [
    {
     "output_type": "execute_result",
     "data": {
<<<<<<< HEAD
      "text/plain": "                                                    Total\ncrimen                                                   \nROBO A PASAJERO EN ECOBUS SIN VIOLENCIA                 1\nTENTATIVA DE FEMINICIDIO                                1\nROBO A TRANSEUNTE Y VEHICULO CON VIOLENCIA              1\nHOMICIDIO CULPOSO POR INSTRUMENTO PUNZO CORTANTE        2\nROBO A PASAJERO EN ECOBUS CON VIOLENCIA                 2\nROBO A PASAJERO EN RTP SIN VIOLENCIA                    2\nROBO A LOCALES SEMIFIJOS (PUESTOS DE ALIMENTOS,...      2\nDESAPARICION FORZADA DE PERSONAS                        4\nROBO A TRANSEUNTE EN HOTEL CON VIOLENCIA                4\nHOMICIDIO CULPOSO                                       5\nROBO A TRANSEUNTE EN TERMINAL DE PASAJEROS CON ...      5\nROBO A PASAJERO EN AUTOBUS FORANEO SIN VIOLENCIA        5\nROBO A PASAJERO EN TROLEBUS SIN VIOLENCIA               5\nROBO A NEGOCIO Y VEHICULO SIN VIOLENCIA                 6\nTENTATIVA DE VIOLACION                                  9\nROBO A PASAJERO EN RTP CON VIOLENCIA                   10\nROBO A PASAJERO EN AUTOBÚS FORÁNEO CON VIOLENCIA       10\nINTIMIDACION                                           11\nTRATA DE PERSONAS                                      12\nHOMICIDIO CULPOSO POR ARMA DE FUEGO                    14\nROBO S/V DENTRO DE NEGOCIOS, AUTOSERVICIOS, CON...     20\nROBO A PASAJERO EN TROLEBUS CON VIOLENCIA              21\nROBO A TRANSEUNTE A BORDO DE TAXI PUBLICO Y PRI...     24\nROBO A PASAJERO A BORDO DE TAXI SIN VIOLENCIA          25\nROBO A PASAJERO A BORDO DE METROBUS CON VIOLENCIA      30\nROBO A CASA HABITACION Y VEHICULO SIN VIOLENCIA        32\nTENTATIVA DE HOMICIDIO                                 33\nROBO A TRANSEUNTE EN RESTAURANT CON VIOLENCIA          37\nTENTATIVA DE ROBO DE VEHICULO                          45\nROBO A TRANSEUNTE EN PARQUES Y MERCADOS CON VIO...     46\nROBO A PASAJERO A BORDO DE TRANSPORTE PÚBLICO S...     92\nROBO A TRANSEUNTE EN NEGOCIO CON VIOLENCIA            127\nTENTATIVA DE ROBO                                     132\nROBO A PASAJERO A BORDO DE METROBUS SIN VIOLENCIA     306\nNARCOMENUDEO POSESIÓN CON FINES DE VENTA, COMER...    522\nROBO A PASAJERO / CONDUCTOR DE VEHICULO CON VIO...    619\nROBO DE DINERO                                        655\nROBO A TRANSEUNTE DE CELULAR SIN VIOLENCIA            900\nROBO A PASAJERO A BORDO DE TRANSPORTE PÚBLICO C...    976\nROBO A TRANSEUNTE DE CELULAR CON VIOLENCIA           1133\nROBO DE OBJETOS DEL INTERIOR DE UN VEHICULO          2016\nROBO A CASA HABITACION SIN VIOLENCIA                 2700\nROBO DE ACCESORIOS DE AUTO                           3030\nROBO DE OBJETOS                                      4960\nROBO A NEGOCIO SIN VIOLENCIA                         6746",
      "text/html": "<div>\n<style scoped>\n    .dataframe tbody tr th:only-of-type {\n        vertical-align: middle;\n    }\n\n    .dataframe tbody tr th {\n        vertical-align: top;\n    }\n\n    .dataframe thead th {\n        text-align: right;\n    }\n</style>\n<table border=\"1\" class=\"dataframe\">\n  <thead>\n    <tr style=\"text-align: right;\">\n      <th></th>\n      <th>Total</th>\n    </tr>\n    <tr>\n      <th>crimen</th>\n      <th></th>\n    </tr>\n  </thead>\n  <tbody>\n    <tr>\n      <th>ROBO A PASAJERO EN ECOBUS SIN VIOLENCIA</th>\n      <td>1</td>\n    </tr>\n    <tr>\n      <th>TENTATIVA DE FEMINICIDIO</th>\n      <td>1</td>\n    </tr>\n    <tr>\n      <th>ROBO A TRANSEUNTE Y VEHICULO CON VIOLENCIA</th>\n      <td>1</td>\n    </tr>\n    <tr>\n      <th>HOMICIDIO CULPOSO POR INSTRUMENTO PUNZO CORTANTE</th>\n      <td>2</td>\n    </tr>\n    <tr>\n      <th>ROBO A PASAJERO EN ECOBUS CON VIOLENCIA</th>\n      <td>2</td>\n    </tr>\n    <tr>\n      <th>ROBO A PASAJERO EN RTP SIN VIOLENCIA</th>\n      <td>2</td>\n    </tr>\n    <tr>\n      <th>ROBO A LOCALES SEMIFIJOS (PUESTOS DE ALIMENTOS,BEBIDAS, ENSERES, PERIODICOS,LOTERIA, OTROS)</th>\n      <td>2</td>\n    </tr>\n    <tr>\n      <th>DESAPARICION FORZADA DE PERSONAS</th>\n      <td>4</td>\n    </tr>\n    <tr>\n      <th>ROBO A TRANSEUNTE EN HOTEL CON VIOLENCIA</th>\n      <td>4</td>\n    </tr>\n    <tr>\n      <th>HOMICIDIO CULPOSO</th>\n      <td>5</td>\n    </tr>\n    <tr>\n      <th>ROBO A TRANSEUNTE EN TERMINAL DE PASAJEROS CON VIOLENCIA</th>\n      <td>5</td>\n    </tr>\n    <tr>\n      <th>ROBO A PASAJERO EN AUTOBUS FORANEO SIN VIOLENCIA</th>\n      <td>5</td>\n    </tr>\n    <tr>\n      <th>ROBO A PASAJERO EN TROLEBUS SIN VIOLENCIA</th>\n      <td>5</td>\n    </tr>\n    <tr>\n      <th>ROBO A NEGOCIO Y VEHICULO SIN VIOLENCIA</th>\n      <td>6</td>\n    </tr>\n    <tr>\n      <th>TENTATIVA DE VIOLACION</th>\n      <td>9</td>\n    </tr>\n    <tr>\n      <th>ROBO A PASAJERO EN RTP CON VIOLENCIA</th>\n      <td>10</td>\n    </tr>\n    <tr>\n      <th>ROBO A PASAJERO EN AUTOBÚS FORÁNEO CON VIOLENCIA</th>\n      <td>10</td>\n    </tr>\n    <tr>\n      <th>INTIMIDACION</th>\n      <td>11</td>\n    </tr>\n    <tr>\n      <th>TRATA DE PERSONAS</th>\n      <td>12</td>\n    </tr>\n    <tr>\n      <th>HOMICIDIO CULPOSO POR ARMA DE FUEGO</th>\n      <td>14</td>\n    </tr>\n    <tr>\n      <th>ROBO S/V DENTRO DE NEGOCIOS, AUTOSERVICIOS, CONVENIENCIA</th>\n      <td>20</td>\n    </tr>\n    <tr>\n      <th>ROBO A PASAJERO EN TROLEBUS CON VIOLENCIA</th>\n      <td>21</td>\n    </tr>\n    <tr>\n      <th>ROBO A TRANSEUNTE A BORDO DE TAXI PUBLICO Y PRIVADO SIN VIOLENCIA</th>\n      <td>24</td>\n    </tr>\n    <tr>\n      <th>ROBO A PASAJERO A BORDO DE TAXI SIN VIOLENCIA</th>\n      <td>25</td>\n    </tr>\n    <tr>\n      <th>ROBO A PASAJERO A BORDO DE METROBUS CON VIOLENCIA</th>\n      <td>30</td>\n    </tr>\n    <tr>\n      <th>ROBO A CASA HABITACION Y VEHICULO SIN VIOLENCIA</th>\n      <td>32</td>\n    </tr>\n    <tr>\n      <th>TENTATIVA DE HOMICIDIO</th>\n      <td>33</td>\n    </tr>\n    <tr>\n      <th>ROBO A TRANSEUNTE EN RESTAURANT CON VIOLENCIA</th>\n      <td>37</td>\n    </tr>\n    <tr>\n      <th>TENTATIVA DE ROBO DE VEHICULO</th>\n      <td>45</td>\n    </tr>\n    <tr>\n      <th>ROBO A TRANSEUNTE EN PARQUES Y MERCADOS CON VIOLENCIA</th>\n      <td>46</td>\n    </tr>\n    <tr>\n      <th>ROBO A PASAJERO A BORDO DE TRANSPORTE PÚBLICO SIN VIOLENCIA</th>\n      <td>92</td>\n    </tr>\n    <tr>\n      <th>ROBO A TRANSEUNTE EN NEGOCIO CON VIOLENCIA</th>\n      <td>127</td>\n    </tr>\n    <tr>\n      <th>TENTATIVA DE ROBO</th>\n      <td>132</td>\n    </tr>\n    <tr>\n      <th>ROBO A PASAJERO A BORDO DE METROBUS SIN VIOLENCIA</th>\n      <td>306</td>\n    </tr>\n    <tr>\n      <th>NARCOMENUDEO POSESIÓN CON FINES DE VENTA, COMERCIO Y SUMINISTRO</th>\n      <td>522</td>\n    </tr>\n    <tr>\n      <th>ROBO A PASAJERO / CONDUCTOR DE VEHICULO CON VIOLENCIA</th>\n      <td>619</td>\n    </tr>\n    <tr>\n      <th>ROBO DE DINERO</th>\n      <td>655</td>\n    </tr>\n    <tr>\n      <th>ROBO A TRANSEUNTE DE CELULAR SIN VIOLENCIA</th>\n      <td>900</td>\n    </tr>\n    <tr>\n      <th>ROBO A PASAJERO A BORDO DE TRANSPORTE PÚBLICO CON VIOLENCIA</th>\n      <td>976</td>\n    </tr>\n    <tr>\n      <th>ROBO A TRANSEUNTE DE CELULAR CON VIOLENCIA</th>\n      <td>1133</td>\n    </tr>\n    <tr>\n      <th>ROBO DE OBJETOS DEL INTERIOR DE UN VEHICULO</th>\n      <td>2016</td>\n    </tr>\n    <tr>\n      <th>ROBO A CASA HABITACION SIN VIOLENCIA</th>\n      <td>2700</td>\n    </tr>\n    <tr>\n      <th>ROBO DE ACCESORIOS DE AUTO</th>\n      <td>3030</td>\n    </tr>\n    <tr>\n      <th>ROBO DE OBJETOS</th>\n      <td>4960</td>\n    </tr>\n    <tr>\n      <th>ROBO A NEGOCIO SIN VIOLENCIA</th>\n      <td>6746</td>\n    </tr>\n  </tbody>\n</table>\n</div>"
     },
=======
      "text/html": [
       "<div>\n",
       "<style scoped>\n",
       "    .dataframe tbody tr th:only-of-type {\n",
       "        vertical-align: middle;\n",
       "    }\n",
       "\n",
       "    .dataframe tbody tr th {\n",
       "        vertical-align: top;\n",
       "    }\n",
       "\n",
       "    .dataframe thead th {\n",
       "        text-align: right;\n",
       "    }\n",
       "</style>\n",
       "<table border=\"1\" class=\"dataframe\">\n",
       "  <thead>\n",
       "    <tr style=\"text-align: right;\">\n",
       "      <th></th>\n",
       "      <th>crimen</th>\n",
       "      <th>Total</th>\n",
       "    </tr>\n",
       "  </thead>\n",
       "  <tbody>\n",
       "    <tr>\n",
       "      <th>131</th>\n",
       "      <td>ROBO DE DINERO</td>\n",
       "      <td>633</td>\n",
       "    </tr>\n",
       "    <tr>\n",
       "      <th>21</th>\n",
       "      <td>DAÑO EN PROPIEDAD AJENA CULPOSA</td>\n",
       "      <td>639</td>\n",
       "    </tr>\n",
       "    <tr>\n",
       "      <th>76</th>\n",
       "      <td>LESIONES INTENCIONALES POR ARMA BLANCA</td>\n",
       "      <td>694</td>\n",
       "    </tr>\n",
       "    <tr>\n",
       "      <th>108</th>\n",
       "      <td>ROBO A PASAJERO A BORDO DE TRANSPORTE PÚBLICO ...</td>\n",
       "      <td>760</td>\n",
       "    </tr>\n",
       "    <tr>\n",
       "      <th>160</th>\n",
       "      <td>USURPACIÓN DE IDENTIDAD</td>\n",
       "      <td>820</td>\n",
       "    </tr>\n",
       "    <tr>\n",
       "      <th>25</th>\n",
       "      <td>DAÑO EN PROPIEDAD AJENA INTENCIONAL</td>\n",
       "      <td>875</td>\n",
       "    </tr>\n",
       "    <tr>\n",
       "      <th>4</th>\n",
       "      <td>ABUSO SEXUAL</td>\n",
       "      <td>936</td>\n",
       "    </tr>\n",
       "    <tr>\n",
       "      <th>22</th>\n",
       "      <td>DAÑO EN PROPIEDAD AJENA CULPOSA POR TRÁNSITO V...</td>\n",
       "      <td>1059</td>\n",
       "    </tr>\n",
       "    <tr>\n",
       "      <th>77</th>\n",
       "      <td>LESIONES INTENCIONALES POR GOLPES</td>\n",
       "      <td>1120</td>\n",
       "    </tr>\n",
       "    <tr>\n",
       "      <th>3</th>\n",
       "      <td>ABUSO DE CONFIANZA</td>\n",
       "      <td>1193</td>\n",
       "    </tr>\n",
       "    <tr>\n",
       "      <th>74</th>\n",
       "      <td>LESIONES CULPOSAS POR TRANSITO VEHICULAR EN CO...</td>\n",
       "      <td>1214</td>\n",
       "    </tr>\n",
       "    <tr>\n",
       "      <th>37</th>\n",
       "      <td>DESPOJO</td>\n",
       "      <td>1314</td>\n",
       "    </tr>\n",
       "    <tr>\n",
       "      <th>79</th>\n",
       "      <td>NARCOMENUDEO POSESION SIMPLE</td>\n",
       "      <td>1336</td>\n",
       "    </tr>\n",
       "    <tr>\n",
       "      <th>120</th>\n",
       "      <td>ROBO A TRANSEUNTE DE CELULAR SIN VIOLENCIA</td>\n",
       "      <td>1425</td>\n",
       "    </tr>\n",
       "    <tr>\n",
       "      <th>51</th>\n",
       "      <td>FALSIFICACION DE TITULOS AL PORTADOR Y DOCUMEN...</td>\n",
       "      <td>1536</td>\n",
       "    </tr>\n",
       "    <tr>\n",
       "      <th>136</th>\n",
       "      <td>ROBO DE OBJETOS DEL INTERIOR DE UN VEHICULO</td>\n",
       "      <td>1781</td>\n",
       "    </tr>\n",
       "    <tr>\n",
       "      <th>119</th>\n",
       "      <td>ROBO A TRANSEUNTE DE CELULAR CON VIOLENCIA</td>\n",
       "      <td>1987</td>\n",
       "    </tr>\n",
       "    <tr>\n",
       "      <th>98</th>\n",
       "      <td>ROBO A CASA HABITACION SIN VIOLENCIA</td>\n",
       "      <td>2263</td>\n",
       "    </tr>\n",
       "    <tr>\n",
       "      <th>127</th>\n",
       "      <td>ROBO DE ACCESORIOS DE AUTO</td>\n",
       "      <td>2551</td>\n",
       "    </tr>\n",
       "    <tr>\n",
       "      <th>52</th>\n",
       "      <td>FRAUDE</td>\n",
       "      <td>3070</td>\n",
       "    </tr>\n",
       "    <tr>\n",
       "      <th>7</th>\n",
       "      <td>AMENAZAS</td>\n",
       "      <td>3548</td>\n",
       "    </tr>\n",
       "    <tr>\n",
       "      <th>134</th>\n",
       "      <td>ROBO DE OBJETOS</td>\n",
       "      <td>4278</td>\n",
       "    </tr>\n",
       "    <tr>\n",
       "      <th>100</th>\n",
       "      <td>ROBO A NEGOCIO SIN VIOLENCIA</td>\n",
       "      <td>5560</td>\n",
       "    </tr>\n",
       "    <tr>\n",
       "      <th>163</th>\n",
       "      <td>VIOLENCIA FAMILIAR</td>\n",
       "      <td>7509</td>\n",
       "    </tr>\n",
       "  </tbody>\n",
       "</table>\n",
       "</div>"
      ],
      "text/plain": [
       "                                                crimen  Total\n",
       "131                                     ROBO DE DINERO    633\n",
       "21                     DAÑO EN PROPIEDAD AJENA CULPOSA    639\n",
       "76              LESIONES INTENCIONALES POR ARMA BLANCA    694\n",
       "108  ROBO A PASAJERO A BORDO DE TRANSPORTE PÚBLICO ...    760\n",
       "160                            USURPACIÓN DE IDENTIDAD    820\n",
       "25                 DAÑO EN PROPIEDAD AJENA INTENCIONAL    875\n",
       "4                                         ABUSO SEXUAL    936\n",
       "22   DAÑO EN PROPIEDAD AJENA CULPOSA POR TRÁNSITO V...   1059\n",
       "77                   LESIONES INTENCIONALES POR GOLPES   1120\n",
       "3                                   ABUSO DE CONFIANZA   1193\n",
       "74   LESIONES CULPOSAS POR TRANSITO VEHICULAR EN CO...   1214\n",
       "37                                             DESPOJO   1314\n",
       "79                        NARCOMENUDEO POSESION SIMPLE   1336\n",
       "120         ROBO A TRANSEUNTE DE CELULAR SIN VIOLENCIA   1425\n",
       "51   FALSIFICACION DE TITULOS AL PORTADOR Y DOCUMEN...   1536\n",
       "136        ROBO DE OBJETOS DEL INTERIOR DE UN VEHICULO   1781\n",
       "119         ROBO A TRANSEUNTE DE CELULAR CON VIOLENCIA   1987\n",
       "98                ROBO A CASA HABITACION SIN VIOLENCIA   2263\n",
       "127                         ROBO DE ACCESORIOS DE AUTO   2551\n",
       "52                                              FRAUDE   3070\n",
       "7                                             AMENAZAS   3548\n",
       "134                                    ROBO DE OBJETOS   4278\n",
       "100                       ROBO A NEGOCIO SIN VIOLENCIA   5560\n",
       "163                                 VIOLENCIA FAMILIAR   7509"
      ]
     },
     "execution_count": 27,
>>>>>>> 6c7669c61f3ac62e11fa55e52d3f2fc4c63cf997
     "metadata": {},
     "execution_count": 73
    }
   ],
   "source": [
<<<<<<< HEAD
    "tabla_frecuencias_categoria('DELITO DE BAJO IMPACTO',True).set_index(['crimen']).drop(delitos_a_borrar)"
=======
    "tabla_frecuencias_categoria('DELITO DE BAJO IMPACTO',True)[140:]"
>>>>>>> 6c7669c61f3ac62e11fa55e52d3f2fc4c63cf997
   ]
  },
  {
   "cell_type": "code",
   "execution_count": null,
   "metadata": {},
   "outputs": [],
   "source": []
  }
 ],
 "metadata": {
  "kernelspec": {
   "display_name": "Python 3",
   "language": "python",
   "name": "python3"
  },
  "language_info": {
   "codemirror_mode": {
    "name": "ipython",
    "version": 3
   },
   "file_extension": ".py",
   "mimetype": "text/x-python",
   "name": "python",
   "nbconvert_exporter": "python",
   "pygments_lexer": "ipython3",
   "version": "3.7.4-final"
  }
 },
 "nbformat": 4,
 "nbformat_minor": 2
}