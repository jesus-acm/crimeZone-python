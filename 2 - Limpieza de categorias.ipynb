{
 "cells": [
  {
   "cell_type": "code",
   "execution_count": 1,
   "metadata": {},
   "outputs": [],
   "source": [
    "import pandas as pd"
   ]
  },
  {
   "cell_type": "code",
   "execution_count": 2,
   "metadata": {},
   "outputs": [
    {
     "data": {
      "text/html": [
       "<div>\n",
       "<style scoped>\n",
       "    .dataframe tbody tr th:only-of-type {\n",
       "        vertical-align: middle;\n",
       "    }\n",
       "\n",
       "    .dataframe tbody tr th {\n",
       "        vertical-align: top;\n",
       "    }\n",
       "\n",
       "    .dataframe thead th {\n",
       "        text-align: right;\n",
       "    }\n",
       "</style>\n",
       "<table border=\"1\" class=\"dataframe\">\n",
       "  <thead>\n",
       "    <tr style=\"text-align: right;\">\n",
       "      <th></th>\n",
       "      <th>fecha</th>\n",
       "      <th>crimen</th>\n",
       "      <th>categoria</th>\n",
       "      <th>colonia</th>\n",
       "      <th>long</th>\n",
       "      <th>lat</th>\n",
       "    </tr>\n",
       "  </thead>\n",
       "  <tbody>\n",
       "    <tr>\n",
       "      <th>0</th>\n",
       "      <td>2016-01-05 17:00:00</td>\n",
       "      <td>LESIONES CULPOSAS</td>\n",
       "      <td>DELITO DE BAJO IMPACTO</td>\n",
       "      <td>GRANJAS MODERNAS</td>\n",
       "      <td>-99.103527</td>\n",
       "      <td>19.481076</td>\n",
       "    </tr>\n",
       "    <tr>\n",
       "      <th>1</th>\n",
       "      <td>2016-09-23 12:00:00</td>\n",
       "      <td>FRAUDE</td>\n",
       "      <td>DELITO DE BAJO IMPACTO</td>\n",
       "      <td>LA PRADERA</td>\n",
       "      <td>-99.071243</td>\n",
       "      <td>19.475715</td>\n",
       "    </tr>\n",
       "    <tr>\n",
       "      <th>2</th>\n",
       "      <td>2017-10-31 21:30:00</td>\n",
       "      <td>DAÑO EN PROPIEDAD AJENA INTENCIONAL A AUTOMOVIL</td>\n",
       "      <td>DELITO DE BAJO IMPACTO</td>\n",
       "      <td>NUEVA INDUSTRIAL VALLEJO</td>\n",
       "      <td>-99.147318</td>\n",
       "      <td>19.500086</td>\n",
       "    </tr>\n",
       "    <tr>\n",
       "      <th>3</th>\n",
       "      <td>2018-05-21 09:00:00</td>\n",
       "      <td>VIOLENCIA FAMILIAR</td>\n",
       "      <td>DELITO DE BAJO IMPACTO</td>\n",
       "      <td>GABRIEL HERNÁNDEZ</td>\n",
       "      <td>-99.099081</td>\n",
       "      <td>19.498720</td>\n",
       "    </tr>\n",
       "    <tr>\n",
       "      <th>4</th>\n",
       "      <td>2016-01-07 08:55:00</td>\n",
       "      <td>ROBO A TRANSEUNTE EN VIA PUBLICA CON VIOLENCIA</td>\n",
       "      <td>ROBO A TRANSEUNTE EN VÍA PÚBLICA CON Y SIN VIO...</td>\n",
       "      <td>CONSTITUCIÓN DE LA REPÚBLICA</td>\n",
       "      <td>-99.105545</td>\n",
       "      <td>19.482936</td>\n",
       "    </tr>\n",
       "  </tbody>\n",
       "</table>\n",
       "</div>"
      ],
      "text/plain": [
       "                 fecha                                           crimen  \\\n",
       "0  2016-01-05 17:00:00                                LESIONES CULPOSAS   \n",
       "1  2016-09-23 12:00:00                                           FRAUDE   \n",
       "2  2017-10-31 21:30:00  DAÑO EN PROPIEDAD AJENA INTENCIONAL A AUTOMOVIL   \n",
       "3  2018-05-21 09:00:00                               VIOLENCIA FAMILIAR   \n",
       "4  2016-01-07 08:55:00   ROBO A TRANSEUNTE EN VIA PUBLICA CON VIOLENCIA   \n",
       "\n",
       "                                           categoria  \\\n",
       "0                             DELITO DE BAJO IMPACTO   \n",
       "1                             DELITO DE BAJO IMPACTO   \n",
       "2                             DELITO DE BAJO IMPACTO   \n",
       "3                             DELITO DE BAJO IMPACTO   \n",
       "4  ROBO A TRANSEUNTE EN VÍA PÚBLICA CON Y SIN VIO...   \n",
       "\n",
       "                        colonia       long        lat  \n",
       "0              GRANJAS MODERNAS -99.103527  19.481076  \n",
       "1                    LA PRADERA -99.071243  19.475715  \n",
       "2      NUEVA INDUSTRIAL VALLEJO -99.147318  19.500086  \n",
       "3             GABRIEL HERNÁNDEZ -99.099081  19.498720  \n",
       "4  CONSTITUCIÓN DE LA REPÚBLICA -99.105545  19.482936  "
      ]
     },
     "execution_count": 2,
     "metadata": {},
     "output_type": "execute_result"
    }
   ],
   "source": [
    "datos = pd.read_csv('../Archivos/crimenes-GAM-todos.csv')\n",
    "datos.head()"
   ]
  },
  {
   "cell_type": "code",
   "execution_count": 3,
   "metadata": {},
   "outputs": [
    {
     "data": {
      "text/plain": [
       "(80097, 6)"
      ]
     },
     "execution_count": 3,
     "metadata": {},
     "output_type": "execute_result"
    }
   ],
   "source": [
    "datos.shape"
   ]
  },
  {
   "cell_type": "code",
   "execution_count": 4,
   "metadata": {},
   "outputs": [
    {
     "data": {
      "text/plain": [
       "fecha         object\n",
       "crimen        object\n",
       "categoria     object\n",
       "colonia       object\n",
       "long         float64\n",
       "lat          float64\n",
       "dtype: object"
      ]
     },
     "execution_count": 4,
     "metadata": {},
     "output_type": "execute_result"
    }
   ],
   "source": [
    "datos.dtypes"
   ]
  },
  {
   "cell_type": "code",
   "execution_count": 5,
   "metadata": {},
   "outputs": [
    {
     "data": {
      "text/plain": [
       "fecha         string\n",
       "crimen        string\n",
       "categoria     string\n",
       "colonia       string\n",
       "long         float64\n",
       "lat          float64\n",
       "dtype: object"
      ]
     },
     "execution_count": 5,
     "metadata": {},
     "output_type": "execute_result"
    }
   ],
   "source": [
    "crimenes = datos.convert_dtypes()\n",
    "crimenes.dtypes"
   ]
  },
  {
   "cell_type": "code",
   "execution_count": 6,
   "metadata": {},
   "outputs": [
    {
     "data": {
      "text/plain": [
       "<StringArray>\n",
       "[                                 'DELITO DE BAJO IMPACTO',\n",
       "    'ROBO A TRANSEUNTE EN VÍA PÚBLICA CON Y SIN VIOLENCIA',\n",
       "                                      'HECHO NO DELICTIVO',\n",
       "                   'ROBO A REPARTIDOR CON Y SIN VIOLENCIA',\n",
       "                    'ROBO DE VEHÍCULO CON Y SIN VIOLENCIA',\n",
       "           'LESIONES DOLOSAS POR DISPARO DE ARMA DE FUEGO',\n",
       " 'ROBO A CUENTAHABIENTE SALIENDO DEL CAJERO CON VIOLENCIA',\n",
       "                            'ROBO A NEGOCIO CON VIOLENCIA',\n",
       "                    'ROBO A CASA HABITACIÓN CON VIOLENCIA',\n",
       "                                        'HOMICIDIO DOLOSO',\n",
       " 'ROBO A PASAJERO A BORDO DE MICROBUS CON Y SIN VIOLENCIA',\n",
       "   'ROBO A PASAJERO A BORDO DEL METRO CON Y SIN VIOLENCIA',\n",
       "                                               'VIOLACIÓN',\n",
       "           'ROBO A PASAJERO A BORDO DE TAXI CON VIOLENCIA',\n",
       "                'ROBO A TRANSPORTISTA CON Y SIN VIOLENCIA',\n",
       "                                               'SECUESTRO']\n",
       "Length: 16, dtype: string"
      ]
     },
     "execution_count": 6,
     "metadata": {},
     "output_type": "execute_result"
    }
   ],
   "source": [
    "crimenes['categoria'].unique()"
   ]
  },
  {
   "cell_type": "code",
   "execution_count": 7,
   "metadata": {},
   "outputs": [
    {
     "data": {
      "text/html": [
       "<div>\n",
       "<style scoped>\n",
       "    .dataframe tbody tr th:only-of-type {\n",
       "        vertical-align: middle;\n",
       "    }\n",
       "\n",
       "    .dataframe tbody tr th {\n",
       "        vertical-align: top;\n",
       "    }\n",
       "\n",
       "    .dataframe thead th {\n",
       "        text-align: right;\n",
       "    }\n",
       "</style>\n",
       "<table border=\"1\" class=\"dataframe\">\n",
       "  <thead>\n",
       "    <tr style=\"text-align: right;\">\n",
       "      <th></th>\n",
       "      <th>categoria</th>\n",
       "      <th>cuenta_delito</th>\n",
       "    </tr>\n",
       "  </thead>\n",
       "  <tbody>\n",
       "    <tr>\n",
       "      <th>14</th>\n",
       "      <td>SECUESTRO</td>\n",
       "      <td>11</td>\n",
       "    </tr>\n",
       "    <tr>\n",
       "      <th>12</th>\n",
       "      <td>ROBO A TRANSPORTISTA CON Y SIN VIOLENCIA</td>\n",
       "      <td>62</td>\n",
       "    </tr>\n",
       "    <tr>\n",
       "      <th>8</th>\n",
       "      <td>ROBO A PASAJERO A BORDO DE TAXI CON VIOLENCIA</td>\n",
       "      <td>74</td>\n",
       "    </tr>\n",
       "    <tr>\n",
       "      <th>5</th>\n",
       "      <td>ROBO A CUENTAHABIENTE SALIENDO DEL CAJERO CON ...</td>\n",
       "      <td>182</td>\n",
       "    </tr>\n",
       "    <tr>\n",
       "      <th>15</th>\n",
       "      <td>VIOLACIÓN</td>\n",
       "      <td>218</td>\n",
       "    </tr>\n",
       "    <tr>\n",
       "      <th>4</th>\n",
       "      <td>ROBO A CASA HABITACIÓN CON VIOLENCIA</td>\n",
       "      <td>241</td>\n",
       "    </tr>\n",
       "    <tr>\n",
       "      <th>9</th>\n",
       "      <td>ROBO A PASAJERO A BORDO DEL METRO CON Y SIN VI...</td>\n",
       "      <td>241</td>\n",
       "    </tr>\n",
       "    <tr>\n",
       "      <th>7</th>\n",
       "      <td>ROBO A PASAJERO A BORDO DE MICROBUS CON Y SIN ...</td>\n",
       "      <td>419</td>\n",
       "    </tr>\n",
       "    <tr>\n",
       "      <th>2</th>\n",
       "      <td>HOMICIDIO DOLOSO</td>\n",
       "      <td>739</td>\n",
       "    </tr>\n",
       "    <tr>\n",
       "      <th>10</th>\n",
       "      <td>ROBO A REPARTIDOR CON Y SIN VIOLENCIA</td>\n",
       "      <td>1067</td>\n",
       "    </tr>\n",
       "    <tr>\n",
       "      <th>3</th>\n",
       "      <td>LESIONES DOLOSAS POR DISPARO DE ARMA DE FUEGO</td>\n",
       "      <td>1111</td>\n",
       "    </tr>\n",
       "    <tr>\n",
       "      <th>6</th>\n",
       "      <td>ROBO A NEGOCIO CON VIOLENCIA</td>\n",
       "      <td>1369</td>\n",
       "    </tr>\n",
       "    <tr>\n",
       "      <th>11</th>\n",
       "      <td>ROBO A TRANSEUNTE EN VÍA PÚBLICA CON Y SIN VIO...</td>\n",
       "      <td>3524</td>\n",
       "    </tr>\n",
       "    <tr>\n",
       "      <th>1</th>\n",
       "      <td>HECHO NO DELICTIVO</td>\n",
       "      <td>5154</td>\n",
       "    </tr>\n",
       "    <tr>\n",
       "      <th>13</th>\n",
       "      <td>ROBO DE VEHÍCULO CON Y SIN VIOLENCIA</td>\n",
       "      <td>6075</td>\n",
       "    </tr>\n",
       "    <tr>\n",
       "      <th>0</th>\n",
       "      <td>DELITO DE BAJO IMPACTO</td>\n",
       "      <td>59610</td>\n",
       "    </tr>\n",
       "  </tbody>\n",
       "</table>\n",
       "</div>"
      ],
      "text/plain": [
       "                                            categoria  cuenta_delito\n",
       "14                                          SECUESTRO             11\n",
       "12           ROBO A TRANSPORTISTA CON Y SIN VIOLENCIA             62\n",
       "8       ROBO A PASAJERO A BORDO DE TAXI CON VIOLENCIA             74\n",
       "5   ROBO A CUENTAHABIENTE SALIENDO DEL CAJERO CON ...            182\n",
       "15                                          VIOLACIÓN            218\n",
       "4                ROBO A CASA HABITACIÓN CON VIOLENCIA            241\n",
       "9   ROBO A PASAJERO A BORDO DEL METRO CON Y SIN VI...            241\n",
       "7   ROBO A PASAJERO A BORDO DE MICROBUS CON Y SIN ...            419\n",
       "2                                    HOMICIDIO DOLOSO            739\n",
       "10              ROBO A REPARTIDOR CON Y SIN VIOLENCIA           1067\n",
       "3       LESIONES DOLOSAS POR DISPARO DE ARMA DE FUEGO           1111\n",
       "6                        ROBO A NEGOCIO CON VIOLENCIA           1369\n",
       "11  ROBO A TRANSEUNTE EN VÍA PÚBLICA CON Y SIN VIO...           3524\n",
       "1                                  HECHO NO DELICTIVO           5154\n",
       "13               ROBO DE VEHÍCULO CON Y SIN VIOLENCIA           6075\n",
       "0                              DELITO DE BAJO IMPACTO          59610"
      ]
     },
     "execution_count": 7,
     "metadata": {},
     "output_type": "execute_result"
    }
   ],
   "source": [
    "crimenes.groupby(['categoria']).size().to_frame().reset_index().rename(columns={\n",
    "    0:'cuenta_delito'\n",
    "}).sort_values(by='cuenta_delito',ascending=True)"
   ]
  },
  {
   "cell_type": "code",
   "execution_count": 8,
   "metadata": {},
   "outputs": [],
   "source": [
    "def tabla_frecuencias_categoria(categoria, ascendente):\n",
    "    return crimenes[crimenes['categoria']==categoria].groupby(['crimen']).size().to_frame().reset_index().rename(columns={\n",
    "    0:'Total'\n",
    "}).sort_values(by='Total',ascending=~ascendente)"
   ]
  },
  {
   "cell_type": "code",
   "execution_count": 9,
   "metadata": {},
   "outputs": [
    {
     "data": {
      "text/plain": [
       "14"
      ]
     },
     "execution_count": 9,
     "metadata": {},
     "output_type": "execute_result"
    }
   ],
   "source": [
    "pd.isnull(crimenes['fecha']).values.ravel().sum()"
   ]
  },
  {
   "cell_type": "markdown",
   "metadata": {},
   "source": [
    "# Secuestro"
   ]
  },
  {
   "cell_type": "code",
   "execution_count": 10,
   "metadata": {},
   "outputs": [
    {
     "data": {
      "text/html": [
       "<div>\n",
       "<style scoped>\n",
       "    .dataframe tbody tr th:only-of-type {\n",
       "        vertical-align: middle;\n",
       "    }\n",
       "\n",
       "    .dataframe tbody tr th {\n",
       "        vertical-align: top;\n",
       "    }\n",
       "\n",
       "    .dataframe thead th {\n",
       "        text-align: right;\n",
       "    }\n",
       "</style>\n",
       "<table border=\"1\" class=\"dataframe\">\n",
       "  <thead>\n",
       "    <tr style=\"text-align: right;\">\n",
       "      <th></th>\n",
       "      <th>crimen</th>\n",
       "      <th>Total</th>\n",
       "    </tr>\n",
       "  </thead>\n",
       "  <tbody>\n",
       "    <tr>\n",
       "      <th>0</th>\n",
       "      <td>PLAGIO O SECUESTRO</td>\n",
       "      <td>11</td>\n",
       "    </tr>\n",
       "  </tbody>\n",
       "</table>\n",
       "</div>"
      ],
      "text/plain": [
       "               crimen  Total\n",
       "0  PLAGIO O SECUESTRO     11"
      ]
     },
     "execution_count": 10,
     "metadata": {},
     "output_type": "execute_result"
    }
   ],
   "source": [
    "tabla_frecuencias_categoria('SECUESTRO', True)"
   ]
  },
  {
   "cell_type": "markdown",
   "metadata": {},
   "source": [
    "# Robo a transportista con y sin violencia"
   ]
  },
  {
   "cell_type": "code",
   "execution_count": 11,
   "metadata": {},
   "outputs": [
    {
     "data": {
      "text/html": [
       "<div>\n",
       "<style scoped>\n",
       "    .dataframe tbody tr th:only-of-type {\n",
       "        vertical-align: middle;\n",
       "    }\n",
       "\n",
       "    .dataframe tbody tr th {\n",
       "        vertical-align: top;\n",
       "    }\n",
       "\n",
       "    .dataframe thead th {\n",
       "        text-align: right;\n",
       "    }\n",
       "</style>\n",
       "<table border=\"1\" class=\"dataframe\">\n",
       "  <thead>\n",
       "    <tr style=\"text-align: right;\">\n",
       "      <th></th>\n",
       "      <th>crimen</th>\n",
       "      <th>Total</th>\n",
       "    </tr>\n",
       "  </thead>\n",
       "  <tbody>\n",
       "    <tr>\n",
       "      <th>1</th>\n",
       "      <td>ROBO A TRANSPORTISTA Y VEHICULO PESADO SIN VIO...</td>\n",
       "      <td>6</td>\n",
       "    </tr>\n",
       "    <tr>\n",
       "      <th>0</th>\n",
       "      <td>ROBO A TRANSPORTISTA Y VEHICULO PESADO CON VIO...</td>\n",
       "      <td>56</td>\n",
       "    </tr>\n",
       "  </tbody>\n",
       "</table>\n",
       "</div>"
      ],
      "text/plain": [
       "                                              crimen  Total\n",
       "1  ROBO A TRANSPORTISTA Y VEHICULO PESADO SIN VIO...      6\n",
       "0  ROBO A TRANSPORTISTA Y VEHICULO PESADO CON VIO...     56"
      ]
     },
     "execution_count": 11,
     "metadata": {},
     "output_type": "execute_result"
    }
   ],
   "source": [
    "tabla_frecuencias_categoria('ROBO A TRANSPORTISTA CON Y SIN VIOLENCIA', True)"
   ]
  },
  {
   "cell_type": "markdown",
   "metadata": {},
   "source": [
    " # Robo a pasajero a bordo de taxi con violencia"
   ]
  },
  {
   "cell_type": "code",
   "execution_count": 12,
   "metadata": {},
   "outputs": [
    {
     "data": {
      "text/html": [
       "<div>\n",
       "<style scoped>\n",
       "    .dataframe tbody tr th:only-of-type {\n",
       "        vertical-align: middle;\n",
       "    }\n",
       "\n",
       "    .dataframe tbody tr th {\n",
       "        vertical-align: top;\n",
       "    }\n",
       "\n",
       "    .dataframe thead th {\n",
       "        text-align: right;\n",
       "    }\n",
       "</style>\n",
       "<table border=\"1\" class=\"dataframe\">\n",
       "  <thead>\n",
       "    <tr style=\"text-align: right;\">\n",
       "      <th></th>\n",
       "      <th>crimen</th>\n",
       "      <th>Total</th>\n",
       "    </tr>\n",
       "  </thead>\n",
       "  <tbody>\n",
       "    <tr>\n",
       "      <th>0</th>\n",
       "      <td>ROBO A PASAJERO A BORDO DE TAXI CON VIOLENCIA</td>\n",
       "      <td>74</td>\n",
       "    </tr>\n",
       "  </tbody>\n",
       "</table>\n",
       "</div>"
      ],
      "text/plain": [
       "                                          crimen  Total\n",
       "0  ROBO A PASAJERO A BORDO DE TAXI CON VIOLENCIA     74"
      ]
     },
     "execution_count": 12,
     "metadata": {},
     "output_type": "execute_result"
    }
   ],
   "source": [
    "tabla_frecuencias_categoria('ROBO A PASAJERO A BORDO DE TAXI CON VIOLENCIA', True)"
   ]
  },
  {
   "cell_type": "markdown",
   "metadata": {},
   "source": [
    "# Robo a cuentahabiente saliendo del cajero con violencia"
   ]
  },
  {
   "cell_type": "code",
   "execution_count": 13,
   "metadata": {},
   "outputs": [
    {
     "data": {
      "text/html": [
       "<div>\n",
       "<style scoped>\n",
       "    .dataframe tbody tr th:only-of-type {\n",
       "        vertical-align: middle;\n",
       "    }\n",
       "\n",
       "    .dataframe tbody tr th {\n",
       "        vertical-align: top;\n",
       "    }\n",
       "\n",
       "    .dataframe thead th {\n",
       "        text-align: right;\n",
       "    }\n",
       "</style>\n",
       "<table border=\"1\" class=\"dataframe\">\n",
       "  <thead>\n",
       "    <tr style=\"text-align: right;\">\n",
       "      <th></th>\n",
       "      <th>crimen</th>\n",
       "      <th>Total</th>\n",
       "    </tr>\n",
       "  </thead>\n",
       "  <tbody>\n",
       "    <tr>\n",
       "      <th>1</th>\n",
       "      <td>ROBO A TRANSEUNTE SALIENDO DEL CAJERO CON VIOL...</td>\n",
       "      <td>20</td>\n",
       "    </tr>\n",
       "    <tr>\n",
       "      <th>0</th>\n",
       "      <td>ROBO A TRANSEUNTE SALIENDO DEL BANCO CON VIOLE...</td>\n",
       "      <td>162</td>\n",
       "    </tr>\n",
       "  </tbody>\n",
       "</table>\n",
       "</div>"
      ],
      "text/plain": [
       "                                              crimen  Total\n",
       "1  ROBO A TRANSEUNTE SALIENDO DEL CAJERO CON VIOL...     20\n",
       "0  ROBO A TRANSEUNTE SALIENDO DEL BANCO CON VIOLE...    162"
      ]
     },
     "execution_count": 13,
     "metadata": {},
     "output_type": "execute_result"
    }
   ],
   "source": [
    "tabla_frecuencias_categoria('ROBO A CUENTAHABIENTE SALIENDO DEL CAJERO CON VIOLENCIA', True)"
   ]
  },
  {
   "cell_type": "markdown",
   "metadata": {},
   "source": [
    "# Violación"
   ]
  },
  {
   "cell_type": "code",
   "execution_count": 14,
   "metadata": {},
   "outputs": [
    {
     "data": {
      "text/html": [
       "<div>\n",
       "<style scoped>\n",
       "    .dataframe tbody tr th:only-of-type {\n",
       "        vertical-align: middle;\n",
       "    }\n",
       "\n",
       "    .dataframe tbody tr th {\n",
       "        vertical-align: top;\n",
       "    }\n",
       "\n",
       "    .dataframe thead th {\n",
       "        text-align: right;\n",
       "    }\n",
       "</style>\n",
       "<table border=\"1\" class=\"dataframe\">\n",
       "  <thead>\n",
       "    <tr style=\"text-align: right;\">\n",
       "      <th></th>\n",
       "      <th>crimen</th>\n",
       "      <th>Total</th>\n",
       "    </tr>\n",
       "  </thead>\n",
       "  <tbody>\n",
       "    <tr>\n",
       "      <th>2</th>\n",
       "      <td>VIOLACION TUMULTUARIA</td>\n",
       "      <td>5</td>\n",
       "    </tr>\n",
       "    <tr>\n",
       "      <th>1</th>\n",
       "      <td>VIOLACION EQUIPARADA</td>\n",
       "      <td>24</td>\n",
       "    </tr>\n",
       "    <tr>\n",
       "      <th>0</th>\n",
       "      <td>VIOLACION</td>\n",
       "      <td>189</td>\n",
       "    </tr>\n",
       "  </tbody>\n",
       "</table>\n",
       "</div>"
      ],
      "text/plain": [
       "                  crimen  Total\n",
       "2  VIOLACION TUMULTUARIA      5\n",
       "1   VIOLACION EQUIPARADA     24\n",
       "0              VIOLACION    189"
      ]
     },
     "execution_count": 14,
     "metadata": {},
     "output_type": "execute_result"
    }
   ],
   "source": [
    "tabla_frecuencias_categoria('VIOLACIÓN', True)"
   ]
  },
  {
   "cell_type": "code",
   "execution_count": 15,
   "metadata": {},
   "outputs": [
    {
     "data": {
      "text/plain": [
       "(79879, 6)"
      ]
     },
     "execution_count": 15,
     "metadata": {},
     "output_type": "execute_result"
    }
   ],
   "source": [
    "crimenes = crimenes[crimenes['categoria']!='VIOLACIÓN']\n",
    "crimenes.shape"
   ]
  },
  {
   "cell_type": "markdown",
   "metadata": {},
   "source": [
    "# Robo a casa habitación con violencia"
   ]
  },
  {
   "cell_type": "code",
   "execution_count": 16,
   "metadata": {},
   "outputs": [
    {
     "data": {
      "text/html": [
       "<div>\n",
       "<style scoped>\n",
       "    .dataframe tbody tr th:only-of-type {\n",
       "        vertical-align: middle;\n",
       "    }\n",
       "\n",
       "    .dataframe tbody tr th {\n",
       "        vertical-align: top;\n",
       "    }\n",
       "\n",
       "    .dataframe thead th {\n",
       "        text-align: right;\n",
       "    }\n",
       "</style>\n",
       "<table border=\"1\" class=\"dataframe\">\n",
       "  <thead>\n",
       "    <tr style=\"text-align: right;\">\n",
       "      <th></th>\n",
       "      <th>crimen</th>\n",
       "      <th>Total</th>\n",
       "    </tr>\n",
       "  </thead>\n",
       "  <tbody>\n",
       "    <tr>\n",
       "      <th>1</th>\n",
       "      <td>ROBO A CASA HABITACION Y VEHICULO CON VIOLENCIA</td>\n",
       "      <td>36</td>\n",
       "    </tr>\n",
       "    <tr>\n",
       "      <th>0</th>\n",
       "      <td>ROBO A CASA HABITACION CON VIOLENCIA</td>\n",
       "      <td>205</td>\n",
       "    </tr>\n",
       "  </tbody>\n",
       "</table>\n",
       "</div>"
      ],
      "text/plain": [
       "                                            crimen  Total\n",
       "1  ROBO A CASA HABITACION Y VEHICULO CON VIOLENCIA     36\n",
       "0             ROBO A CASA HABITACION CON VIOLENCIA    205"
      ]
     },
     "execution_count": 16,
     "metadata": {},
     "output_type": "execute_result"
    }
   ],
   "source": [
    "tabla_frecuencias_categoria('ROBO A CASA HABITACIÓN CON VIOLENCIA', True)"
   ]
  },
  {
   "cell_type": "markdown",
   "metadata": {},
   "source": [
    "#  Robo a pasajero a bordo del metro con y sin violencia"
   ]
  },
  {
   "cell_type": "code",
   "execution_count": 17,
   "metadata": {},
   "outputs": [
    {
     "data": {
      "text/html": [
       "<div>\n",
       "<style scoped>\n",
       "    .dataframe tbody tr th:only-of-type {\n",
       "        vertical-align: middle;\n",
       "    }\n",
       "\n",
       "    .dataframe tbody tr th {\n",
       "        vertical-align: top;\n",
       "    }\n",
       "\n",
       "    .dataframe thead th {\n",
       "        text-align: right;\n",
       "    }\n",
       "</style>\n",
       "<table border=\"1\" class=\"dataframe\">\n",
       "  <thead>\n",
       "    <tr style=\"text-align: right;\">\n",
       "      <th></th>\n",
       "      <th>crimen</th>\n",
       "      <th>Total</th>\n",
       "    </tr>\n",
       "  </thead>\n",
       "  <tbody>\n",
       "    <tr>\n",
       "      <th>0</th>\n",
       "      <td>ROBO A PASAJERO A BORDO DE METRO CON VIOLENCIA</td>\n",
       "      <td>39</td>\n",
       "    </tr>\n",
       "    <tr>\n",
       "      <th>1</th>\n",
       "      <td>ROBO A PASAJERO A BORDO DE METRO SIN VIOLENCIA</td>\n",
       "      <td>202</td>\n",
       "    </tr>\n",
       "  </tbody>\n",
       "</table>\n",
       "</div>"
      ],
      "text/plain": [
       "                                           crimen  Total\n",
       "0  ROBO A PASAJERO A BORDO DE METRO CON VIOLENCIA     39\n",
       "1  ROBO A PASAJERO A BORDO DE METRO SIN VIOLENCIA    202"
      ]
     },
     "execution_count": 17,
     "metadata": {},
     "output_type": "execute_result"
    }
   ],
   "source": [
    "tabla_frecuencias_categoria('ROBO A PASAJERO A BORDO DEL METRO CON Y SIN VIOLENCIA', True)"
   ]
  },
  {
   "cell_type": "markdown",
   "metadata": {},
   "source": [
    "# Robo a pasajero a bordo de microbus con y sin violencia"
   ]
  },
  {
   "cell_type": "code",
   "execution_count": 18,
   "metadata": {},
   "outputs": [
    {
     "data": {
      "text/html": [
       "<div>\n",
       "<style scoped>\n",
       "    .dataframe tbody tr th:only-of-type {\n",
       "        vertical-align: middle;\n",
       "    }\n",
       "\n",
       "    .dataframe tbody tr th {\n",
       "        vertical-align: top;\n",
       "    }\n",
       "\n",
       "    .dataframe thead th {\n",
       "        text-align: right;\n",
       "    }\n",
       "</style>\n",
       "<table border=\"1\" class=\"dataframe\">\n",
       "  <thead>\n",
       "    <tr style=\"text-align: right;\">\n",
       "      <th></th>\n",
       "      <th>crimen</th>\n",
       "      <th>Total</th>\n",
       "    </tr>\n",
       "  </thead>\n",
       "  <tbody>\n",
       "    <tr>\n",
       "      <th>1</th>\n",
       "      <td>ROBO A PASAJERO A BORDO DE PESERO COLECTIVO SI...</td>\n",
       "      <td>32</td>\n",
       "    </tr>\n",
       "    <tr>\n",
       "      <th>0</th>\n",
       "      <td>ROBO A PASAJERO A BORDO DE PESERO COLECTIVO CO...</td>\n",
       "      <td>387</td>\n",
       "    </tr>\n",
       "  </tbody>\n",
       "</table>\n",
       "</div>"
      ],
      "text/plain": [
       "                                              crimen  Total\n",
       "1  ROBO A PASAJERO A BORDO DE PESERO COLECTIVO SI...     32\n",
       "0  ROBO A PASAJERO A BORDO DE PESERO COLECTIVO CO...    387"
      ]
     },
     "execution_count": 18,
     "metadata": {},
     "output_type": "execute_result"
    }
   ],
   "source": [
    "tabla_frecuencias_categoria('ROBO A PASAJERO A BORDO DE MICROBUS CON Y SIN VIOLENCIA', True)"
   ]
  },
  {
   "cell_type": "markdown",
   "metadata": {},
   "source": [
    "# Homicidio doloso"
   ]
  },
  {
   "cell_type": "code",
   "execution_count": 19,
   "metadata": {},
   "outputs": [
    {
     "data": {
      "text/html": [
       "<div>\n",
       "<style scoped>\n",
       "    .dataframe tbody tr th:only-of-type {\n",
       "        vertical-align: middle;\n",
       "    }\n",
       "\n",
       "    .dataframe tbody tr th {\n",
       "        vertical-align: top;\n",
       "    }\n",
       "\n",
       "    .dataframe thead th {\n",
       "        text-align: right;\n",
       "    }\n",
       "</style>\n",
       "<table border=\"1\" class=\"dataframe\">\n",
       "  <thead>\n",
       "    <tr style=\"text-align: right;\">\n",
       "      <th></th>\n",
       "      <th>crimen</th>\n",
       "      <th>Total</th>\n",
       "    </tr>\n",
       "  </thead>\n",
       "  <tbody>\n",
       "    <tr>\n",
       "      <th>1</th>\n",
       "      <td>HOMICIDIO POR AHORCAMIENTO</td>\n",
       "      <td>1</td>\n",
       "    </tr>\n",
       "    <tr>\n",
       "      <th>0</th>\n",
       "      <td>FEMINICIDIO</td>\n",
       "      <td>18</td>\n",
       "    </tr>\n",
       "    <tr>\n",
       "      <th>4</th>\n",
       "      <td>HOMICIDIO POR GOLPES</td>\n",
       "      <td>33</td>\n",
       "    </tr>\n",
       "    <tr>\n",
       "      <th>5</th>\n",
       "      <td>HOMICIDIOS INTENCIONALES (OTROS)</td>\n",
       "      <td>47</td>\n",
       "    </tr>\n",
       "    <tr>\n",
       "      <th>2</th>\n",
       "      <td>HOMICIDIO POR ARMA BLANCA</td>\n",
       "      <td>69</td>\n",
       "    </tr>\n",
       "    <tr>\n",
       "      <th>3</th>\n",
       "      <td>HOMICIDIO POR ARMA DE FUEGO</td>\n",
       "      <td>571</td>\n",
       "    </tr>\n",
       "  </tbody>\n",
       "</table>\n",
       "</div>"
      ],
      "text/plain": [
       "                             crimen  Total\n",
       "1        HOMICIDIO POR AHORCAMIENTO      1\n",
       "0                       FEMINICIDIO     18\n",
       "4              HOMICIDIO POR GOLPES     33\n",
       "5  HOMICIDIOS INTENCIONALES (OTROS)     47\n",
       "2         HOMICIDIO POR ARMA BLANCA     69\n",
       "3       HOMICIDIO POR ARMA DE FUEGO    571"
      ]
     },
     "execution_count": 19,
     "metadata": {},
     "output_type": "execute_result"
    }
   ],
   "source": [
    "tabla_frecuencias_categoria('HOMICIDIO DOLOSO', True)"
   ]
  },
  {
   "cell_type": "markdown",
   "metadata": {},
   "source": [
    "# Robo a repartidor con y sin violencia"
   ]
  },
  {
   "cell_type": "code",
   "execution_count": 20,
   "metadata": {},
   "outputs": [
    {
     "data": {
      "text/html": [
       "<div>\n",
       "<style scoped>\n",
       "    .dataframe tbody tr th:only-of-type {\n",
       "        vertical-align: middle;\n",
       "    }\n",
       "\n",
       "    .dataframe tbody tr th {\n",
       "        vertical-align: top;\n",
       "    }\n",
       "\n",
       "    .dataframe thead th {\n",
       "        text-align: right;\n",
       "    }\n",
       "</style>\n",
       "<table border=\"1\" class=\"dataframe\">\n",
       "  <thead>\n",
       "    <tr style=\"text-align: right;\">\n",
       "      <th></th>\n",
       "      <th>crimen</th>\n",
       "      <th>Total</th>\n",
       "    </tr>\n",
       "  </thead>\n",
       "  <tbody>\n",
       "    <tr>\n",
       "      <th>3</th>\n",
       "      <td>ROBO A REPARTIDOR Y VEHICULO SIN VIOLENCIA</td>\n",
       "      <td>12</td>\n",
       "    </tr>\n",
       "    <tr>\n",
       "      <th>2</th>\n",
       "      <td>ROBO A REPARTIDOR Y VEHICULO CON VIOLENCIA</td>\n",
       "      <td>62</td>\n",
       "    </tr>\n",
       "    <tr>\n",
       "      <th>1</th>\n",
       "      <td>ROBO A REPARTIDOR SIN VIOLENCIA</td>\n",
       "      <td>133</td>\n",
       "    </tr>\n",
       "    <tr>\n",
       "      <th>0</th>\n",
       "      <td>ROBO A REPARTIDOR CON VIOLENCIA</td>\n",
       "      <td>860</td>\n",
       "    </tr>\n",
       "  </tbody>\n",
       "</table>\n",
       "</div>"
      ],
      "text/plain": [
       "                                       crimen  Total\n",
       "3  ROBO A REPARTIDOR Y VEHICULO SIN VIOLENCIA     12\n",
       "2  ROBO A REPARTIDOR Y VEHICULO CON VIOLENCIA     62\n",
       "1             ROBO A REPARTIDOR SIN VIOLENCIA    133\n",
       "0             ROBO A REPARTIDOR CON VIOLENCIA    860"
      ]
     },
     "execution_count": 20,
     "metadata": {},
     "output_type": "execute_result"
    }
   ],
   "source": [
    "tabla_frecuencias_categoria('ROBO A REPARTIDOR CON Y SIN VIOLENCIA', True)"
   ]
  },
  {
   "cell_type": "markdown",
   "metadata": {},
   "source": [
    "# Lesiones dolosas por disparo de arma de fuego"
   ]
  },
  {
   "cell_type": "code",
   "execution_count": 21,
   "metadata": {},
   "outputs": [
    {
     "data": {
      "text/html": [
       "<div>\n",
       "<style scoped>\n",
       "    .dataframe tbody tr th:only-of-type {\n",
       "        vertical-align: middle;\n",
       "    }\n",
       "\n",
       "    .dataframe tbody tr th {\n",
       "        vertical-align: top;\n",
       "    }\n",
       "\n",
       "    .dataframe thead th {\n",
       "        text-align: right;\n",
       "    }\n",
       "</style>\n",
       "<table border=\"1\" class=\"dataframe\">\n",
       "  <thead>\n",
       "    <tr style=\"text-align: right;\">\n",
       "      <th></th>\n",
       "      <th>crimen</th>\n",
       "      <th>Total</th>\n",
       "    </tr>\n",
       "  </thead>\n",
       "  <tbody>\n",
       "    <tr>\n",
       "      <th>0</th>\n",
       "      <td>LESIONES INTENCIONALES POR ARMA DE FUEGO</td>\n",
       "      <td>1111</td>\n",
       "    </tr>\n",
       "  </tbody>\n",
       "</table>\n",
       "</div>"
      ],
      "text/plain": [
       "                                     crimen  Total\n",
       "0  LESIONES INTENCIONALES POR ARMA DE FUEGO   1111"
      ]
     },
     "execution_count": 21,
     "metadata": {},
     "output_type": "execute_result"
    }
   ],
   "source": [
    "tabla_frecuencias_categoria('LESIONES DOLOSAS POR DISPARO DE ARMA DE FUEGO', True)"
   ]
  },
  {
   "cell_type": "markdown",
   "metadata": {},
   "source": [
    "# Robo a negocio con violencia"
   ]
  },
  {
   "cell_type": "code",
   "execution_count": 22,
   "metadata": {},
   "outputs": [
    {
     "data": {
      "text/html": [
       "<div>\n",
       "<style scoped>\n",
       "    .dataframe tbody tr th:only-of-type {\n",
       "        vertical-align: middle;\n",
       "    }\n",
       "\n",
       "    .dataframe tbody tr th {\n",
       "        vertical-align: top;\n",
       "    }\n",
       "\n",
       "    .dataframe thead th {\n",
       "        text-align: right;\n",
       "    }\n",
       "</style>\n",
       "<table border=\"1\" class=\"dataframe\">\n",
       "  <thead>\n",
       "    <tr style=\"text-align: right;\">\n",
       "      <th></th>\n",
       "      <th>crimen</th>\n",
       "      <th>Total</th>\n",
       "    </tr>\n",
       "  </thead>\n",
       "  <tbody>\n",
       "    <tr>\n",
       "      <th>4</th>\n",
       "      <td>ROBO A SUCURSAL BANCARIA (SUPERMERCADO) CON VI...</td>\n",
       "      <td>1</td>\n",
       "    </tr>\n",
       "    <tr>\n",
       "      <th>5</th>\n",
       "      <td>ROBO DE VEHICULO Y NOMINA CON VIOLENCIA</td>\n",
       "      <td>1</td>\n",
       "    </tr>\n",
       "    <tr>\n",
       "      <th>6</th>\n",
       "      <td>ROBO DURANTE TRASLADO DE VALORES (NOMINA) CON ...</td>\n",
       "      <td>1</td>\n",
       "    </tr>\n",
       "    <tr>\n",
       "      <th>1</th>\n",
       "      <td>ROBO A NEGOCIO Y VEHICULO CON VIOLENCIA</td>\n",
       "      <td>4</td>\n",
       "    </tr>\n",
       "    <tr>\n",
       "      <th>2</th>\n",
       "      <td>ROBO A OFICINA PÚBLICA CON VIOLENCIA</td>\n",
       "      <td>4</td>\n",
       "    </tr>\n",
       "    <tr>\n",
       "      <th>3</th>\n",
       "      <td>ROBO A SUCURSAL BANCARIA (ASALTO BANCARIO) CON...</td>\n",
       "      <td>4</td>\n",
       "    </tr>\n",
       "    <tr>\n",
       "      <th>0</th>\n",
       "      <td>ROBO A NEGOCIO CON VIOLENCIA</td>\n",
       "      <td>1354</td>\n",
       "    </tr>\n",
       "  </tbody>\n",
       "</table>\n",
       "</div>"
      ],
      "text/plain": [
       "                                              crimen  Total\n",
       "4  ROBO A SUCURSAL BANCARIA (SUPERMERCADO) CON VI...      1\n",
       "5            ROBO DE VEHICULO Y NOMINA CON VIOLENCIA      1\n",
       "6  ROBO DURANTE TRASLADO DE VALORES (NOMINA) CON ...      1\n",
       "1            ROBO A NEGOCIO Y VEHICULO CON VIOLENCIA      4\n",
       "2               ROBO A OFICINA PÚBLICA CON VIOLENCIA      4\n",
       "3  ROBO A SUCURSAL BANCARIA (ASALTO BANCARIO) CON...      4\n",
       "0                       ROBO A NEGOCIO CON VIOLENCIA   1354"
      ]
     },
     "execution_count": 22,
     "metadata": {},
     "output_type": "execute_result"
    }
   ],
   "source": [
    "tabla_frecuencias_categoria('ROBO A NEGOCIO CON VIOLENCIA', True)"
   ]
  },
  {
   "cell_type": "markdown",
   "metadata": {},
   "source": [
    "# Robo a transeunte en  vía pública con y sin violencia"
   ]
  },
  {
   "cell_type": "code",
   "execution_count": 23,
   "metadata": {},
   "outputs": [
    {
     "data": {
      "text/html": [
       "<div>\n",
       "<style scoped>\n",
       "    .dataframe tbody tr th:only-of-type {\n",
       "        vertical-align: middle;\n",
       "    }\n",
       "\n",
       "    .dataframe tbody tr th {\n",
       "        vertical-align: top;\n",
       "    }\n",
       "\n",
       "    .dataframe thead th {\n",
       "        text-align: right;\n",
       "    }\n",
       "</style>\n",
       "<table border=\"1\" class=\"dataframe\">\n",
       "  <thead>\n",
       "    <tr style=\"text-align: right;\">\n",
       "      <th></th>\n",
       "      <th>crimen</th>\n",
       "      <th>Total</th>\n",
       "    </tr>\n",
       "  </thead>\n",
       "  <tbody>\n",
       "    <tr>\n",
       "      <th>0</th>\n",
       "      <td>ROBO A TRANSEUNTE EN VIA PUBLICA (NOMINA) CON ...</td>\n",
       "      <td>4</td>\n",
       "    </tr>\n",
       "    <tr>\n",
       "      <th>2</th>\n",
       "      <td>ROBO A TRANSEUNTE EN VIA PUBLICA SIN VIOLENCIA</td>\n",
       "      <td>410</td>\n",
       "    </tr>\n",
       "    <tr>\n",
       "      <th>1</th>\n",
       "      <td>ROBO A TRANSEUNTE EN VIA PUBLICA CON VIOLENCIA</td>\n",
       "      <td>3110</td>\n",
       "    </tr>\n",
       "  </tbody>\n",
       "</table>\n",
       "</div>"
      ],
      "text/plain": [
       "                                              crimen  Total\n",
       "0  ROBO A TRANSEUNTE EN VIA PUBLICA (NOMINA) CON ...      4\n",
       "2     ROBO A TRANSEUNTE EN VIA PUBLICA SIN VIOLENCIA    410\n",
       "1     ROBO A TRANSEUNTE EN VIA PUBLICA CON VIOLENCIA   3110"
      ]
     },
     "execution_count": 23,
     "metadata": {},
     "output_type": "execute_result"
    }
   ],
   "source": [
    "tabla_frecuencias_categoria('ROBO A TRANSEUNTE EN VÍA PÚBLICA CON Y SIN VIOLENCIA', True)"
   ]
  },
  {
   "cell_type": "markdown",
   "metadata": {},
   "source": [
    "# Hecho no delictivo"
   ]
  },
  {
   "cell_type": "code",
   "execution_count": 24,
   "metadata": {},
   "outputs": [
    {
     "data": {
      "text/html": [
       "<div>\n",
       "<style scoped>\n",
       "    .dataframe tbody tr th:only-of-type {\n",
       "        vertical-align: middle;\n",
       "    }\n",
       "\n",
       "    .dataframe tbody tr th {\n",
       "        vertical-align: top;\n",
       "    }\n",
       "\n",
       "    .dataframe thead th {\n",
       "        text-align: right;\n",
       "    }\n",
       "</style>\n",
       "<table border=\"1\" class=\"dataframe\">\n",
       "  <thead>\n",
       "    <tr style=\"text-align: right;\">\n",
       "      <th></th>\n",
       "      <th>crimen</th>\n",
       "      <th>Total</th>\n",
       "    </tr>\n",
       "  </thead>\n",
       "  <tbody>\n",
       "    <tr>\n",
       "      <th>15</th>\n",
       "      <td>PERDIDA DE LA VIDA POR DERRUMBE</td>\n",
       "      <td>1</td>\n",
       "    </tr>\n",
       "    <tr>\n",
       "      <th>8</th>\n",
       "      <td>DENUNCIA DE HECHOS POR ROBO DE CELULAR</td>\n",
       "      <td>1</td>\n",
       "    </tr>\n",
       "    <tr>\n",
       "      <th>0</th>\n",
       "      <td>DDH ANONIMAS</td>\n",
       "      <td>3</td>\n",
       "    </tr>\n",
       "    <tr>\n",
       "      <th>4</th>\n",
       "      <td>DDH REDES</td>\n",
       "      <td>3</td>\n",
       "    </tr>\n",
       "    <tr>\n",
       "      <th>12</th>\n",
       "      <td>PERDIDA DE LA VIDA POR ASFIXIA</td>\n",
       "      <td>3</td>\n",
       "    </tr>\n",
       "    <tr>\n",
       "      <th>9</th>\n",
       "      <td>PERDIDA DE LA VIDA ASFIXIA POR ALIMENTOS/ LIQU...</td>\n",
       "      <td>3</td>\n",
       "    </tr>\n",
       "    <tr>\n",
       "      <th>1</th>\n",
       "      <td>DDH CERESO</td>\n",
       "      <td>4</td>\n",
       "    </tr>\n",
       "    <tr>\n",
       "      <th>2</th>\n",
       "      <td>DDH FRVT</td>\n",
       "      <td>5</td>\n",
       "    </tr>\n",
       "    <tr>\n",
       "      <th>10</th>\n",
       "      <td>PERDIDA DE LA VIDA POR ACCIDENTE LABORAL</td>\n",
       "      <td>5</td>\n",
       "    </tr>\n",
       "    <tr>\n",
       "      <th>23</th>\n",
       "      <td>PERDIDA DE LA VIDA POR SUICIDIO EN EL METRO</td>\n",
       "      <td>6</td>\n",
       "    </tr>\n",
       "    <tr>\n",
       "      <th>6</th>\n",
       "      <td>DDH SIN DATOS</td>\n",
       "      <td>6</td>\n",
       "    </tr>\n",
       "    <tr>\n",
       "      <th>5</th>\n",
       "      <td>DDH RELACIONADAS</td>\n",
       "      <td>8</td>\n",
       "    </tr>\n",
       "    <tr>\n",
       "      <th>3</th>\n",
       "      <td>DDH OTRAS MATERIAS</td>\n",
       "      <td>8</td>\n",
       "    </tr>\n",
       "    <tr>\n",
       "      <th>17</th>\n",
       "      <td>PERDIDA DE LA VIDA POR INTOXICACION</td>\n",
       "      <td>8</td>\n",
       "    </tr>\n",
       "    <tr>\n",
       "      <th>20</th>\n",
       "      <td>PERDIDA DE LA VIDA POR PRECIPITACION</td>\n",
       "      <td>9</td>\n",
       "    </tr>\n",
       "    <tr>\n",
       "      <th>11</th>\n",
       "      <td>PERDIDA DE LA VIDA POR AHOGAMIENTO</td>\n",
       "      <td>9</td>\n",
       "    </tr>\n",
       "    <tr>\n",
       "      <th>14</th>\n",
       "      <td>PERDIDA DE LA VIDA POR CONGESTION ALCOHOLICA</td>\n",
       "      <td>10</td>\n",
       "    </tr>\n",
       "    <tr>\n",
       "      <th>21</th>\n",
       "      <td>PERDIDA DE LA VIDA POR QUEMADURA</td>\n",
       "      <td>21</td>\n",
       "    </tr>\n",
       "    <tr>\n",
       "      <th>19</th>\n",
       "      <td>PERDIDA DE LA VIDA POR PARO CARDIACO</td>\n",
       "      <td>54</td>\n",
       "    </tr>\n",
       "    <tr>\n",
       "      <th>13</th>\n",
       "      <td>PERDIDA DE LA VIDA POR CAIDA</td>\n",
       "      <td>60</td>\n",
       "    </tr>\n",
       "    <tr>\n",
       "      <th>16</th>\n",
       "      <td>PERDIDA DE LA VIDA POR ENFERMEDAD</td>\n",
       "      <td>86</td>\n",
       "    </tr>\n",
       "    <tr>\n",
       "      <th>22</th>\n",
       "      <td>PERDIDA DE LA VIDA POR SUICIDIO</td>\n",
       "      <td>146</td>\n",
       "    </tr>\n",
       "    <tr>\n",
       "      <th>18</th>\n",
       "      <td>PERDIDA DE LA VIDA POR OTRAS CAUSAS</td>\n",
       "      <td>525</td>\n",
       "    </tr>\n",
       "    <tr>\n",
       "      <th>7</th>\n",
       "      <td>DENUNCIA DE HECHOS</td>\n",
       "      <td>4170</td>\n",
       "    </tr>\n",
       "  </tbody>\n",
       "</table>\n",
       "</div>"
      ],
      "text/plain": [
       "                                               crimen  Total\n",
       "15                    PERDIDA DE LA VIDA POR DERRUMBE      1\n",
       "8              DENUNCIA DE HECHOS POR ROBO DE CELULAR      1\n",
       "0                                        DDH ANONIMAS      3\n",
       "4                                           DDH REDES      3\n",
       "12                     PERDIDA DE LA VIDA POR ASFIXIA      3\n",
       "9   PERDIDA DE LA VIDA ASFIXIA POR ALIMENTOS/ LIQU...      3\n",
       "1                                          DDH CERESO      4\n",
       "2                                            DDH FRVT      5\n",
       "10           PERDIDA DE LA VIDA POR ACCIDENTE LABORAL      5\n",
       "23        PERDIDA DE LA VIDA POR SUICIDIO EN EL METRO      6\n",
       "6                                       DDH SIN DATOS      6\n",
       "5                                    DDH RELACIONADAS      8\n",
       "3                                  DDH OTRAS MATERIAS      8\n",
       "17                PERDIDA DE LA VIDA POR INTOXICACION      8\n",
       "20               PERDIDA DE LA VIDA POR PRECIPITACION      9\n",
       "11                 PERDIDA DE LA VIDA POR AHOGAMIENTO      9\n",
       "14       PERDIDA DE LA VIDA POR CONGESTION ALCOHOLICA     10\n",
       "21                   PERDIDA DE LA VIDA POR QUEMADURA     21\n",
       "19               PERDIDA DE LA VIDA POR PARO CARDIACO     54\n",
       "13                       PERDIDA DE LA VIDA POR CAIDA     60\n",
       "16                  PERDIDA DE LA VIDA POR ENFERMEDAD     86\n",
       "22                    PERDIDA DE LA VIDA POR SUICIDIO    146\n",
       "18                PERDIDA DE LA VIDA POR OTRAS CAUSAS    525\n",
       "7                                  DENUNCIA DE HECHOS   4170"
      ]
     },
     "execution_count": 24,
     "metadata": {},
     "output_type": "execute_result"
    }
   ],
   "source": [
    "tabla_frecuencias_categoria('HECHO NO DELICTIVO', True)"
   ]
  },
  {
   "cell_type": "markdown",
   "metadata": {},
   "source": [
    "# Robo de vehículo con y sin violencia"
   ]
  },
  {
   "cell_type": "code",
   "execution_count": 25,
   "metadata": {},
   "outputs": [
    {
     "data": {
      "text/html": [
       "<div>\n",
       "<style scoped>\n",
       "    .dataframe tbody tr th:only-of-type {\n",
       "        vertical-align: middle;\n",
       "    }\n",
       "\n",
       "    .dataframe tbody tr th {\n",
       "        vertical-align: top;\n",
       "    }\n",
       "\n",
       "    .dataframe thead th {\n",
       "        text-align: right;\n",
       "    }\n",
       "</style>\n",
       "<table border=\"1\" class=\"dataframe\">\n",
       "  <thead>\n",
       "    <tr style=\"text-align: right;\">\n",
       "      <th></th>\n",
       "      <th>crimen</th>\n",
       "      <th>Total</th>\n",
       "    </tr>\n",
       "  </thead>\n",
       "  <tbody>\n",
       "    <tr>\n",
       "      <th>0</th>\n",
       "      <td>ROBO DE MAQUINARIA CON VIOLENCIA</td>\n",
       "      <td>2</td>\n",
       "    </tr>\n",
       "    <tr>\n",
       "      <th>5</th>\n",
       "      <td>ROBO DE VEHICULO DE SERVICIO OFICIAL CON VIOLE...</td>\n",
       "      <td>5</td>\n",
       "    </tr>\n",
       "    <tr>\n",
       "      <th>6</th>\n",
       "      <td>ROBO DE VEHICULO DE SERVICIO OFICIAL SIN VIOLE...</td>\n",
       "      <td>20</td>\n",
       "    </tr>\n",
       "    <tr>\n",
       "      <th>3</th>\n",
       "      <td>ROBO DE VEHICULO DE SERVICIO DE TRANSPORTE CON...</td>\n",
       "      <td>23</td>\n",
       "    </tr>\n",
       "    <tr>\n",
       "      <th>4</th>\n",
       "      <td>ROBO DE VEHICULO DE SERVICIO DE TRANSPORTE SIN...</td>\n",
       "      <td>31</td>\n",
       "    </tr>\n",
       "    <tr>\n",
       "      <th>10</th>\n",
       "      <td>ROBO DE VEHICULO DE SERVICIO PÚBLICO SIN VIOLE...</td>\n",
       "      <td>334</td>\n",
       "    </tr>\n",
       "    <tr>\n",
       "      <th>2</th>\n",
       "      <td>ROBO DE MOTOCICLETA SIN VIOLENCIA</td>\n",
       "      <td>376</td>\n",
       "    </tr>\n",
       "    <tr>\n",
       "      <th>1</th>\n",
       "      <td>ROBO DE MOTOCICLETA CON VIOLENCIA</td>\n",
       "      <td>411</td>\n",
       "    </tr>\n",
       "    <tr>\n",
       "      <th>9</th>\n",
       "      <td>ROBO DE VEHICULO DE SERVICIO PÚBLICO CON VIOLE...</td>\n",
       "      <td>682</td>\n",
       "    </tr>\n",
       "    <tr>\n",
       "      <th>7</th>\n",
       "      <td>ROBO DE VEHICULO DE SERVICIO PARTICULAR CON VI...</td>\n",
       "      <td>1460</td>\n",
       "    </tr>\n",
       "    <tr>\n",
       "      <th>8</th>\n",
       "      <td>ROBO DE VEHICULO DE SERVICIO PARTICULAR SIN VI...</td>\n",
       "      <td>2731</td>\n",
       "    </tr>\n",
       "  </tbody>\n",
       "</table>\n",
       "</div>"
      ],
      "text/plain": [
       "                                               crimen  Total\n",
       "0                    ROBO DE MAQUINARIA CON VIOLENCIA      2\n",
       "5   ROBO DE VEHICULO DE SERVICIO OFICIAL CON VIOLE...      5\n",
       "6   ROBO DE VEHICULO DE SERVICIO OFICIAL SIN VIOLE...     20\n",
       "3   ROBO DE VEHICULO DE SERVICIO DE TRANSPORTE CON...     23\n",
       "4   ROBO DE VEHICULO DE SERVICIO DE TRANSPORTE SIN...     31\n",
       "10  ROBO DE VEHICULO DE SERVICIO PÚBLICO SIN VIOLE...    334\n",
       "2                   ROBO DE MOTOCICLETA SIN VIOLENCIA    376\n",
       "1                   ROBO DE MOTOCICLETA CON VIOLENCIA    411\n",
       "9   ROBO DE VEHICULO DE SERVICIO PÚBLICO CON VIOLE...    682\n",
       "7   ROBO DE VEHICULO DE SERVICIO PARTICULAR CON VI...   1460\n",
       "8   ROBO DE VEHICULO DE SERVICIO PARTICULAR SIN VI...   2731"
      ]
     },
     "execution_count": 25,
     "metadata": {},
     "output_type": "execute_result"
    }
   ],
   "source": [
    "tabla_frecuencias_categoria('ROBO DE VEHÍCULO CON Y SIN VIOLENCIA', True)"
   ]
  },
  {
   "cell_type": "markdown",
   "metadata": {},
   "source": [
    "# Delito de bajo impacto"
   ]
  },
  {
   "cell_type": "code",
   "execution_count": 26,
   "metadata": {},
   "outputs": [
    {
     "data": {
      "text/html": [
       "<div>\n",
       "<style scoped>\n",
       "    .dataframe tbody tr th:only-of-type {\n",
       "        vertical-align: middle;\n",
       "    }\n",
       "\n",
       "    .dataframe tbody tr th {\n",
       "        vertical-align: top;\n",
       "    }\n",
       "\n",
       "    .dataframe thead th {\n",
       "        text-align: right;\n",
       "    }\n",
       "</style>\n",
       "<table border=\"1\" class=\"dataframe\">\n",
       "  <thead>\n",
       "    <tr style=\"text-align: right;\">\n",
       "      <th></th>\n",
       "      <th>crimen</th>\n",
       "      <th>Total</th>\n",
       "    </tr>\n",
       "  </thead>\n",
       "  <tbody>\n",
       "    <tr>\n",
       "      <th>101</th>\n",
       "      <td>ROBO A NEGOCIO Y VEHICULO SIN VIOLENCIA</td>\n",
       "      <td>6</td>\n",
       "    </tr>\n",
       "    <tr>\n",
       "      <th>118</th>\n",
       "      <td>ROBO A SUCURSAL BANCARIA (SUPERMERCADO) SIN VI...</td>\n",
       "      <td>6</td>\n",
       "    </tr>\n",
       "    <tr>\n",
       "      <th>154</th>\n",
       "      <td>TRATA DE PERSONAS</td>\n",
       "      <td>6</td>\n",
       "    </tr>\n",
       "    <tr>\n",
       "      <th>150</th>\n",
       "      <td>TENTATIVA DE VIOLACION</td>\n",
       "      <td>6</td>\n",
       "    </tr>\n",
       "    <tr>\n",
       "      <th>20</th>\n",
       "      <td>CORRUPCION DE MENORES E INCAPACES</td>\n",
       "      <td>6</td>\n",
       "    </tr>\n",
       "    <tr>\n",
       "      <th>84</th>\n",
       "      <td>PECULADO</td>\n",
       "      <td>7</td>\n",
       "    </tr>\n",
       "    <tr>\n",
       "      <th>114</th>\n",
       "      <td>ROBO A PASAJERO EN RTP CON VIOLENCIA</td>\n",
       "      <td>7</td>\n",
       "    </tr>\n",
       "    <tr>\n",
       "      <th>11</th>\n",
       "      <td>BIGAMIA</td>\n",
       "      <td>7</td>\n",
       "    </tr>\n",
       "    <tr>\n",
       "      <th>43</th>\n",
       "      <td>ESTUPRO</td>\n",
       "      <td>7</td>\n",
       "    </tr>\n",
       "    <tr>\n",
       "      <th>83</th>\n",
       "      <td>OTROS CULPOSOS</td>\n",
       "      <td>8</td>\n",
       "    </tr>\n",
       "    <tr>\n",
       "      <th>111</th>\n",
       "      <td>ROBO A PASAJERO EN AUTOBÚS FORÁNEO CON VIOLENCIA</td>\n",
       "      <td>8</td>\n",
       "    </tr>\n",
       "    <tr>\n",
       "      <th>149</th>\n",
       "      <td>TENTATIVA DE SUICIDIO</td>\n",
       "      <td>9</td>\n",
       "    </tr>\n",
       "    <tr>\n",
       "      <th>162</th>\n",
       "      <td>VIOLACION DE CORRESPONDENCIA</td>\n",
       "      <td>9</td>\n",
       "    </tr>\n",
       "    <tr>\n",
       "      <th>97</th>\n",
       "      <td>REVELACION DE SECRETOS</td>\n",
       "      <td>9</td>\n",
       "    </tr>\n",
       "    <tr>\n",
       "      <th>64</th>\n",
       "      <td>INTIMIDACION</td>\n",
       "      <td>10</td>\n",
       "    </tr>\n",
       "    <tr>\n",
       "      <th>36</th>\n",
       "      <td>DESOBEDENCIA DE PARTICULARES</td>\n",
       "      <td>11</td>\n",
       "    </tr>\n",
       "    <tr>\n",
       "      <th>60</th>\n",
       "      <td>HOMICIDIO CULPOSO POR TRÁNSITO VEHICULAR (CAIDA)</td>\n",
       "      <td>12</td>\n",
       "    </tr>\n",
       "    <tr>\n",
       "      <th>14</th>\n",
       "      <td>COBRANZA ILEGITIMA</td>\n",
       "      <td>13</td>\n",
       "    </tr>\n",
       "    <tr>\n",
       "      <th>105</th>\n",
       "      <td>ROBO A PASAJERO A BORDO DE METROBUS CON VIOLENCIA</td>\n",
       "      <td>13</td>\n",
       "    </tr>\n",
       "    <tr>\n",
       "      <th>58</th>\n",
       "      <td>HOMICIDIO CULPOSO POR TRÁNSITO VEHICULAR</td>\n",
       "      <td>15</td>\n",
       "    </tr>\n",
       "  </tbody>\n",
       "</table>\n",
       "</div>"
      ],
      "text/plain": [
       "                                                crimen  Total\n",
       "101            ROBO A NEGOCIO Y VEHICULO SIN VIOLENCIA      6\n",
       "118  ROBO A SUCURSAL BANCARIA (SUPERMERCADO) SIN VI...      6\n",
       "154                                  TRATA DE PERSONAS      6\n",
       "150                             TENTATIVA DE VIOLACION      6\n",
       "20                   CORRUPCION DE MENORES E INCAPACES      6\n",
       "84                                            PECULADO      7\n",
       "114               ROBO A PASAJERO EN RTP CON VIOLENCIA      7\n",
       "11                                             BIGAMIA      7\n",
       "43                                             ESTUPRO      7\n",
       "83                                      OTROS CULPOSOS      8\n",
       "111   ROBO A PASAJERO EN AUTOBÚS FORÁNEO CON VIOLENCIA      8\n",
       "149                              TENTATIVA DE SUICIDIO      9\n",
       "162                       VIOLACION DE CORRESPONDENCIA      9\n",
       "97                              REVELACION DE SECRETOS      9\n",
       "64                                        INTIMIDACION     10\n",
       "36                        DESOBEDENCIA DE PARTICULARES     11\n",
       "60    HOMICIDIO CULPOSO POR TRÁNSITO VEHICULAR (CAIDA)     12\n",
       "14                                  COBRANZA ILEGITIMA     13\n",
       "105  ROBO A PASAJERO A BORDO DE METROBUS CON VIOLENCIA     13\n",
       "58            HOMICIDIO CULPOSO POR TRÁNSITO VEHICULAR     15"
      ]
     },
     "execution_count": 26,
     "metadata": {},
     "output_type": "execute_result"
    }
   ],
   "source": [
    "tabla_frecuencias_categoria('DELITO DE BAJO IMPACTO',True)[40:60]"
   ]
  },
  {
   "cell_type": "code",
   "execution_count": null,
   "metadata": {},
   "outputs": [],
   "source": []
  }
 ],
 "metadata": {
  "kernelspec": {
   "display_name": "Python 3",
   "language": "python",
   "name": "python3"
  },
  "language_info": {
   "codemirror_mode": {
    "name": "ipython",
    "version": 3
   },
   "file_extension": ".py",
   "mimetype": "text/x-python",
   "name": "python",
   "nbconvert_exporter": "python",
   "pygments_lexer": "ipython3",
   "version": "3.7.4"
  }
 },
 "nbformat": 4,
 "nbformat_minor": 2
}
