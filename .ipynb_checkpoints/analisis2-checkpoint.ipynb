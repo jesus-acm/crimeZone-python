{
 "cells": [
  {
   "cell_type": "code",
   "execution_count": 46,
   "metadata": {},
   "outputs": [],
   "source": [
    "import certifi\n",
    "import urllib3\n",
    "import json\n",
    "from pandas.io.json import json_normalize\n",
    "import pandas as pd"
   ]
  },
  {
   "cell_type": "markdown",
   "metadata": {},
   "source": [
    "### Funcion para realizar petición y decodificar los datos"
   ]
  },
  {
   "cell_type": "code",
   "execution_count": 20,
   "metadata": {},
   "outputs": [],
   "source": [
    "def decodificaUrl (tipoPeticion, Url):\n",
    "    http = urllib3.PoolManager(cert_reqs='CERT_REQUIRED',ca_certs=certifi.where())\n",
    "    r = http.request(tipoPeticion, Url)\n",
    "    r.status\n",
    "    response = r.data\n",
    "    str_response = response.decode('utf-8')\n",
    "    y = json.loads(str_response)\n",
    "    y = y['rows']\n",
    "    return json_normalize(y)"
   ]
  },
  {
   "cell_type": "markdown",
   "metadata": {},
   "source": [
    "## Obtener sectores y cuadrantes"
   ]
  },
  {
   "cell_type": "code",
   "execution_count": 21,
   "metadata": {},
   "outputs": [
    {
     "data": {
      "text/html": [
       "<div>\n",
       "<style scoped>\n",
       "    .dataframe tbody tr th:only-of-type {\n",
       "        vertical-align: middle;\n",
       "    }\n",
       "\n",
       "    .dataframe tbody tr th {\n",
       "        vertical-align: top;\n",
       "    }\n",
       "\n",
       "    .dataframe thead th {\n",
       "        text-align: right;\n",
       "    }\n",
       "</style>\n",
       "<table border=\"1\" class=\"dataframe\">\n",
       "  <thead>\n",
       "    <tr style=\"text-align: right;\">\n",
       "      <th></th>\n",
       "      <th>cuadrante</th>\n",
       "      <th>cve_mun</th>\n",
       "      <th>municipio</th>\n",
       "      <th>sector</th>\n",
       "    </tr>\n",
       "  </thead>\n",
       "  <tbody>\n",
       "    <tr>\n",
       "      <td>0</td>\n",
       "      <td>P-1.1.1</td>\n",
       "      <td>9010</td>\n",
       "      <td>ALVARO OBREGON</td>\n",
       "      <td>ALPES</td>\n",
       "    </tr>\n",
       "    <tr>\n",
       "      <td>1</td>\n",
       "      <td>P-1.1.10</td>\n",
       "      <td>9010</td>\n",
       "      <td>ALVARO OBREGON</td>\n",
       "      <td>ALPES</td>\n",
       "    </tr>\n",
       "    <tr>\n",
       "      <td>2</td>\n",
       "      <td>P-1.1.2</td>\n",
       "      <td>9010</td>\n",
       "      <td>ALVARO OBREGON</td>\n",
       "      <td>ALPES</td>\n",
       "    </tr>\n",
       "    <tr>\n",
       "      <td>3</td>\n",
       "      <td>P-1.1.3</td>\n",
       "      <td>9010</td>\n",
       "      <td>ALVARO OBREGON</td>\n",
       "      <td>ALPES</td>\n",
       "    </tr>\n",
       "    <tr>\n",
       "      <td>4</td>\n",
       "      <td>P-1.1.4</td>\n",
       "      <td>9010</td>\n",
       "      <td>ALVARO OBREGON</td>\n",
       "      <td>ALPES</td>\n",
       "    </tr>\n",
       "  </tbody>\n",
       "</table>\n",
       "</div>"
      ],
      "text/plain": [
       "  cuadrante cve_mun       municipio sector\n",
       "0   P-1.1.1    9010  ALVARO OBREGON  ALPES\n",
       "1  P-1.1.10    9010  ALVARO OBREGON  ALPES\n",
       "2   P-1.1.2    9010  ALVARO OBREGON  ALPES\n",
       "3   P-1.1.3    9010  ALVARO OBREGON  ALPES\n",
       "4   P-1.1.4    9010  ALVARO OBREGON  ALPES"
      ]
     },
     "execution_count": 21,
     "metadata": {},
     "output_type": "execute_result"
    }
   ],
   "source": [
    "cuadrantes = decodificadaUrl('GET', 'http://hoyodecrimen.com/api/v1/cuadrantes')\n",
    "cuadrantes.head()"
   ]
  },
  {
   "cell_type": "code",
   "execution_count": 22,
   "metadata": {},
   "outputs": [
    {
     "data": {
      "text/plain": [
       "array(['ALVARO OBREGON', 'AZCAPOTZALCO', 'BENITO JUAREZ', 'COYOACAN',\n",
       "       'CUAJIMALPA', 'CUAUHTEMOC', 'GUSTAVO A MADERO', 'IZTACALCO',\n",
       "       'IZTAPALAPA', 'MAGDALENA CONTRERAS', 'MIGUEL HIDALGO',\n",
       "       'MILPA ALTA', 'TLAHUAC', 'TLALPAN', 'VENUSTIANO CARRANZA',\n",
       "       'XOCHIMILCO'], dtype=object)"
      ]
     },
     "execution_count": 22,
     "metadata": {},
     "output_type": "execute_result"
    }
   ],
   "source": [
    "cuadrantes['municipio'].unique()"
   ]
  },
  {
   "cell_type": "markdown",
   "metadata": {},
   "source": [
    "Se obtienen los sectores del municipio Gustavo A. Madero"
   ]
  },
  {
   "cell_type": "code",
   "execution_count": 28,
   "metadata": {},
   "outputs": [
    {
     "data": {
      "text/html": [
       "<div>\n",
       "<style scoped>\n",
       "    .dataframe tbody tr th:only-of-type {\n",
       "        vertical-align: middle;\n",
       "    }\n",
       "\n",
       "    .dataframe tbody tr th {\n",
       "        vertical-align: top;\n",
       "    }\n",
       "\n",
       "    .dataframe thead th {\n",
       "        text-align: right;\n",
       "    }\n",
       "</style>\n",
       "<table border=\"1\" class=\"dataframe\">\n",
       "  <thead>\n",
       "    <tr style=\"text-align: right;\">\n",
       "      <th></th>\n",
       "      <th>cuadrante</th>\n",
       "      <th>cve_mun</th>\n",
       "      <th>municipio</th>\n",
       "      <th>sector</th>\n",
       "    </tr>\n",
       "  </thead>\n",
       "  <tbody>\n",
       "    <tr>\n",
       "      <td>340</td>\n",
       "      <td>N-2.1.1</td>\n",
       "      <td>9005</td>\n",
       "      <td>GUSTAVO A MADERO</td>\n",
       "      <td>ARAGON</td>\n",
       "    </tr>\n",
       "    <tr>\n",
       "      <td>341</td>\n",
       "      <td>N-2.1.2</td>\n",
       "      <td>9005</td>\n",
       "      <td>GUSTAVO A MADERO</td>\n",
       "      <td>ARAGON</td>\n",
       "    </tr>\n",
       "    <tr>\n",
       "      <td>342</td>\n",
       "      <td>N-2.1.3</td>\n",
       "      <td>9005</td>\n",
       "      <td>GUSTAVO A MADERO</td>\n",
       "      <td>ARAGON</td>\n",
       "    </tr>\n",
       "    <tr>\n",
       "      <td>343</td>\n",
       "      <td>N-2.1.4</td>\n",
       "      <td>9005</td>\n",
       "      <td>GUSTAVO A MADERO</td>\n",
       "      <td>ARAGON</td>\n",
       "    </tr>\n",
       "    <tr>\n",
       "      <td>344</td>\n",
       "      <td>N-2.1.5</td>\n",
       "      <td>9005</td>\n",
       "      <td>GUSTAVO A MADERO</td>\n",
       "      <td>ARAGON</td>\n",
       "    </tr>\n",
       "  </tbody>\n",
       "</table>\n",
       "</div>"
      ],
      "text/plain": [
       "    cuadrante cve_mun         municipio  sector\n",
       "340   N-2.1.1    9005  GUSTAVO A MADERO  ARAGON\n",
       "341   N-2.1.2    9005  GUSTAVO A MADERO  ARAGON\n",
       "342   N-2.1.3    9005  GUSTAVO A MADERO  ARAGON\n",
       "343   N-2.1.4    9005  GUSTAVO A MADERO  ARAGON\n",
       "344   N-2.1.5    9005  GUSTAVO A MADERO  ARAGON"
      ]
     },
     "execution_count": 28,
     "metadata": {},
     "output_type": "execute_result"
    }
   ],
   "source": [
    "cuadrantes_GAM = cuadrantes[cuadrantes['municipio']=='GUSTAVO A MADERO']\n",
    "cuadrantes_GAM.head()"
   ]
  },
  {
   "cell_type": "code",
   "execution_count": 54,
   "metadata": {},
   "outputs": [
    {
     "data": {
      "text/plain": [
       "array(['ARAGON', 'CUAUTEPEC', 'CUCHILLA', 'LINDAVISTA', 'PRADERA',\n",
       "       'QUIROGA', 'TEPEYAC', 'TICOMAN'], dtype=object)"
      ]
     },
     "execution_count": 54,
     "metadata": {},
     "output_type": "execute_result"
    }
   ],
   "source": [
    "sectores_GAM = cuadrantes_GAM['sector'].unique()\n",
    "sectores_GAM"
   ]
  },
  {
   "cell_type": "markdown",
   "metadata": {},
   "source": [
    "## Obtención de los datos de los sectores de Gustavo A. Madero"
   ]
  },
  {
   "cell_type": "code",
   "execution_count": 104,
   "metadata": {},
   "outputs": [],
   "source": [
    "data = decodificadaUrl('GET', 'http://hoyodecrimen.com/api/v1/sectores/'+sectores_GAM[0]+'/crimes/all/series')\n",
    "for index in range(len(sectores_GAM)):\n",
    "    if(index>0):\n",
    "        temp_data = decodificadaUrl('GET', 'http://hoyodecrimen.com/api/v1/sectores/'+sectores_GAM[index]+'/crimes/all/series')\n",
    "        data = pd.concat([data, temp_data], axis=0)"
   ]
  },
  {
   "cell_type": "markdown",
   "metadata": {},
   "source": [
    "### Total de crimenes por sector"
   ]
  },
  {
   "cell_type": "code",
   "execution_count": 105,
   "metadata": {},
   "outputs": [
    {
     "data": {
      "text/html": [
       "<div>\n",
       "<style scoped>\n",
       "    .dataframe tbody tr th:only-of-type {\n",
       "        vertical-align: middle;\n",
       "    }\n",
       "\n",
       "    .dataframe tbody tr th {\n",
       "        vertical-align: top;\n",
       "    }\n",
       "\n",
       "    .dataframe thead th {\n",
       "        text-align: right;\n",
       "    }\n",
       "</style>\n",
       "<table border=\"1\" class=\"dataframe\">\n",
       "  <thead>\n",
       "    <tr style=\"text-align: right;\">\n",
       "      <th></th>\n",
       "      <th>count</th>\n",
       "    </tr>\n",
       "    <tr>\n",
       "      <th>sector</th>\n",
       "      <th></th>\n",
       "    </tr>\n",
       "  </thead>\n",
       "  <tbody>\n",
       "    <tr>\n",
       "      <td>ARAGON</td>\n",
       "      <td>2088</td>\n",
       "    </tr>\n",
       "    <tr>\n",
       "      <td>CUAUTEPEC</td>\n",
       "      <td>2511</td>\n",
       "    </tr>\n",
       "    <tr>\n",
       "      <td>CUCHILLA</td>\n",
       "      <td>1789</td>\n",
       "    </tr>\n",
       "    <tr>\n",
       "      <td>LINDAVISTA</td>\n",
       "      <td>2715</td>\n",
       "    </tr>\n",
       "    <tr>\n",
       "      <td>PRADERA</td>\n",
       "      <td>2927</td>\n",
       "    </tr>\n",
       "    <tr>\n",
       "      <td>QUIROGA</td>\n",
       "      <td>2955</td>\n",
       "    </tr>\n",
       "    <tr>\n",
       "      <td>TEPEYAC</td>\n",
       "      <td>2398</td>\n",
       "    </tr>\n",
       "    <tr>\n",
       "      <td>TICOMAN</td>\n",
       "      <td>2680</td>\n",
       "    </tr>\n",
       "  </tbody>\n",
       "</table>\n",
       "</div>"
      ],
      "text/plain": [
       "            count\n",
       "sector           \n",
       "ARAGON       2088\n",
       "CUAUTEPEC    2511\n",
       "CUCHILLA     1789\n",
       "LINDAVISTA   2715\n",
       "PRADERA      2927\n",
       "QUIROGA      2955\n",
       "TEPEYAC      2398\n",
       "TICOMAN      2680"
      ]
     },
     "execution_count": 105,
     "metadata": {},
     "output_type": "execute_result"
    }
   ],
   "source": [
    "total_crimenes_sector = data[['sector', 'count']].groupby(['sector']).sum()\n",
    "total_crimenes_sector"
   ]
  },
  {
   "cell_type": "code",
   "execution_count": 106,
   "metadata": {},
   "outputs": [
    {
     "data": {
      "text/plain": [
       "count    20063\n",
       "dtype: int64"
      ]
     },
     "execution_count": 106,
     "metadata": {},
     "output_type": "execute_result"
    }
   ],
   "source": [
    "total_crimenes_sector.sum()"
   ]
  },
  {
   "cell_type": "code",
   "execution_count": 111,
   "metadata": {},
   "outputs": [],
   "source": [
    "data3 = data[['crime', 'count']].groupby(['crime'])"
   ]
  },
  {
   "cell_type": "code",
   "execution_count": 119,
   "metadata": {},
   "outputs": [
    {
     "data": {
      "text/plain": [
       "<pandas.core.groupby.generic.DataFrameGroupBy object at 0x00000221A382A048>"
      ]
     },
     "execution_count": 119,
     "metadata": {},
     "output_type": "execute_result"
    }
   ],
   "source": [
    "data3"
   ]
  },
  {
   "cell_type": "code",
   "execution_count": 118,
   "metadata": {},
   "outputs": [
    {
     "data": {
      "text/plain": [
       "<bound method GroupBy.ngroup of <pandas.core.groupby.generic.DataFrameGroupBy object at 0x00000221A382A048>>"
      ]
     },
     "execution_count": 118,
     "metadata": {},
     "output_type": "execute_result"
    }
   ],
   "source": []
  },
  {
   "cell_type": "code",
   "execution_count": null,
   "metadata": {},
   "outputs": [],
   "source": []
  }
 ],
 "metadata": {
  "kernelspec": {
   "display_name": "Python 3",
   "language": "python",
   "name": "python3"
  },
  "language_info": {
   "codemirror_mode": {
    "name": "ipython",
    "version": 3
   },
   "file_extension": ".py",
   "mimetype": "text/x-python",
   "name": "python",
   "nbconvert_exporter": "python",
   "pygments_lexer": "ipython3",
   "version": "3.7.4"
  }
 },
 "nbformat": 4,
 "nbformat_minor": 2
}
