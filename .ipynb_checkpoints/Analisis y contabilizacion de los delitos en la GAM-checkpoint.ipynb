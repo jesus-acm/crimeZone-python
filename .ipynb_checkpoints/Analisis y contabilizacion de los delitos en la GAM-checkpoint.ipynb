{
 "cells": [
  {
   "cell_type": "code",
   "execution_count": 8,
   "metadata": {},
   "outputs": [],
   "source": [
    "import certifi\n",
    "import urllib3\n",
    "import json\n",
    "from pandas.io.json import json_normalize"
   ]
  },
  {
   "cell_type": "markdown",
   "metadata": {},
   "source": [
    "##### Realizar petición y decodificar los datos"
   ]
  },
  {
   "cell_type": "code",
   "execution_count": 6,
   "metadata": {},
   "outputs": [],
   "source": [
    "def decodificadaUrl (tipoPeticion, Url):\n",
    "    http = urllib3.PoolManager(cert_reqs='CERT_REQUIRED',ca_certs=certifi.where())\n",
    "    r = http.request(tipoPeticion, Url)\n",
    "    r.status\n",
    "    response = r.data\n",
    "    str_response = response.decode('utf-8')\n",
    "    y = json.loads(str_response)\n",
    "    y = y['rows']\n",
    "    return json_normalize(y)"
   ]
  },
  {
   "cell_type": "code",
   "execution_count": 10,
   "metadata": {},
   "outputs": [
    {
     "data": {
      "text/html": [
       "<div>\n",
       "<style scoped>\n",
       "    .dataframe tbody tr th:only-of-type {\n",
       "        vertical-align: middle;\n",
       "    }\n",
       "\n",
       "    .dataframe tbody tr th {\n",
       "        vertical-align: top;\n",
       "    }\n",
       "\n",
       "    .dataframe thead th {\n",
       "        text-align: right;\n",
       "    }\n",
       "</style>\n",
       "<table border=\"1\" class=\"dataframe\">\n",
       "  <thead>\n",
       "    <tr style=\"text-align: right;\">\n",
       "      <th></th>\n",
       "      <th>cve_mun</th>\n",
       "      <th>municipio</th>\n",
       "      <th>sector</th>\n",
       "    </tr>\n",
       "  </thead>\n",
       "  <tbody>\n",
       "    <tr>\n",
       "      <td>0</td>\n",
       "      <td>9010</td>\n",
       "      <td>ALVARO OBREGON</td>\n",
       "      <td>ALPES</td>\n",
       "    </tr>\n",
       "    <tr>\n",
       "      <td>1</td>\n",
       "      <td>9010</td>\n",
       "      <td>ALVARO OBREGON</td>\n",
       "      <td>PLATEROS</td>\n",
       "    </tr>\n",
       "    <tr>\n",
       "      <td>2</td>\n",
       "      <td>9010</td>\n",
       "      <td>ALVARO OBREGON</td>\n",
       "      <td>SAN ANGEL</td>\n",
       "    </tr>\n",
       "    <tr>\n",
       "      <td>3</td>\n",
       "      <td>9010</td>\n",
       "      <td>ALVARO OBREGON</td>\n",
       "      <td>SANTA FE</td>\n",
       "    </tr>\n",
       "    <tr>\n",
       "      <td>4</td>\n",
       "      <td>9002</td>\n",
       "      <td>AZCAPOTZALCO</td>\n",
       "      <td>CLAVERIA</td>\n",
       "    </tr>\n",
       "  </tbody>\n",
       "</table>\n",
       "</div>"
      ],
      "text/plain": [
       "  cve_mun       municipio     sector\n",
       "0    9010  ALVARO OBREGON      ALPES\n",
       "1    9010  ALVARO OBREGON   PLATEROS\n",
       "2    9010  ALVARO OBREGON  SAN ANGEL\n",
       "3    9010  ALVARO OBREGON   SANTA FE\n",
       "4    9002    AZCAPOTZALCO   CLAVERIA"
      ]
     },
     "execution_count": 10,
     "metadata": {},
     "output_type": "execute_result"
    }
   ],
   "source": [
    "sectores = decodificadaUrl ('GET', 'http://hoyodecrimen.com/api/v1/sectores')\n",
    "sectores.head()"
   ]
  },
  {
   "cell_type": "raw",
   "metadata": {},
   "source": []
  },
  {
   "cell_type": "code",
   "execution_count": null,
   "metadata": {},
   "outputs": [],
   "source": []
  }
 ],
 "metadata": {
  "kernelspec": {
   "display_name": "Python 3",
   "language": "python",
   "name": "python3"
  },
  "language_info": {
   "codemirror_mode": {
    "name": "ipython",
    "version": 3
   },
   "file_extension": ".py",
   "mimetype": "text/x-python",
   "name": "python",
   "nbconvert_exporter": "python",
   "pygments_lexer": "ipython3",
   "version": "3.7.4"
  }
 },
 "nbformat": 4,
 "nbformat_minor": 2
}
