{
  "nbformat": 4,
  "nbformat_minor": 0,
  "metadata": {
    "kernelspec": {
      "display_name": "Python 3",
      "language": "python",
      "name": "python3"
    },
    "language_info": {
      "codemirror_mode": {
        "name": "ipython",
        "version": 3
      },
      "file_extension": ".py",
      "mimetype": "text/x-python",
      "name": "python",
      "nbconvert_exporter": "python",
      "pygments_lexer": "ipython3",
      "version": "3.7.4-final"
    },
    "colab": {
      "name": "2 - Limpieza de categorias.ipynb",
      "provenance": [],
      "collapsed_sections": [],
      "include_colab_link": true
    }
  },
  "cells": [
    {
      "cell_type": "markdown",
      "metadata": {
        "id": "view-in-github",
        "colab_type": "text"
      },
      "source": [
        "<a href=\"https://colab.research.google.com/github/jesus-acm/crimeZone-python-v1/blob/master/2_Limpieza_de_categorias.ipynb\" target=\"_parent\"><img src=\"https://colab.research.google.com/assets/colab-badge.svg\" alt=\"Open In Colab\"/></a>"
      ]
    },
    {
      "cell_type": "code",
      "metadata": {
        "id": "Vl66Ri2hT1MM",
        "colab_type": "code",
        "colab": {
          "base_uri": "https://localhost:8080/",
          "height": 121
        },
        "outputId": "f5e25643-0da6-42ae-dd88-1ce26e53b264"
      },
      "source": [
        "import pandas as pd\n",
        "import numpy as np\n",
        "\n",
        "from google.colab import drive\n",
        "drive.mount('/content/drive/')"
      ],
      "execution_count": null,
      "outputs": [
        {
          "output_type": "stream",
          "text": [
            "Go to this URL in a browser: https://accounts.google.com/o/oauth2/auth?client_id=947318989803-6bn6qk8qdgf4n4g3pfee6491hc0brc4i.apps.googleusercontent.com&redirect_uri=urn%3aietf%3awg%3aoauth%3a2.0%3aoob&response_type=code&scope=email%20https%3a%2f%2fwww.googleapis.com%2fauth%2fdocs.test%20https%3a%2f%2fwww.googleapis.com%2fauth%2fdrive%20https%3a%2f%2fwww.googleapis.com%2fauth%2fdrive.photos.readonly%20https%3a%2f%2fwww.googleapis.com%2fauth%2fpeopleapi.readonly\n",
            "\n",
            "Enter your authorization code:\n",
            "··········\n",
            "Mounted at /content/drive/\n"
          ],
          "name": "stdout"
        }
      ]
    },
    {
      "cell_type": "code",
      "metadata": {
        "id": "f9Bt39H9efF7",
        "colab_type": "code",
        "colab": {
          "base_uri": "https://localhost:8080/",
          "height": 34
        },
        "outputId": "93d21821-26dd-4651-f9ef-ccd12e58c86f"
      },
      "source": [
        "%cd 'drive/My Drive/Colab_Notebooks_Crimezone/CrimeZone'"
      ],
      "execution_count": null,
      "outputs": [
        {
          "output_type": "stream",
          "text": [
            "/content/drive/My Drive/Colab_Notebooks_Crimezone/CrimeZone\n"
          ],
          "name": "stdout"
        }
      ]
    },
    {
      "cell_type": "code",
      "metadata": {
        "id": "po9iCFC5T1MS",
        "colab_type": "code",
        "colab": {
          "base_uri": "https://localhost:8080/",
          "height": 195
        },
        "outputId": "5669215d-f8f4-4df3-fe9e-8d041435f10b"
      },
      "source": [
        "datos = pd.read_csv('../CrimeZone_db/crimenes-GAM-todos.csv')\n",
        "datos.head()"
      ],
      "execution_count": null,
      "outputs": [
        {
          "output_type": "execute_result",
          "data": {
            "text/html": [
              "<div>\n",
              "<style scoped>\n",
              "    .dataframe tbody tr th:only-of-type {\n",
              "        vertical-align: middle;\n",
              "    }\n",
              "\n",
              "    .dataframe tbody tr th {\n",
              "        vertical-align: top;\n",
              "    }\n",
              "\n",
              "    .dataframe thead th {\n",
              "        text-align: right;\n",
              "    }\n",
              "</style>\n",
              "<table border=\"1\" class=\"dataframe\">\n",
              "  <thead>\n",
              "    <tr style=\"text-align: right;\">\n",
              "      <th></th>\n",
              "      <th>fecha</th>\n",
              "      <th>crimen</th>\n",
              "      <th>categoria</th>\n",
              "      <th>colonia</th>\n",
              "      <th>long</th>\n",
              "      <th>lat</th>\n",
              "    </tr>\n",
              "  </thead>\n",
              "  <tbody>\n",
              "    <tr>\n",
              "      <th>0</th>\n",
              "      <td>2016-05-18 17:45:00</td>\n",
              "      <td>ROBO A TRANSEUNTE DE CELULAR CON VIOLENCIA</td>\n",
              "      <td>DELITO DE BAJO IMPACTO</td>\n",
              "      <td>DEFENSORES DE LA REPÚBLICA</td>\n",
              "      <td>-99.141133</td>\n",
              "      <td>19.472193</td>\n",
              "    </tr>\n",
              "    <tr>\n",
              "      <th>1</th>\n",
              "      <td>2016-05-18 14:00:00</td>\n",
              "      <td>VIOLENCIA FAMILIAR</td>\n",
              "      <td>DELITO DE BAJO IMPACTO</td>\n",
              "      <td>DEL CARMEN</td>\n",
              "      <td>-99.133885</td>\n",
              "      <td>19.542214</td>\n",
              "    </tr>\n",
              "    <tr>\n",
              "      <th>2</th>\n",
              "      <td>2016-05-19 13:20:00</td>\n",
              "      <td>ROBO A NEGOCIO SIN VIOLENCIA</td>\n",
              "      <td>DELITO DE BAJO IMPACTO</td>\n",
              "      <td>SANTIAGO ATZACOALCO</td>\n",
              "      <td>-99.097474</td>\n",
              "      <td>19.496379</td>\n",
              "    </tr>\n",
              "    <tr>\n",
              "      <th>3</th>\n",
              "      <td>2016-05-05 17:00:00</td>\n",
              "      <td>ROBO A NEGOCIO CON VIOLENCIA</td>\n",
              "      <td>ROBO A NEGOCIO CON VIOLENCIA</td>\n",
              "      <td>25 DE JULIO</td>\n",
              "      <td>-99.083278</td>\n",
              "      <td>19.495574</td>\n",
              "    </tr>\n",
              "    <tr>\n",
              "      <th>4</th>\n",
              "      <td>2016-05-19 13:35:00</td>\n",
              "      <td>ROBO A TRANSEUNTE EN VIA PUBLICA CON VIOLENCIA</td>\n",
              "      <td>ROBO A TRANSEUNTE EN VÍA PÚBLICA CON Y SIN VIO...</td>\n",
              "      <td>LA LAGUNA TICOMÁN</td>\n",
              "      <td>-99.132372</td>\n",
              "      <td>19.514183</td>\n",
              "    </tr>\n",
              "  </tbody>\n",
              "</table>\n",
              "</div>"
            ],
            "text/plain": [
              "                 fecha  ...        lat\n",
              "0  2016-05-18 17:45:00  ...  19.472193\n",
              "1  2016-05-18 14:00:00  ...  19.542214\n",
              "2  2016-05-19 13:20:00  ...  19.496379\n",
              "3  2016-05-05 17:00:00  ...  19.495574\n",
              "4  2016-05-19 13:35:00  ...  19.514183\n",
              "\n",
              "[5 rows x 6 columns]"
            ]
          },
          "metadata": {
            "tags": []
          },
          "execution_count": 3
        }
      ]
    },
    {
      "cell_type": "code",
      "metadata": {
        "id": "CTYYbSyXT1MX",
        "colab_type": "code",
        "colab": {
          "base_uri": "https://localhost:8080/",
          "height": 34
        },
        "outputId": "dce33c94-9e53-4122-ae53-1e4b0d2fdb0b"
      },
      "source": [
        "datos.shape"
      ],
      "execution_count": null,
      "outputs": [
        {
          "output_type": "execute_result",
          "data": {
            "text/plain": [
              "(99639, 6)"
            ]
          },
          "metadata": {
            "tags": []
          },
          "execution_count": 4
        }
      ]
    },
    {
      "cell_type": "code",
      "metadata": {
        "id": "umn4r7GlT1Mc",
        "colab_type": "code",
        "colab": {
          "base_uri": "https://localhost:8080/",
          "height": 134
        },
        "outputId": "63f8a15f-f69a-442d-97e5-c355a6f9a138"
      },
      "source": [
        "datos.dtypes"
      ],
      "execution_count": null,
      "outputs": [
        {
          "output_type": "execute_result",
          "data": {
            "text/plain": [
              "fecha         object\n",
              "crimen        object\n",
              "categoria     object\n",
              "colonia       object\n",
              "long         float64\n",
              "lat          float64\n",
              "dtype: object"
            ]
          },
          "metadata": {
            "tags": []
          },
          "execution_count": 5
        }
      ]
    },
    {
      "cell_type": "code",
      "metadata": {
        "id": "uXPArHhHT1Mg",
        "colab_type": "code",
        "colab": {
          "base_uri": "https://localhost:8080/",
          "height": 134
        },
        "outputId": "91715c0c-660a-486f-86bf-3f8f6bd14d77"
      },
      "source": [
        "crimenes = datos.convert_dtypes()\n",
        "crimenes.dtypes"
      ],
      "execution_count": null,
      "outputs": [
        {
          "output_type": "execute_result",
          "data": {
            "text/plain": [
              "fecha         string\n",
              "crimen        string\n",
              "categoria     string\n",
              "colonia       string\n",
              "long         float64\n",
              "lat          float64\n",
              "dtype: object"
            ]
          },
          "metadata": {
            "tags": []
          },
          "execution_count": 6
        }
      ]
    },
    {
      "cell_type": "code",
      "metadata": {
        "id": "inDtX_cuT1Mk",
        "colab_type": "code",
        "colab": {
          "base_uri": "https://localhost:8080/",
          "height": 319
        },
        "outputId": "8ef44f88-c9df-4be6-db98-962ee6799bd4"
      },
      "source": [
        "crimenes['categoria'].unique()"
      ],
      "execution_count": null,
      "outputs": [
        {
          "output_type": "execute_result",
          "data": {
            "text/plain": [
              "<StringArray>\n",
              "[                                 'DELITO DE BAJO IMPACTO',\n",
              "                            'ROBO A NEGOCIO CON VIOLENCIA',\n",
              "    'ROBO A TRANSEUNTE EN VÍA PÚBLICA CON Y SIN VIOLENCIA',\n",
              "                    'ROBO DE VEHÍCULO CON Y SIN VIOLENCIA',\n",
              "                    'ROBO A CASA HABITACIÓN CON VIOLENCIA',\n",
              "                                        'HOMICIDIO DOLOSO',\n",
              "                                      'HECHO NO DELICTIVO',\n",
              " 'ROBO A PASAJERO A BORDO DE MICROBUS CON Y SIN VIOLENCIA',\n",
              "           'LESIONES DOLOSAS POR DISPARO DE ARMA DE FUEGO',\n",
              "   'ROBO A PASAJERO A BORDO DEL METRO CON Y SIN VIOLENCIA',\n",
              " 'ROBO A CUENTAHABIENTE SALIENDO DEL CAJERO CON VIOLENCIA',\n",
              "                   'ROBO A REPARTIDOR CON Y SIN VIOLENCIA',\n",
              "           'ROBO A PASAJERO A BORDO DE TAXI CON VIOLENCIA',\n",
              "                'ROBO A TRANSPORTISTA CON Y SIN VIOLENCIA',\n",
              "                                               'VIOLACIÓN',\n",
              "                                               'SECUESTRO']\n",
              "Length: 16, dtype: string"
            ]
          },
          "metadata": {
            "tags": []
          },
          "execution_count": 7
        }
      ]
    },
    {
      "cell_type": "code",
      "metadata": {
        "id": "iqQ2t7dDT1Mp",
        "colab_type": "code",
        "colab": {
          "base_uri": "https://localhost:8080/",
          "height": 521
        },
        "outputId": "4238d104-d23f-48c9-bd8e-b27b76d4b84c"
      },
      "source": [
        "crimenes.groupby(['categoria']).size().to_frame().reset_index().rename(columns={\n",
        "    0:'total'\n",
        "}).sort_values(by='total',ascending=True)"
      ],
      "execution_count": null,
      "outputs": [
        {
          "output_type": "execute_result",
          "data": {
            "text/html": [
              "<div>\n",
              "<style scoped>\n",
              "    .dataframe tbody tr th:only-of-type {\n",
              "        vertical-align: middle;\n",
              "    }\n",
              "\n",
              "    .dataframe tbody tr th {\n",
              "        vertical-align: top;\n",
              "    }\n",
              "\n",
              "    .dataframe thead th {\n",
              "        text-align: right;\n",
              "    }\n",
              "</style>\n",
              "<table border=\"1\" class=\"dataframe\">\n",
              "  <thead>\n",
              "    <tr style=\"text-align: right;\">\n",
              "      <th></th>\n",
              "      <th>categoria</th>\n",
              "      <th>total</th>\n",
              "    </tr>\n",
              "  </thead>\n",
              "  <tbody>\n",
              "    <tr>\n",
              "      <th>14</th>\n",
              "      <td>SECUESTRO</td>\n",
              "      <td>16</td>\n",
              "    </tr>\n",
              "    <tr>\n",
              "      <th>12</th>\n",
              "      <td>ROBO A TRANSPORTISTA CON Y SIN VIOLENCIA</td>\n",
              "      <td>84</td>\n",
              "    </tr>\n",
              "    <tr>\n",
              "      <th>8</th>\n",
              "      <td>ROBO A PASAJERO A BORDO DE TAXI CON VIOLENCIA</td>\n",
              "      <td>99</td>\n",
              "    </tr>\n",
              "    <tr>\n",
              "      <th>5</th>\n",
              "      <td>ROBO A CUENTAHABIENTE SALIENDO DEL CAJERO CON ...</td>\n",
              "      <td>243</td>\n",
              "    </tr>\n",
              "    <tr>\n",
              "      <th>4</th>\n",
              "      <td>ROBO A CASA HABITACIÓN CON VIOLENCIA</td>\n",
              "      <td>301</td>\n",
              "    </tr>\n",
              "    <tr>\n",
              "      <th>15</th>\n",
              "      <td>VIOLACIÓN</td>\n",
              "      <td>428</td>\n",
              "    </tr>\n",
              "    <tr>\n",
              "      <th>9</th>\n",
              "      <td>ROBO A PASAJERO A BORDO DEL METRO CON Y SIN VI...</td>\n",
              "      <td>447</td>\n",
              "    </tr>\n",
              "    <tr>\n",
              "      <th>7</th>\n",
              "      <td>ROBO A PASAJERO A BORDO DE MICROBUS CON Y SIN ...</td>\n",
              "      <td>498</td>\n",
              "    </tr>\n",
              "    <tr>\n",
              "      <th>2</th>\n",
              "      <td>HOMICIDIO DOLOSO</td>\n",
              "      <td>921</td>\n",
              "    </tr>\n",
              "    <tr>\n",
              "      <th>3</th>\n",
              "      <td>LESIONES DOLOSAS POR DISPARO DE ARMA DE FUEGO</td>\n",
              "      <td>1267</td>\n",
              "    </tr>\n",
              "    <tr>\n",
              "      <th>10</th>\n",
              "      <td>ROBO A REPARTIDOR CON Y SIN VIOLENCIA</td>\n",
              "      <td>1405</td>\n",
              "    </tr>\n",
              "    <tr>\n",
              "      <th>6</th>\n",
              "      <td>ROBO A NEGOCIO CON VIOLENCIA</td>\n",
              "      <td>1922</td>\n",
              "    </tr>\n",
              "    <tr>\n",
              "      <th>1</th>\n",
              "      <td>HECHO NO DELICTIVO</td>\n",
              "      <td>5078</td>\n",
              "    </tr>\n",
              "    <tr>\n",
              "      <th>11</th>\n",
              "      <td>ROBO A TRANSEUNTE EN VÍA PÚBLICA CON Y SIN VIO...</td>\n",
              "      <td>5803</td>\n",
              "    </tr>\n",
              "    <tr>\n",
              "      <th>13</th>\n",
              "      <td>ROBO DE VEHÍCULO CON Y SIN VIOLENCIA</td>\n",
              "      <td>7754</td>\n",
              "    </tr>\n",
              "    <tr>\n",
              "      <th>0</th>\n",
              "      <td>DELITO DE BAJO IMPACTO</td>\n",
              "      <td>73373</td>\n",
              "    </tr>\n",
              "  </tbody>\n",
              "</table>\n",
              "</div>"
            ],
            "text/plain": [
              "                                            categoria  total\n",
              "14                                          SECUESTRO     16\n",
              "12           ROBO A TRANSPORTISTA CON Y SIN VIOLENCIA     84\n",
              "8       ROBO A PASAJERO A BORDO DE TAXI CON VIOLENCIA     99\n",
              "5   ROBO A CUENTAHABIENTE SALIENDO DEL CAJERO CON ...    243\n",
              "4                ROBO A CASA HABITACIÓN CON VIOLENCIA    301\n",
              "15                                          VIOLACIÓN    428\n",
              "9   ROBO A PASAJERO A BORDO DEL METRO CON Y SIN VI...    447\n",
              "7   ROBO A PASAJERO A BORDO DE MICROBUS CON Y SIN ...    498\n",
              "2                                    HOMICIDIO DOLOSO    921\n",
              "3       LESIONES DOLOSAS POR DISPARO DE ARMA DE FUEGO   1267\n",
              "10              ROBO A REPARTIDOR CON Y SIN VIOLENCIA   1405\n",
              "6                        ROBO A NEGOCIO CON VIOLENCIA   1922\n",
              "1                                  HECHO NO DELICTIVO   5078\n",
              "11  ROBO A TRANSEUNTE EN VÍA PÚBLICA CON Y SIN VIO...   5803\n",
              "13               ROBO DE VEHÍCULO CON Y SIN VIOLENCIA   7754\n",
              "0                              DELITO DE BAJO IMPACTO  73373"
            ]
          },
          "metadata": {
            "tags": []
          },
          "execution_count": 8
        }
      ]
    },
    {
      "cell_type": "code",
      "metadata": {
        "id": "980sZuBPT1Mt",
        "colab_type": "code",
        "colab": {}
      },
      "source": [
        "def tabla_frecuencias_categoria(categoria, ascendente):\n",
        "    return crimenes[crimenes['categoria']==categoria].groupby(['crimen']).size().to_frame().reset_index().rename(columns={\n",
        "    0:'Total'\n",
        "}).sort_values(by='Total',ascending=~ascendente)"
      ],
      "execution_count": null,
      "outputs": []
    },
    {
      "cell_type": "code",
      "metadata": {
        "id": "lYEDF89eT1My",
        "colab_type": "code",
        "colab": {
          "base_uri": "https://localhost:8080/",
          "height": 34
        },
        "outputId": "b12d3711-89be-4922-a60f-9e3ece9adbbc"
      },
      "source": [
        "pd.isnull(crimenes['fecha']).values.ravel().sum()"
      ],
      "execution_count": null,
      "outputs": [
        {
          "output_type": "execute_result",
          "data": {
            "text/plain": [
              "10"
            ]
          },
          "metadata": {
            "tags": []
          },
          "execution_count": 10
        }
      ]
    },
    {
      "cell_type": "markdown",
      "metadata": {
        "id": "XOC1pv2BT1M2",
        "colab_type": "text"
      },
      "source": [
        "# Secuestro"
      ]
    },
    {
      "cell_type": "code",
      "metadata": {
        "id": "OOa-eGAnT1M3",
        "colab_type": "code",
        "colab": {
          "base_uri": "https://localhost:8080/",
          "height": 77
        },
        "outputId": "4dfb88ae-1d0a-4f3e-c5b1-c5de346d43ca"
      },
      "source": [
        "tabla_frecuencias_categoria('SECUESTRO', True)"
      ],
      "execution_count": null,
      "outputs": [
        {
          "output_type": "execute_result",
          "data": {
            "text/html": [
              "<div>\n",
              "<style scoped>\n",
              "    .dataframe tbody tr th:only-of-type {\n",
              "        vertical-align: middle;\n",
              "    }\n",
              "\n",
              "    .dataframe tbody tr th {\n",
              "        vertical-align: top;\n",
              "    }\n",
              "\n",
              "    .dataframe thead th {\n",
              "        text-align: right;\n",
              "    }\n",
              "</style>\n",
              "<table border=\"1\" class=\"dataframe\">\n",
              "  <thead>\n",
              "    <tr style=\"text-align: right;\">\n",
              "      <th></th>\n",
              "      <th>crimen</th>\n",
              "      <th>Total</th>\n",
              "    </tr>\n",
              "  </thead>\n",
              "  <tbody>\n",
              "    <tr>\n",
              "      <th>0</th>\n",
              "      <td>PLAGIO O SECUESTRO</td>\n",
              "      <td>16</td>\n",
              "    </tr>\n",
              "  </tbody>\n",
              "</table>\n",
              "</div>"
            ],
            "text/plain": [
              "               crimen  Total\n",
              "0  PLAGIO O SECUESTRO     16"
            ]
          },
          "metadata": {
            "tags": []
          },
          "execution_count": 11
        }
      ]
    },
    {
      "cell_type": "markdown",
      "metadata": {
        "id": "xcVMqN2ET1M9",
        "colab_type": "text"
      },
      "source": [
        "# Robo a transportista con y sin violencia"
      ]
    },
    {
      "cell_type": "code",
      "metadata": {
        "id": "F6Y8Qi9VT1M9",
        "colab_type": "code",
        "colab": {
          "base_uri": "https://localhost:8080/",
          "height": 106
        },
        "outputId": "d7a9077c-99ac-4583-944e-420461cb34a0"
      },
      "source": [
        "tabla_frecuencias_categoria('ROBO A TRANSPORTISTA CON Y SIN VIOLENCIA', True)"
      ],
      "execution_count": null,
      "outputs": [
        {
          "output_type": "execute_result",
          "data": {
            "text/html": [
              "<div>\n",
              "<style scoped>\n",
              "    .dataframe tbody tr th:only-of-type {\n",
              "        vertical-align: middle;\n",
              "    }\n",
              "\n",
              "    .dataframe tbody tr th {\n",
              "        vertical-align: top;\n",
              "    }\n",
              "\n",
              "    .dataframe thead th {\n",
              "        text-align: right;\n",
              "    }\n",
              "</style>\n",
              "<table border=\"1\" class=\"dataframe\">\n",
              "  <thead>\n",
              "    <tr style=\"text-align: right;\">\n",
              "      <th></th>\n",
              "      <th>crimen</th>\n",
              "      <th>Total</th>\n",
              "    </tr>\n",
              "  </thead>\n",
              "  <tbody>\n",
              "    <tr>\n",
              "      <th>1</th>\n",
              "      <td>ROBO A TRANSPORTISTA Y VEHICULO PESADO SIN VIO...</td>\n",
              "      <td>8</td>\n",
              "    </tr>\n",
              "    <tr>\n",
              "      <th>0</th>\n",
              "      <td>ROBO A TRANSPORTISTA Y VEHICULO PESADO CON VIO...</td>\n",
              "      <td>76</td>\n",
              "    </tr>\n",
              "  </tbody>\n",
              "</table>\n",
              "</div>"
            ],
            "text/plain": [
              "                                              crimen  Total\n",
              "1  ROBO A TRANSPORTISTA Y VEHICULO PESADO SIN VIO...      8\n",
              "0  ROBO A TRANSPORTISTA Y VEHICULO PESADO CON VIO...     76"
            ]
          },
          "metadata": {
            "tags": []
          },
          "execution_count": 12
        }
      ]
    },
    {
      "cell_type": "markdown",
      "metadata": {
        "id": "90G9FdJmT1NC",
        "colab_type": "text"
      },
      "source": [
        " # Robo a pasajero a bordo de taxi con violencia"
      ]
    },
    {
      "cell_type": "code",
      "metadata": {
        "id": "Wt7neQCCT1ND",
        "colab_type": "code",
        "colab": {
          "base_uri": "https://localhost:8080/",
          "height": 136
        },
        "outputId": "549a3390-c9b5-4a80-933c-2767cc72a8a3"
      },
      "source": [
        "tabla_frecuencias_categoria('ROBO A PASAJERO A BORDO DE TAXI CON VIOLENCIA', True).set_index('crimen')"
      ],
      "execution_count": null,
      "outputs": [
        {
          "output_type": "execute_result",
          "data": {
            "text/html": [
              "<div>\n",
              "<style scoped>\n",
              "    .dataframe tbody tr th:only-of-type {\n",
              "        vertical-align: middle;\n",
              "    }\n",
              "\n",
              "    .dataframe tbody tr th {\n",
              "        vertical-align: top;\n",
              "    }\n",
              "\n",
              "    .dataframe thead th {\n",
              "        text-align: right;\n",
              "    }\n",
              "</style>\n",
              "<table border=\"1\" class=\"dataframe\">\n",
              "  <thead>\n",
              "    <tr style=\"text-align: right;\">\n",
              "      <th></th>\n",
              "      <th>Total</th>\n",
              "    </tr>\n",
              "    <tr>\n",
              "      <th>crimen</th>\n",
              "      <th></th>\n",
              "    </tr>\n",
              "  </thead>\n",
              "  <tbody>\n",
              "    <tr>\n",
              "      <th>ROBO A TRANSEUNTE A BORDO DE TAXI PÚBLICO Y PRIVADO CON VIOLENCIA</th>\n",
              "      <td>45</td>\n",
              "    </tr>\n",
              "    <tr>\n",
              "      <th>ROBO A PASAJERO A BORDO DE TAXI CON VIOLENCIA</th>\n",
              "      <td>54</td>\n",
              "    </tr>\n",
              "  </tbody>\n",
              "</table>\n",
              "</div>"
            ],
            "text/plain": [
              "                                                    Total\n",
              "crimen                                                   \n",
              "ROBO A TRANSEUNTE A BORDO DE TAXI PÚBLICO Y PRI...     45\n",
              "ROBO A PASAJERO A BORDO DE TAXI CON VIOLENCIA          54"
            ]
          },
          "metadata": {
            "tags": []
          },
          "execution_count": 13
        }
      ]
    },
    {
      "cell_type": "markdown",
      "metadata": {
        "id": "_KRFhsNbT1NG",
        "colab_type": "text"
      },
      "source": [
        "# Robo a cuentahabiente saliendo del cajero con violencia"
      ]
    },
    {
      "cell_type": "code",
      "metadata": {
        "id": "v4-A4kidT1NH",
        "colab_type": "code",
        "colab": {
          "base_uri": "https://localhost:8080/",
          "height": 136
        },
        "outputId": "da3ffcf2-1271-4bb0-c9bd-ab0a768e7cfc"
      },
      "source": [
        "tabla_frecuencias_categoria('ROBO A CUENTAHABIENTE SALIENDO DEL CAJERO CON VIOLENCIA', True).set_index('crimen')"
      ],
      "execution_count": null,
      "outputs": [
        {
          "output_type": "execute_result",
          "data": {
            "text/html": [
              "<div>\n",
              "<style scoped>\n",
              "    .dataframe tbody tr th:only-of-type {\n",
              "        vertical-align: middle;\n",
              "    }\n",
              "\n",
              "    .dataframe tbody tr th {\n",
              "        vertical-align: top;\n",
              "    }\n",
              "\n",
              "    .dataframe thead th {\n",
              "        text-align: right;\n",
              "    }\n",
              "</style>\n",
              "<table border=\"1\" class=\"dataframe\">\n",
              "  <thead>\n",
              "    <tr style=\"text-align: right;\">\n",
              "      <th></th>\n",
              "      <th>Total</th>\n",
              "    </tr>\n",
              "    <tr>\n",
              "      <th>crimen</th>\n",
              "      <th></th>\n",
              "    </tr>\n",
              "  </thead>\n",
              "  <tbody>\n",
              "    <tr>\n",
              "      <th>ROBO A TRANSEUNTE SALIENDO DEL CAJERO CON VIOLENCIA</th>\n",
              "      <td>37</td>\n",
              "    </tr>\n",
              "    <tr>\n",
              "      <th>ROBO A TRANSEUNTE SALIENDO DEL BANCO CON VIOLENCIA</th>\n",
              "      <td>206</td>\n",
              "    </tr>\n",
              "  </tbody>\n",
              "</table>\n",
              "</div>"
            ],
            "text/plain": [
              "                                                    Total\n",
              "crimen                                                   \n",
              "ROBO A TRANSEUNTE SALIENDO DEL CAJERO CON VIOLE...     37\n",
              "ROBO A TRANSEUNTE SALIENDO DEL BANCO CON VIOLENCIA    206"
            ]
          },
          "metadata": {
            "tags": []
          },
          "execution_count": 14
        }
      ]
    },
    {
      "cell_type": "markdown",
      "metadata": {
        "id": "usT24YDNT1NL",
        "colab_type": "text"
      },
      "source": [
        "# Violación"
      ]
    },
    {
      "cell_type": "code",
      "metadata": {
        "id": "1hRjI7O4T1NL",
        "colab_type": "code",
        "colab": {
          "base_uri": "https://localhost:8080/",
          "height": 166
        },
        "outputId": "2837b557-9d32-4e40-cddd-6484f2d3020c"
      },
      "source": [
        "tabla_frecuencias_categoria('VIOLACIÓN', True)"
      ],
      "execution_count": null,
      "outputs": [
        {
          "output_type": "execute_result",
          "data": {
            "text/html": [
              "<div>\n",
              "<style scoped>\n",
              "    .dataframe tbody tr th:only-of-type {\n",
              "        vertical-align: middle;\n",
              "    }\n",
              "\n",
              "    .dataframe tbody tr th {\n",
              "        vertical-align: top;\n",
              "    }\n",
              "\n",
              "    .dataframe thead th {\n",
              "        text-align: right;\n",
              "    }\n",
              "</style>\n",
              "<table border=\"1\" class=\"dataframe\">\n",
              "  <thead>\n",
              "    <tr style=\"text-align: right;\">\n",
              "      <th></th>\n",
              "      <th>crimen</th>\n",
              "      <th>Total</th>\n",
              "    </tr>\n",
              "  </thead>\n",
              "  <tbody>\n",
              "    <tr>\n",
              "      <th>2</th>\n",
              "      <td>VIOLACION EQUIPARADA POR CONOCIDO</td>\n",
              "      <td>2</td>\n",
              "    </tr>\n",
              "    <tr>\n",
              "      <th>3</th>\n",
              "      <td>VIOLACION TUMULTUARIA</td>\n",
              "      <td>7</td>\n",
              "    </tr>\n",
              "    <tr>\n",
              "      <th>1</th>\n",
              "      <td>VIOLACION EQUIPARADA</td>\n",
              "      <td>45</td>\n",
              "    </tr>\n",
              "    <tr>\n",
              "      <th>0</th>\n",
              "      <td>VIOLACION</td>\n",
              "      <td>374</td>\n",
              "    </tr>\n",
              "  </tbody>\n",
              "</table>\n",
              "</div>"
            ],
            "text/plain": [
              "                              crimen  Total\n",
              "2  VIOLACION EQUIPARADA POR CONOCIDO      2\n",
              "3              VIOLACION TUMULTUARIA      7\n",
              "1               VIOLACION EQUIPARADA     45\n",
              "0                          VIOLACION    374"
            ]
          },
          "metadata": {
            "tags": []
          },
          "execution_count": 15
        }
      ]
    },
    {
      "cell_type": "code",
      "metadata": {
        "id": "wBOEyut3T1NP",
        "colab_type": "code",
        "colab": {
          "base_uri": "https://localhost:8080/",
          "height": 34
        },
        "outputId": "f4a9531f-f0b3-4f80-ce02-88a6f800d715"
      },
      "source": [
        "crimenes = crimenes[crimenes['categoria']!='VIOLACIÓN']\n",
        "crimenes.shape"
      ],
      "execution_count": null,
      "outputs": [
        {
          "output_type": "execute_result",
          "data": {
            "text/plain": [
              "(99211, 6)"
            ]
          },
          "metadata": {
            "tags": []
          },
          "execution_count": 16
        }
      ]
    },
    {
      "cell_type": "markdown",
      "metadata": {
        "id": "dcyDMvlLT1NS",
        "colab_type": "text"
      },
      "source": [
        "# Robo a casa habitación con violencia"
      ]
    },
    {
      "cell_type": "code",
      "metadata": {
        "id": "YTrRF21xT1NT",
        "colab_type": "code",
        "colab": {
          "base_uri": "https://localhost:8080/",
          "height": 106
        },
        "outputId": "2ef48e44-b18a-4e60-894c-3ac576d37acb"
      },
      "source": [
        "tabla_frecuencias_categoria('ROBO A CASA HABITACIÓN CON VIOLENCIA', True)"
      ],
      "execution_count": null,
      "outputs": [
        {
          "output_type": "execute_result",
          "data": {
            "text/html": [
              "<div>\n",
              "<style scoped>\n",
              "    .dataframe tbody tr th:only-of-type {\n",
              "        vertical-align: middle;\n",
              "    }\n",
              "\n",
              "    .dataframe tbody tr th {\n",
              "        vertical-align: top;\n",
              "    }\n",
              "\n",
              "    .dataframe thead th {\n",
              "        text-align: right;\n",
              "    }\n",
              "</style>\n",
              "<table border=\"1\" class=\"dataframe\">\n",
              "  <thead>\n",
              "    <tr style=\"text-align: right;\">\n",
              "      <th></th>\n",
              "      <th>crimen</th>\n",
              "      <th>Total</th>\n",
              "    </tr>\n",
              "  </thead>\n",
              "  <tbody>\n",
              "    <tr>\n",
              "      <th>1</th>\n",
              "      <td>ROBO A CASA HABITACION Y VEHICULO CON VIOLENCIA</td>\n",
              "      <td>46</td>\n",
              "    </tr>\n",
              "    <tr>\n",
              "      <th>0</th>\n",
              "      <td>ROBO A CASA HABITACION CON VIOLENCIA</td>\n",
              "      <td>255</td>\n",
              "    </tr>\n",
              "  </tbody>\n",
              "</table>\n",
              "</div>"
            ],
            "text/plain": [
              "                                            crimen  Total\n",
              "1  ROBO A CASA HABITACION Y VEHICULO CON VIOLENCIA     46\n",
              "0             ROBO A CASA HABITACION CON VIOLENCIA    255"
            ]
          },
          "metadata": {
            "tags": []
          },
          "execution_count": 17
        }
      ]
    },
    {
      "cell_type": "markdown",
      "metadata": {
        "id": "P_8BTUckT1NY",
        "colab_type": "text"
      },
      "source": [
        "#  Robo a pasajero a bordo del metro con y sin violencia"
      ]
    },
    {
      "cell_type": "code",
      "metadata": {
        "id": "PHC405osT1NY",
        "colab_type": "code",
        "colab": {
          "base_uri": "https://localhost:8080/",
          "height": 106
        },
        "outputId": "ff9b6928-c51d-4f5f-a6f0-a9218ee69a55"
      },
      "source": [
        "tabla_frecuencias_categoria('ROBO A PASAJERO A BORDO DEL METRO CON Y SIN VIOLENCIA', True)"
      ],
      "execution_count": null,
      "outputs": [
        {
          "output_type": "execute_result",
          "data": {
            "text/html": [
              "<div>\n",
              "<style scoped>\n",
              "    .dataframe tbody tr th:only-of-type {\n",
              "        vertical-align: middle;\n",
              "    }\n",
              "\n",
              "    .dataframe tbody tr th {\n",
              "        vertical-align: top;\n",
              "    }\n",
              "\n",
              "    .dataframe thead th {\n",
              "        text-align: right;\n",
              "    }\n",
              "</style>\n",
              "<table border=\"1\" class=\"dataframe\">\n",
              "  <thead>\n",
              "    <tr style=\"text-align: right;\">\n",
              "      <th></th>\n",
              "      <th>crimen</th>\n",
              "      <th>Total</th>\n",
              "    </tr>\n",
              "  </thead>\n",
              "  <tbody>\n",
              "    <tr>\n",
              "      <th>0</th>\n",
              "      <td>ROBO A PASAJERO A BORDO DE METRO CON VIOLENCIA</td>\n",
              "      <td>56</td>\n",
              "    </tr>\n",
              "    <tr>\n",
              "      <th>1</th>\n",
              "      <td>ROBO A PASAJERO A BORDO DE METRO SIN VIOLENCIA</td>\n",
              "      <td>391</td>\n",
              "    </tr>\n",
              "  </tbody>\n",
              "</table>\n",
              "</div>"
            ],
            "text/plain": [
              "                                           crimen  Total\n",
              "0  ROBO A PASAJERO A BORDO DE METRO CON VIOLENCIA     56\n",
              "1  ROBO A PASAJERO A BORDO DE METRO SIN VIOLENCIA    391"
            ]
          },
          "metadata": {
            "tags": []
          },
          "execution_count": 18
        }
      ]
    },
    {
      "cell_type": "markdown",
      "metadata": {
        "id": "lI6Gdh8BT1Nc",
        "colab_type": "text"
      },
      "source": [
        "# Robo a pasajero a bordo de microbus con y sin violencia"
      ]
    },
    {
      "cell_type": "code",
      "metadata": {
        "id": "yOvEV_l4T1Nc",
        "colab_type": "code",
        "colab": {
          "base_uri": "https://localhost:8080/",
          "height": 136
        },
        "outputId": "d94a2005-48a9-4861-c0dc-551de3294e30"
      },
      "source": [
        "tabla_frecuencias_categoria('ROBO A PASAJERO A BORDO DE MICROBUS CON Y SIN VIOLENCIA', True).set_index(['crimen'])"
      ],
      "execution_count": null,
      "outputs": [
        {
          "output_type": "execute_result",
          "data": {
            "text/html": [
              "<div>\n",
              "<style scoped>\n",
              "    .dataframe tbody tr th:only-of-type {\n",
              "        vertical-align: middle;\n",
              "    }\n",
              "\n",
              "    .dataframe tbody tr th {\n",
              "        vertical-align: top;\n",
              "    }\n",
              "\n",
              "    .dataframe thead th {\n",
              "        text-align: right;\n",
              "    }\n",
              "</style>\n",
              "<table border=\"1\" class=\"dataframe\">\n",
              "  <thead>\n",
              "    <tr style=\"text-align: right;\">\n",
              "      <th></th>\n",
              "      <th>Total</th>\n",
              "    </tr>\n",
              "    <tr>\n",
              "      <th>crimen</th>\n",
              "      <th></th>\n",
              "    </tr>\n",
              "  </thead>\n",
              "  <tbody>\n",
              "    <tr>\n",
              "      <th>ROBO A PASAJERO A BORDO DE PESERO COLECTIVO SIN VIOLENCIA</th>\n",
              "      <td>34</td>\n",
              "    </tr>\n",
              "    <tr>\n",
              "      <th>ROBO A PASAJERO A BORDO DE PESERO COLECTIVO CON VIOLENCIA</th>\n",
              "      <td>464</td>\n",
              "    </tr>\n",
              "  </tbody>\n",
              "</table>\n",
              "</div>"
            ],
            "text/plain": [
              "                                                    Total\n",
              "crimen                                                   \n",
              "ROBO A PASAJERO A BORDO DE PESERO COLECTIVO SIN...     34\n",
              "ROBO A PASAJERO A BORDO DE PESERO COLECTIVO CON...    464"
            ]
          },
          "metadata": {
            "tags": []
          },
          "execution_count": 19
        }
      ]
    },
    {
      "cell_type": "markdown",
      "metadata": {
        "id": "Vci3Q-NcT1Ng",
        "colab_type": "text"
      },
      "source": [
        "# Homicidio doloso"
      ]
    },
    {
      "cell_type": "code",
      "metadata": {
        "id": "t02Vh3kBT1Ng",
        "colab_type": "code",
        "colab": {
          "base_uri": "https://localhost:8080/",
          "height": 314
        },
        "outputId": "39765aa7-d0a2-4955-bf24-ca9e54d21228"
      },
      "source": [
        "tabla_frecuencias_categoria('HOMICIDIO DOLOSO', True)"
      ],
      "execution_count": null,
      "outputs": [
        {
          "output_type": "execute_result",
          "data": {
            "text/html": [
              "<div>\n",
              "<style scoped>\n",
              "    .dataframe tbody tr th:only-of-type {\n",
              "        vertical-align: middle;\n",
              "    }\n",
              "\n",
              "    .dataframe tbody tr th {\n",
              "        vertical-align: top;\n",
              "    }\n",
              "\n",
              "    .dataframe thead th {\n",
              "        text-align: right;\n",
              "    }\n",
              "</style>\n",
              "<table border=\"1\" class=\"dataframe\">\n",
              "  <thead>\n",
              "    <tr style=\"text-align: right;\">\n",
              "      <th></th>\n",
              "      <th>crimen</th>\n",
              "      <th>Total</th>\n",
              "    </tr>\n",
              "  </thead>\n",
              "  <tbody>\n",
              "    <tr>\n",
              "      <th>2</th>\n",
              "      <td>FEMINICIDIO POR DISPARO DE ARMA DE FUEGO</td>\n",
              "      <td>1</td>\n",
              "    </tr>\n",
              "    <tr>\n",
              "      <th>4</th>\n",
              "      <td>HOMICIDIO POR AHORCAMIENTO</td>\n",
              "      <td>1</td>\n",
              "    </tr>\n",
              "    <tr>\n",
              "      <th>3</th>\n",
              "      <td>FEMINICIDIO POR GOLPES</td>\n",
              "      <td>2</td>\n",
              "    </tr>\n",
              "    <tr>\n",
              "      <th>1</th>\n",
              "      <td>FEMINICIDIO POR ARMA BLANCA</td>\n",
              "      <td>5</td>\n",
              "    </tr>\n",
              "    <tr>\n",
              "      <th>0</th>\n",
              "      <td>FEMINICIDIO</td>\n",
              "      <td>22</td>\n",
              "    </tr>\n",
              "    <tr>\n",
              "      <th>7</th>\n",
              "      <td>HOMICIDIO POR GOLPES</td>\n",
              "      <td>50</td>\n",
              "    </tr>\n",
              "    <tr>\n",
              "      <th>8</th>\n",
              "      <td>HOMICIDIOS INTENCIONALES (OTROS)</td>\n",
              "      <td>56</td>\n",
              "    </tr>\n",
              "    <tr>\n",
              "      <th>5</th>\n",
              "      <td>HOMICIDIO POR ARMA BLANCA</td>\n",
              "      <td>81</td>\n",
              "    </tr>\n",
              "    <tr>\n",
              "      <th>6</th>\n",
              "      <td>HOMICIDIO POR ARMA DE FUEGO</td>\n",
              "      <td>703</td>\n",
              "    </tr>\n",
              "  </tbody>\n",
              "</table>\n",
              "</div>"
            ],
            "text/plain": [
              "                                     crimen  Total\n",
              "2  FEMINICIDIO POR DISPARO DE ARMA DE FUEGO      1\n",
              "4                HOMICIDIO POR AHORCAMIENTO      1\n",
              "3                    FEMINICIDIO POR GOLPES      2\n",
              "1               FEMINICIDIO POR ARMA BLANCA      5\n",
              "0                               FEMINICIDIO     22\n",
              "7                      HOMICIDIO POR GOLPES     50\n",
              "8          HOMICIDIOS INTENCIONALES (OTROS)     56\n",
              "5                 HOMICIDIO POR ARMA BLANCA     81\n",
              "6               HOMICIDIO POR ARMA DE FUEGO    703"
            ]
          },
          "metadata": {
            "tags": []
          },
          "execution_count": 20
        }
      ]
    },
    {
      "cell_type": "markdown",
      "metadata": {
        "id": "T9e0sIexT1Nk",
        "colab_type": "text"
      },
      "source": [
        "# Robo a repartidor con y sin violencia"
      ]
    },
    {
      "cell_type": "code",
      "metadata": {
        "id": "taDCVA-IT1Nk",
        "colab_type": "code",
        "colab": {
          "base_uri": "https://localhost:8080/",
          "height": 166
        },
        "outputId": "b59e35e7-8b6f-46d1-b3c2-5ff73f59c746"
      },
      "source": [
        "tabla_frecuencias_categoria('ROBO A REPARTIDOR CON Y SIN VIOLENCIA', True)"
      ],
      "execution_count": null,
      "outputs": [
        {
          "output_type": "execute_result",
          "data": {
            "text/html": [
              "<div>\n",
              "<style scoped>\n",
              "    .dataframe tbody tr th:only-of-type {\n",
              "        vertical-align: middle;\n",
              "    }\n",
              "\n",
              "    .dataframe tbody tr th {\n",
              "        vertical-align: top;\n",
              "    }\n",
              "\n",
              "    .dataframe thead th {\n",
              "        text-align: right;\n",
              "    }\n",
              "</style>\n",
              "<table border=\"1\" class=\"dataframe\">\n",
              "  <thead>\n",
              "    <tr style=\"text-align: right;\">\n",
              "      <th></th>\n",
              "      <th>crimen</th>\n",
              "      <th>Total</th>\n",
              "    </tr>\n",
              "  </thead>\n",
              "  <tbody>\n",
              "    <tr>\n",
              "      <th>3</th>\n",
              "      <td>ROBO A REPARTIDOR Y VEHICULO SIN VIOLENCIA</td>\n",
              "      <td>15</td>\n",
              "    </tr>\n",
              "    <tr>\n",
              "      <th>2</th>\n",
              "      <td>ROBO A REPARTIDOR Y VEHICULO CON VIOLENCIA</td>\n",
              "      <td>82</td>\n",
              "    </tr>\n",
              "    <tr>\n",
              "      <th>1</th>\n",
              "      <td>ROBO A REPARTIDOR SIN VIOLENCIA</td>\n",
              "      <td>178</td>\n",
              "    </tr>\n",
              "    <tr>\n",
              "      <th>0</th>\n",
              "      <td>ROBO A REPARTIDOR CON VIOLENCIA</td>\n",
              "      <td>1130</td>\n",
              "    </tr>\n",
              "  </tbody>\n",
              "</table>\n",
              "</div>"
            ],
            "text/plain": [
              "                                       crimen  Total\n",
              "3  ROBO A REPARTIDOR Y VEHICULO SIN VIOLENCIA     15\n",
              "2  ROBO A REPARTIDOR Y VEHICULO CON VIOLENCIA     82\n",
              "1             ROBO A REPARTIDOR SIN VIOLENCIA    178\n",
              "0             ROBO A REPARTIDOR CON VIOLENCIA   1130"
            ]
          },
          "metadata": {
            "tags": []
          },
          "execution_count": 21
        }
      ]
    },
    {
      "cell_type": "markdown",
      "metadata": {
        "id": "XMnQp65tT1No",
        "colab_type": "text"
      },
      "source": [
        "# Lesiones dolosas por disparo de arma de fuego"
      ]
    },
    {
      "cell_type": "code",
      "metadata": {
        "id": "6EXpxj_CT1No",
        "colab_type": "code",
        "colab": {
          "base_uri": "https://localhost:8080/",
          "height": 77
        },
        "outputId": "6e1a9f3c-7c06-44b8-c470-3545624842dc"
      },
      "source": [
        "tabla_frecuencias_categoria('LESIONES DOLOSAS POR DISPARO DE ARMA DE FUEGO', True)"
      ],
      "execution_count": null,
      "outputs": [
        {
          "output_type": "execute_result",
          "data": {
            "text/html": [
              "<div>\n",
              "<style scoped>\n",
              "    .dataframe tbody tr th:only-of-type {\n",
              "        vertical-align: middle;\n",
              "    }\n",
              "\n",
              "    .dataframe tbody tr th {\n",
              "        vertical-align: top;\n",
              "    }\n",
              "\n",
              "    .dataframe thead th {\n",
              "        text-align: right;\n",
              "    }\n",
              "</style>\n",
              "<table border=\"1\" class=\"dataframe\">\n",
              "  <thead>\n",
              "    <tr style=\"text-align: right;\">\n",
              "      <th></th>\n",
              "      <th>crimen</th>\n",
              "      <th>Total</th>\n",
              "    </tr>\n",
              "  </thead>\n",
              "  <tbody>\n",
              "    <tr>\n",
              "      <th>0</th>\n",
              "      <td>LESIONES INTENCIONALES POR ARMA DE FUEGO</td>\n",
              "      <td>1267</td>\n",
              "    </tr>\n",
              "  </tbody>\n",
              "</table>\n",
              "</div>"
            ],
            "text/plain": [
              "                                     crimen  Total\n",
              "0  LESIONES INTENCIONALES POR ARMA DE FUEGO   1267"
            ]
          },
          "metadata": {
            "tags": []
          },
          "execution_count": 22
        }
      ]
    },
    {
      "cell_type": "markdown",
      "metadata": {
        "id": "VyUeDAPJT1Ns",
        "colab_type": "text"
      },
      "source": [
        "# Robo a negocio con violencia"
      ]
    },
    {
      "cell_type": "code",
      "metadata": {
        "id": "8WPB9umET1Ns",
        "colab_type": "code",
        "colab": {
          "base_uri": "https://localhost:8080/",
          "height": 314
        },
        "outputId": "d62e6977-a93f-4493-96fc-81b3a1d3d6e2"
      },
      "source": [
        "tabla_frecuencias_categoria('ROBO A NEGOCIO CON VIOLENCIA', True)"
      ],
      "execution_count": null,
      "outputs": [
        {
          "output_type": "execute_result",
          "data": {
            "text/html": [
              "<div>\n",
              "<style scoped>\n",
              "    .dataframe tbody tr th:only-of-type {\n",
              "        vertical-align: middle;\n",
              "    }\n",
              "\n",
              "    .dataframe tbody tr th {\n",
              "        vertical-align: top;\n",
              "    }\n",
              "\n",
              "    .dataframe thead th {\n",
              "        text-align: right;\n",
              "    }\n",
              "</style>\n",
              "<table border=\"1\" class=\"dataframe\">\n",
              "  <thead>\n",
              "    <tr style=\"text-align: right;\">\n",
              "      <th></th>\n",
              "      <th>crimen</th>\n",
              "      <th>Total</th>\n",
              "    </tr>\n",
              "  </thead>\n",
              "  <tbody>\n",
              "    <tr>\n",
              "      <th>6</th>\n",
              "      <td>ROBO A SUCURSAL BANCARIA (SUPERMERCADO) CON VI...</td>\n",
              "      <td>1</td>\n",
              "    </tr>\n",
              "    <tr>\n",
              "      <th>7</th>\n",
              "      <td>ROBO A SUCURSAL BANCARIA CON VIOLENCIA</td>\n",
              "      <td>1</td>\n",
              "    </tr>\n",
              "    <tr>\n",
              "      <th>8</th>\n",
              "      <td>ROBO DURANTE TRASLADO DE VALORES (NOMINA) CON ...</td>\n",
              "      <td>2</td>\n",
              "    </tr>\n",
              "    <tr>\n",
              "      <th>5</th>\n",
              "      <td>ROBO A SUCURSAL BANCARIA (ASALTO BANCARIO) CON...</td>\n",
              "      <td>3</td>\n",
              "    </tr>\n",
              "    <tr>\n",
              "      <th>1</th>\n",
              "      <td>ROBO A NEGOCIO CON VIOLENCIA POR FARDEROS (TIE...</td>\n",
              "      <td>4</td>\n",
              "    </tr>\n",
              "    <tr>\n",
              "      <th>3</th>\n",
              "      <td>ROBO A NEGOCIO Y VEHICULO CON VIOLENCIA</td>\n",
              "      <td>6</td>\n",
              "    </tr>\n",
              "    <tr>\n",
              "      <th>4</th>\n",
              "      <td>ROBO A OFICINA PÚBLICA CON VIOLENCIA</td>\n",
              "      <td>10</td>\n",
              "    </tr>\n",
              "    <tr>\n",
              "      <th>2</th>\n",
              "      <td>ROBO A NEGOCIO CON VIOLENCIA POR FARDEROS (TIE...</td>\n",
              "      <td>51</td>\n",
              "    </tr>\n",
              "    <tr>\n",
              "      <th>0</th>\n",
              "      <td>ROBO A NEGOCIO CON VIOLENCIA</td>\n",
              "      <td>1844</td>\n",
              "    </tr>\n",
              "  </tbody>\n",
              "</table>\n",
              "</div>"
            ],
            "text/plain": [
              "                                              crimen  Total\n",
              "6  ROBO A SUCURSAL BANCARIA (SUPERMERCADO) CON VI...      1\n",
              "7             ROBO A SUCURSAL BANCARIA CON VIOLENCIA      1\n",
              "8  ROBO DURANTE TRASLADO DE VALORES (NOMINA) CON ...      2\n",
              "5  ROBO A SUCURSAL BANCARIA (ASALTO BANCARIO) CON...      3\n",
              "1  ROBO A NEGOCIO CON VIOLENCIA POR FARDEROS (TIE...      4\n",
              "3            ROBO A NEGOCIO Y VEHICULO CON VIOLENCIA      6\n",
              "4               ROBO A OFICINA PÚBLICA CON VIOLENCIA     10\n",
              "2  ROBO A NEGOCIO CON VIOLENCIA POR FARDEROS (TIE...     51\n",
              "0                       ROBO A NEGOCIO CON VIOLENCIA   1844"
            ]
          },
          "metadata": {
            "tags": []
          },
          "execution_count": 23
        }
      ]
    },
    {
      "cell_type": "markdown",
      "metadata": {
        "id": "9zslebK1T1Nw",
        "colab_type": "text"
      },
      "source": [
        "# Robo a transeunte en  vía pública con y sin violencia"
      ]
    },
    {
      "cell_type": "code",
      "metadata": {
        "id": "Qy6zjbCaT1Nw",
        "colab_type": "code",
        "colab": {
          "base_uri": "https://localhost:8080/",
          "height": 166
        },
        "outputId": "a4146ce0-8ae5-4026-8adf-7d3ca8485214"
      },
      "source": [
        "tabla_frecuencias_categoria('ROBO A TRANSEUNTE EN VÍA PÚBLICA CON Y SIN VIOLENCIA', True).set_index(['crimen'])"
      ],
      "execution_count": null,
      "outputs": [
        {
          "output_type": "execute_result",
          "data": {
            "text/html": [
              "<div>\n",
              "<style scoped>\n",
              "    .dataframe tbody tr th:only-of-type {\n",
              "        vertical-align: middle;\n",
              "    }\n",
              "\n",
              "    .dataframe tbody tr th {\n",
              "        vertical-align: top;\n",
              "    }\n",
              "\n",
              "    .dataframe thead th {\n",
              "        text-align: right;\n",
              "    }\n",
              "</style>\n",
              "<table border=\"1\" class=\"dataframe\">\n",
              "  <thead>\n",
              "    <tr style=\"text-align: right;\">\n",
              "      <th></th>\n",
              "      <th>Total</th>\n",
              "    </tr>\n",
              "    <tr>\n",
              "      <th>crimen</th>\n",
              "      <th></th>\n",
              "    </tr>\n",
              "  </thead>\n",
              "  <tbody>\n",
              "    <tr>\n",
              "      <th>ROBO A TRANSEUNTE EN VIA PUBLICA (NOMINA) CON VIOLENCIA</th>\n",
              "      <td>4</td>\n",
              "    </tr>\n",
              "    <tr>\n",
              "      <th>ROBO A TRANSEUNTE EN VIA PUBLICA SIN VIOLENCIA</th>\n",
              "      <td>596</td>\n",
              "    </tr>\n",
              "    <tr>\n",
              "      <th>ROBO A TRANSEUNTE EN VIA PUBLICA CON VIOLENCIA</th>\n",
              "      <td>5203</td>\n",
              "    </tr>\n",
              "  </tbody>\n",
              "</table>\n",
              "</div>"
            ],
            "text/plain": [
              "                                                    Total\n",
              "crimen                                                   \n",
              "ROBO A TRANSEUNTE EN VIA PUBLICA (NOMINA) CON V...      4\n",
              "ROBO A TRANSEUNTE EN VIA PUBLICA SIN VIOLENCIA        596\n",
              "ROBO A TRANSEUNTE EN VIA PUBLICA CON VIOLENCIA       5203"
            ]
          },
          "metadata": {
            "tags": []
          },
          "execution_count": 24
        }
      ]
    },
    {
      "cell_type": "markdown",
      "metadata": {
        "id": "RWZQQZeDT1N1",
        "colab_type": "text"
      },
      "source": [
        "# Hecho no delictivo"
      ]
    },
    {
      "cell_type": "code",
      "metadata": {
        "id": "WvApQepST1N2",
        "colab_type": "code",
        "colab": {
          "base_uri": "https://localhost:8080/",
          "height": 787
        },
        "outputId": "82339e51-8511-4564-d1b3-28dcd8e1b7fa"
      },
      "source": [
        "tabla_frecuencias_categoria('HECHO NO DELICTIVO', True)"
      ],
      "execution_count": null,
      "outputs": [
        {
          "output_type": "execute_result",
          "data": {
            "text/html": [
              "<div>\n",
              "<style scoped>\n",
              "    .dataframe tbody tr th:only-of-type {\n",
              "        vertical-align: middle;\n",
              "    }\n",
              "\n",
              "    .dataframe tbody tr th {\n",
              "        vertical-align: top;\n",
              "    }\n",
              "\n",
              "    .dataframe thead th {\n",
              "        text-align: right;\n",
              "    }\n",
              "</style>\n",
              "<table border=\"1\" class=\"dataframe\">\n",
              "  <thead>\n",
              "    <tr style=\"text-align: right;\">\n",
              "      <th></th>\n",
              "      <th>crimen</th>\n",
              "      <th>Total</th>\n",
              "    </tr>\n",
              "  </thead>\n",
              "  <tbody>\n",
              "    <tr>\n",
              "      <th>9</th>\n",
              "      <td>DENUNCIA DE HECHOS POR ROBO DE CELULAR</td>\n",
              "      <td>1</td>\n",
              "    </tr>\n",
              "    <tr>\n",
              "      <th>16</th>\n",
              "      <td>PERDIDA DE LA VIDA POR DERRUMBE</td>\n",
              "      <td>2</td>\n",
              "    </tr>\n",
              "    <tr>\n",
              "      <th>10</th>\n",
              "      <td>PERDIDA DE LA VIDA ASFIXIA POR ALIMENTOS/ LIQU...</td>\n",
              "      <td>3</td>\n",
              "    </tr>\n",
              "    <tr>\n",
              "      <th>13</th>\n",
              "      <td>PERDIDA DE LA VIDA POR ASFIXIA</td>\n",
              "      <td>4</td>\n",
              "    </tr>\n",
              "    <tr>\n",
              "      <th>2</th>\n",
              "      <td>DDH FDS</td>\n",
              "      <td>6</td>\n",
              "    </tr>\n",
              "    <tr>\n",
              "      <th>11</th>\n",
              "      <td>PERDIDA DE LA VIDA POR ACCIDENTE LABORAL</td>\n",
              "      <td>9</td>\n",
              "    </tr>\n",
              "    <tr>\n",
              "      <th>12</th>\n",
              "      <td>PERDIDA DE LA VIDA POR AHOGAMIENTO</td>\n",
              "      <td>10</td>\n",
              "    </tr>\n",
              "    <tr>\n",
              "      <th>21</th>\n",
              "      <td>PERDIDA DE LA VIDA POR PRECIPITACION</td>\n",
              "      <td>10</td>\n",
              "    </tr>\n",
              "    <tr>\n",
              "      <th>18</th>\n",
              "      <td>PERDIDA DE LA VIDA POR INTOXICACION</td>\n",
              "      <td>11</td>\n",
              "    </tr>\n",
              "    <tr>\n",
              "      <th>24</th>\n",
              "      <td>PERDIDA DE LA VIDA POR SUICIDIO EN EL METRO</td>\n",
              "      <td>12</td>\n",
              "    </tr>\n",
              "    <tr>\n",
              "      <th>15</th>\n",
              "      <td>PERDIDA DE LA VIDA POR CONGESTION ALCOHOLICA</td>\n",
              "      <td>13</td>\n",
              "    </tr>\n",
              "    <tr>\n",
              "      <th>0</th>\n",
              "      <td>DDH ANONIMAS</td>\n",
              "      <td>13</td>\n",
              "    </tr>\n",
              "    <tr>\n",
              "      <th>5</th>\n",
              "      <td>DDH REDES</td>\n",
              "      <td>16</td>\n",
              "    </tr>\n",
              "    <tr>\n",
              "      <th>7</th>\n",
              "      <td>DDH SIN DATOS</td>\n",
              "      <td>19</td>\n",
              "    </tr>\n",
              "    <tr>\n",
              "      <th>3</th>\n",
              "      <td>DDH FRVT</td>\n",
              "      <td>19</td>\n",
              "    </tr>\n",
              "    <tr>\n",
              "      <th>1</th>\n",
              "      <td>DDH CERESO</td>\n",
              "      <td>22</td>\n",
              "    </tr>\n",
              "    <tr>\n",
              "      <th>22</th>\n",
              "      <td>PERDIDA DE LA VIDA POR QUEMADURA</td>\n",
              "      <td>23</td>\n",
              "    </tr>\n",
              "    <tr>\n",
              "      <th>6</th>\n",
              "      <td>DDH RELACIONADAS</td>\n",
              "      <td>42</td>\n",
              "    </tr>\n",
              "    <tr>\n",
              "      <th>4</th>\n",
              "      <td>DDH OTRAS MATERIAS</td>\n",
              "      <td>63</td>\n",
              "    </tr>\n",
              "    <tr>\n",
              "      <th>20</th>\n",
              "      <td>PERDIDA DE LA VIDA POR PARO CARDIACO</td>\n",
              "      <td>66</td>\n",
              "    </tr>\n",
              "    <tr>\n",
              "      <th>14</th>\n",
              "      <td>PERDIDA DE LA VIDA POR CAIDA</td>\n",
              "      <td>68</td>\n",
              "    </tr>\n",
              "    <tr>\n",
              "      <th>17</th>\n",
              "      <td>PERDIDA DE LA VIDA POR ENFERMEDAD</td>\n",
              "      <td>100</td>\n",
              "    </tr>\n",
              "    <tr>\n",
              "      <th>23</th>\n",
              "      <td>PERDIDA DE LA VIDA POR SUICIDIO</td>\n",
              "      <td>201</td>\n",
              "    </tr>\n",
              "    <tr>\n",
              "      <th>19</th>\n",
              "      <td>PERDIDA DE LA VIDA POR OTRAS CAUSAS</td>\n",
              "      <td>637</td>\n",
              "    </tr>\n",
              "    <tr>\n",
              "      <th>8</th>\n",
              "      <td>DENUNCIA DE HECHOS</td>\n",
              "      <td>3708</td>\n",
              "    </tr>\n",
              "  </tbody>\n",
              "</table>\n",
              "</div>"
            ],
            "text/plain": [
              "                                               crimen  Total\n",
              "9              DENUNCIA DE HECHOS POR ROBO DE CELULAR      1\n",
              "16                    PERDIDA DE LA VIDA POR DERRUMBE      2\n",
              "10  PERDIDA DE LA VIDA ASFIXIA POR ALIMENTOS/ LIQU...      3\n",
              "13                     PERDIDA DE LA VIDA POR ASFIXIA      4\n",
              "2                                             DDH FDS      6\n",
              "11           PERDIDA DE LA VIDA POR ACCIDENTE LABORAL      9\n",
              "12                 PERDIDA DE LA VIDA POR AHOGAMIENTO     10\n",
              "21               PERDIDA DE LA VIDA POR PRECIPITACION     10\n",
              "18                PERDIDA DE LA VIDA POR INTOXICACION     11\n",
              "24        PERDIDA DE LA VIDA POR SUICIDIO EN EL METRO     12\n",
              "15       PERDIDA DE LA VIDA POR CONGESTION ALCOHOLICA     13\n",
              "0                                        DDH ANONIMAS     13\n",
              "5                                           DDH REDES     16\n",
              "7                                       DDH SIN DATOS     19\n",
              "3                                            DDH FRVT     19\n",
              "1                                          DDH CERESO     22\n",
              "22                   PERDIDA DE LA VIDA POR QUEMADURA     23\n",
              "6                                    DDH RELACIONADAS     42\n",
              "4                                  DDH OTRAS MATERIAS     63\n",
              "20               PERDIDA DE LA VIDA POR PARO CARDIACO     66\n",
              "14                       PERDIDA DE LA VIDA POR CAIDA     68\n",
              "17                  PERDIDA DE LA VIDA POR ENFERMEDAD    100\n",
              "23                    PERDIDA DE LA VIDA POR SUICIDIO    201\n",
              "19                PERDIDA DE LA VIDA POR OTRAS CAUSAS    637\n",
              "8                                  DENUNCIA DE HECHOS   3708"
            ]
          },
          "metadata": {
            "tags": []
          },
          "execution_count": 25
        }
      ]
    },
    {
      "cell_type": "markdown",
      "metadata": {
        "id": "PgmXF6ndT1N5",
        "colab_type": "text"
      },
      "source": [
        "# Robo de vehículo con y sin violencia"
      ]
    },
    {
      "cell_type": "code",
      "metadata": {
        "id": "1A_caTSbT1N5",
        "colab_type": "code",
        "colab": {
          "base_uri": "https://localhost:8080/",
          "height": 402
        },
        "outputId": "285fefe9-2b98-4e2b-830f-9f274141ce44"
      },
      "source": [
        "tabla_frecuencias_categoria('ROBO DE VEHÍCULO CON Y SIN VIOLENCIA', True).set_index(['crimen'])"
      ],
      "execution_count": null,
      "outputs": [
        {
          "output_type": "execute_result",
          "data": {
            "text/html": [
              "<div>\n",
              "<style scoped>\n",
              "    .dataframe tbody tr th:only-of-type {\n",
              "        vertical-align: middle;\n",
              "    }\n",
              "\n",
              "    .dataframe tbody tr th {\n",
              "        vertical-align: top;\n",
              "    }\n",
              "\n",
              "    .dataframe thead th {\n",
              "        text-align: right;\n",
              "    }\n",
              "</style>\n",
              "<table border=\"1\" class=\"dataframe\">\n",
              "  <thead>\n",
              "    <tr style=\"text-align: right;\">\n",
              "      <th></th>\n",
              "      <th>Total</th>\n",
              "    </tr>\n",
              "    <tr>\n",
              "      <th>crimen</th>\n",
              "      <th></th>\n",
              "    </tr>\n",
              "  </thead>\n",
              "  <tbody>\n",
              "    <tr>\n",
              "      <th>ROBO DE MAQUINARIA CON VIOLENCIA</th>\n",
              "      <td>3</td>\n",
              "    </tr>\n",
              "    <tr>\n",
              "      <th>ROBO DE VEHICULO DE SERVICIO OFICIAL CON VIOLENCIA</th>\n",
              "      <td>5</td>\n",
              "    </tr>\n",
              "    <tr>\n",
              "      <th>ROBO DE VEHICULO DE SERVICIO OFICIAL SIN VIOLENCIA</th>\n",
              "      <td>23</td>\n",
              "    </tr>\n",
              "    <tr>\n",
              "      <th>ROBO DE VEHICULO DE SERVICIO DE TRANSPORTE CON VIOLENCIA</th>\n",
              "      <td>26</td>\n",
              "    </tr>\n",
              "    <tr>\n",
              "      <th>ROBO DE VEHICULO DE SERVICIO DE TRANSPORTE SIN VIOLENCIA</th>\n",
              "      <td>35</td>\n",
              "    </tr>\n",
              "    <tr>\n",
              "      <th>ROBO DE VEHICULO DE SERVICIO PÚBLICO SIN VIOLENCIA</th>\n",
              "      <td>380</td>\n",
              "    </tr>\n",
              "    <tr>\n",
              "      <th>ROBO DE MOTOCICLETA CON VIOLENCIA</th>\n",
              "      <td>474</td>\n",
              "    </tr>\n",
              "    <tr>\n",
              "      <th>ROBO DE MOTOCICLETA SIN VIOLENCIA</th>\n",
              "      <td>533</td>\n",
              "    </tr>\n",
              "    <tr>\n",
              "      <th>ROBO DE VEHICULO DE SERVICIO PÚBLICO CON VIOLENCIA</th>\n",
              "      <td>774</td>\n",
              "    </tr>\n",
              "    <tr>\n",
              "      <th>ROBO DE VEHICULO DE SERVICIO PARTICULAR CON VIOLENCIA</th>\n",
              "      <td>1985</td>\n",
              "    </tr>\n",
              "    <tr>\n",
              "      <th>ROBO DE VEHICULO DE SERVICIO PARTICULAR SIN VIOLENCIA</th>\n",
              "      <td>3516</td>\n",
              "    </tr>\n",
              "  </tbody>\n",
              "</table>\n",
              "</div>"
            ],
            "text/plain": [
              "                                                    Total\n",
              "crimen                                                   \n",
              "ROBO DE MAQUINARIA CON VIOLENCIA                        3\n",
              "ROBO DE VEHICULO DE SERVICIO OFICIAL CON VIOLENCIA      5\n",
              "ROBO DE VEHICULO DE SERVICIO OFICIAL SIN VIOLENCIA     23\n",
              "ROBO DE VEHICULO DE SERVICIO DE TRANSPORTE CON ...     26\n",
              "ROBO DE VEHICULO DE SERVICIO DE TRANSPORTE SIN ...     35\n",
              "ROBO DE VEHICULO DE SERVICIO PÚBLICO SIN VIOLENCIA    380\n",
              "ROBO DE MOTOCICLETA CON VIOLENCIA                     474\n",
              "ROBO DE MOTOCICLETA SIN VIOLENCIA                     533\n",
              "ROBO DE VEHICULO DE SERVICIO PÚBLICO CON VIOLENCIA    774\n",
              "ROBO DE VEHICULO DE SERVICIO PARTICULAR CON VIO...   1985\n",
              "ROBO DE VEHICULO DE SERVICIO PARTICULAR SIN VIO...   3516"
            ]
          },
          "metadata": {
            "tags": []
          },
          "execution_count": 26
        }
      ]
    },
    {
      "cell_type": "markdown",
      "metadata": {
        "id": "0eOo1IUXT1N9",
        "colab_type": "text"
      },
      "source": [
        "# Delito de bajo impacto"
      ]
    },
    {
      "cell_type": "code",
      "metadata": {
        "id": "JZcyrbDmT1N9",
        "colab_type": "code",
        "colab": {
          "base_uri": "https://localhost:8080/",
          "height": 639
        },
        "outputId": "3c75a2c1-1361-410b-a270-514e9c0b2e19"
      },
      "source": [
        "tabla_frecuencias_categoria('DELITO DE BAJO IMPACTO',True)[40:60]"
      ],
      "execution_count": null,
      "outputs": [
        {
          "output_type": "execute_result",
          "data": {
            "text/html": [
              "<div>\n",
              "<style scoped>\n",
              "    .dataframe tbody tr th:only-of-type {\n",
              "        vertical-align: middle;\n",
              "    }\n",
              "\n",
              "    .dataframe tbody tr th {\n",
              "        vertical-align: top;\n",
              "    }\n",
              "\n",
              "    .dataframe thead th {\n",
              "        text-align: right;\n",
              "    }\n",
              "</style>\n",
              "<table border=\"1\" class=\"dataframe\">\n",
              "  <thead>\n",
              "    <tr style=\"text-align: right;\">\n",
              "      <th></th>\n",
              "      <th>crimen</th>\n",
              "      <th>Total</th>\n",
              "    </tr>\n",
              "  </thead>\n",
              "  <tbody>\n",
              "    <tr>\n",
              "      <th>59</th>\n",
              "      <td>FABRICACION, COMERCIALIZACION Y USO INDEBIDO D...</td>\n",
              "      <td>4</td>\n",
              "    </tr>\n",
              "    <tr>\n",
              "      <th>154</th>\n",
              "      <td>ROBO A TRANSEUNTE EN HOTEL CON VIOLENCIA</td>\n",
              "      <td>4</td>\n",
              "    </tr>\n",
              "    <tr>\n",
              "      <th>70</th>\n",
              "      <td>HOMICIDIO CULPOSO FUERA DEL D.F (ATROPELLADO)</td>\n",
              "      <td>5</td>\n",
              "    </tr>\n",
              "    <tr>\n",
              "      <th>71</th>\n",
              "      <td>HOMICIDIO CULPOSO FUERA DEL D.F (COLISION)</td>\n",
              "      <td>5</td>\n",
              "    </tr>\n",
              "    <tr>\n",
              "      <th>69</th>\n",
              "      <td>HOMICIDIO CULPOSO</td>\n",
              "      <td>5</td>\n",
              "    </tr>\n",
              "    <tr>\n",
              "      <th>198</th>\n",
              "      <td>VARIACION DE NOMBRE O DOMICILIO</td>\n",
              "      <td>5</td>\n",
              "    </tr>\n",
              "    <tr>\n",
              "      <th>7</th>\n",
              "      <td>ACOSO SEXUAL AGRAVADO EN CONTRA DE MENORES</td>\n",
              "      <td>5</td>\n",
              "    </tr>\n",
              "    <tr>\n",
              "      <th>158</th>\n",
              "      <td>ROBO A TRANSEUNTE EN TERMINAL DE PASAJEROS CON...</td>\n",
              "      <td>5</td>\n",
              "    </tr>\n",
              "    <tr>\n",
              "      <th>141</th>\n",
              "      <td>ROBO A PASAJERO EN AUTOBUS FORANEO SIN VIOLENCIA</td>\n",
              "      <td>5</td>\n",
              "    </tr>\n",
              "    <tr>\n",
              "      <th>148</th>\n",
              "      <td>ROBO A PASAJERO EN TROLEBUS SIN VIOLENCIA</td>\n",
              "      <td>5</td>\n",
              "    </tr>\n",
              "    <tr>\n",
              "      <th>132</th>\n",
              "      <td>ROBO A NEGOCIO Y VEHICULO SIN VIOLENCIA</td>\n",
              "      <td>6</td>\n",
              "    </tr>\n",
              "    <tr>\n",
              "      <th>24</th>\n",
              "      <td>CORRUPCION DE MENORES E INCAPACES</td>\n",
              "      <td>6</td>\n",
              "    </tr>\n",
              "    <tr>\n",
              "      <th>104</th>\n",
              "      <td>OTROS CULPOSOS</td>\n",
              "      <td>7</td>\n",
              "    </tr>\n",
              "    <tr>\n",
              "      <th>149</th>\n",
              "      <td>ROBO A SUCURSAL BANCARIA (SUPERMERCADO) SIN VI...</td>\n",
              "      <td>7</td>\n",
              "    </tr>\n",
              "    <tr>\n",
              "      <th>14</th>\n",
              "      <td>BIGAMIA</td>\n",
              "      <td>7</td>\n",
              "    </tr>\n",
              "    <tr>\n",
              "      <th>107</th>\n",
              "      <td>PELIGRO DE CONTAGIO</td>\n",
              "      <td>7</td>\n",
              "    </tr>\n",
              "    <tr>\n",
              "      <th>188</th>\n",
              "      <td>TRAFICO DE INFLUENCIA</td>\n",
              "      <td>7</td>\n",
              "    </tr>\n",
              "    <tr>\n",
              "      <th>53</th>\n",
              "      <td>ESTUPRO</td>\n",
              "      <td>8</td>\n",
              "    </tr>\n",
              "    <tr>\n",
              "      <th>199</th>\n",
              "      <td>VIOLACION DE CORRESPONDENCIA</td>\n",
              "      <td>9</td>\n",
              "    </tr>\n",
              "    <tr>\n",
              "      <th>103</th>\n",
              "      <td>OPERACIONES CON RECURSOS DE PROCEDENCIA ILICITA</td>\n",
              "      <td>9</td>\n",
              "    </tr>\n",
              "  </tbody>\n",
              "</table>\n",
              "</div>"
            ],
            "text/plain": [
              "                                                crimen  Total\n",
              "59   FABRICACION, COMERCIALIZACION Y USO INDEBIDO D...      4\n",
              "154           ROBO A TRANSEUNTE EN HOTEL CON VIOLENCIA      4\n",
              "70       HOMICIDIO CULPOSO FUERA DEL D.F (ATROPELLADO)      5\n",
              "71          HOMICIDIO CULPOSO FUERA DEL D.F (COLISION)      5\n",
              "69                                   HOMICIDIO CULPOSO      5\n",
              "198                    VARIACION DE NOMBRE O DOMICILIO      5\n",
              "7           ACOSO SEXUAL AGRAVADO EN CONTRA DE MENORES      5\n",
              "158  ROBO A TRANSEUNTE EN TERMINAL DE PASAJEROS CON...      5\n",
              "141   ROBO A PASAJERO EN AUTOBUS FORANEO SIN VIOLENCIA      5\n",
              "148          ROBO A PASAJERO EN TROLEBUS SIN VIOLENCIA      5\n",
              "132            ROBO A NEGOCIO Y VEHICULO SIN VIOLENCIA      6\n",
              "24                   CORRUPCION DE MENORES E INCAPACES      6\n",
              "104                                     OTROS CULPOSOS      7\n",
              "149  ROBO A SUCURSAL BANCARIA (SUPERMERCADO) SIN VI...      7\n",
              "14                                             BIGAMIA      7\n",
              "107                                PELIGRO DE CONTAGIO      7\n",
              "188                              TRAFICO DE INFLUENCIA      7\n",
              "53                                             ESTUPRO      8\n",
              "199                       VIOLACION DE CORRESPONDENCIA      9\n",
              "103    OPERACIONES CON RECURSOS DE PROCEDENCIA ILICITA      9"
            ]
          },
          "metadata": {
            "tags": []
          },
          "execution_count": 27
        }
      ]
    },
    {
      "cell_type": "code",
      "metadata": {
        "tags": [],
        "id": "TWdrrOMXT1OF",
        "colab_type": "code",
        "colab": {}
      },
      "source": [
        "delitos_a_borrar_bajo_impacto = ['ROBO DURANTE TRASLADO DE VALORES (NOMINA) SIN VIOLENCIA',\n",
        "    'EXPOSICION DE MENORES',\n",
        "    'PRIVACION DE LA LIBERTAD PERSONAL (REALIZAR ACTO SEXUAL)',\n",
        "    'LESIONES INTENCIONALES Y ROBO DE VEHICULO',\n",
        "    'GESTIÓN AMBIENTAL',\n",
        "    'DESACATO',\n",
        "    'DELITOS CONTRA LA SALUD',\n",
        "    'DAÑO EN PROPIEDAD AJENA INTENCIONAL A VIAS DE COMUNICACION',\n",
        "    'REGULACIÓN URBANA',\n",
        "    'INHUMACIONES Y/O EXHUMACIONES',\n",
        "    'INTIMIDACION (EVITAR DENUNCIA, APORTE INFORMACIÓN O PRUEBAS)',\n",
        "    'LENOCINIO',\n",
        "    'COACCION DE SERVIDORES PUBLICOS',\n",
        "    'DAÑO EN PROPIEDAD AJENA CULPOSA POR TRÁNSITO VEHICULAR A VIAS DE COMUNICACION',\n",
        "    'UTILIZACION INDEBIDA DE LA VIA PUBLICA',\n",
        "    'CAMBIO DE USO DE SUELO',\n",
        "    'ATAQUES A LA PAZ PUBLICA',\n",
        "    'LEY FEDERAL DE ARMAS DE FUEGO Y EXPLOSIVOS',\n",
        "    'LESIONES DOLOSAS POR QUEMADURAS',\n",
        "    'TRAFICO DE INFANTES',\n",
        "    'USO INDEBIDO DE CONDECORACIONES UNIFORMES E INSIGNIAS',\n",
        "    'SABOTAJE',\n",
        "    'FALSIFICACION DE SELLOS, MARCAS, LLAVES Y OTROS',\n",
        "    'OTROS DELITOS',\n",
        "    'EXPLOTACIÓN DE MENOR O DISCAPACITADO',\n",
        "    'EXPLOTACIÓN LABORAL DE MENORES, PERSONAS CON DISCAPACIDAD FÍSICA O MENTAL Y ADULTOS MAYORES',\n",
        "    'INHUMACION, EXHUMACION Y RESPETO A LOS CADAVERES O RESTOS HUMANOS',\n",
        "    'EVASION DE PRESOS',\n",
        "    'CONTRA EL ESTADO CIVIL',\n",
        "    'DIFAMACION',\n",
        "    'FALSIFICACIÓN DE SELLOS, MARCAS, LLAVES, CUÑOS, TROQUELES, CONTRASEÑAS Y OTROS',\n",
        "    'ROBO EN INTERIOR DE EMPRESA (NOMINA) SIN VIOLENCIA',\n",
        "    'FABRICACION, COMERCIALIZACION Y USO INDEBIDO DE INSIGNIAS Y UNIFORMES',\n",
        "    'HOMICIDIO CULPOSO FUERA DEL D.F (ATROPELLADO)',# \n",
        "    'HOMICIDIO CULPOSO FUERA DEL D.F (COLISION)',\n",
        "    'VARIACION DE NOMBRE O DOMICILIO',\n",
        "    'ACOSO SEXUAL AGRAVADO EN CONTRA DE MENORES',\n",
        "    'CORRUPCION DE MENORES E INCAPACES',\n",
        "    'OTROS CULPOSOS',\n",
        "    'ROBO A SUCURSAL BANCARIA (SUPERMERCADO) SIN VIOLENCIA',\n",
        "    'BIGAMIA',\n",
        "    'PELIGRO DE CONTAGIO',\n",
        "    'TRAFICO DE INFLUENCIA',\n",
        "    'ESTUPRO',\n",
        "    'VIOLACION DE CORRESPONDENCIA',\n",
        "    'OPERACIONES CON RECURSOS DE PROCEDENCIA ILICITA',\n",
        "    'TENTATIVA DE FRAUDE',\n",
        "    'USURPACION DE FUNCIONES PUBLICAS',\n",
        "    'PORNOGRAFÍA',\n",
        "    'REVELACION DE SECRETOS',\n",
        "    'PECULADO',\n",
        "    'HOMICIDIO CULPOSO POR TRÁNSITO VEHICULAR',\n",
        "    'HOMICIDIO CULPOSO POR TRÁNSITO VEHICULAR (CAIDA)',\n",
        "    'CONTRA LA INTIMIDAD SEXUAL',\n",
        "    'PORNOGRAFIA INFANTIL',\n",
        "    'DESOBEDENCIA DE PARTICULARES',\n",
        "    'TENTATIVA DE SUICIDIO',\n",
        "    'USURPACION DE FUNCIONES',\n",
        "    'DELITOS DE ABOGADOS, PATRONOS, LITIGANTES Y ASESORES JURIDICOS',\n",
        "    'ROBO DE ALHAJAS',\n",
        "    'FALSEDAD ANTE AUTORIDADES',\n",
        "    'ROBO DE FLUIDOS',\n",
        "    'EJERCICIO ILEGAL Y ABANDONO DEL SERVICIO PUBLICO',\n",
        "    'USURPACION DE PROFESION',\n",
        "    'COBRANZA ILEGITIMA',\n",
        "    'ATAQUE A LAS VIAS DE COMUNICACION (DAÑO A VIAS O MEDIOS DE TRANSPORTE)',\n",
        "    'DELITOS DE ABOGADOS PATRONOS Y LITIGANTES',\n",
        "    'ROBO A NEGOCIO SIN VIOLENCIA POR FARDEROS (TIENDAS DE CONVENIENCIA)',\n",
        "    'LESIONES CULPOSAS POR QUEMADURAS',\n",
        "    'PRIV. ILEGAL DE LA LIB. Y ROBO DE VEHICULO',\n",
        "    'LESIONES CULPOSAS ACCIDENTE LABORAL',\n",
        "    'DISPAROS DE ARMA DE FUEGO',\n",
        "    'RESPONSABILIDAD PROFESIONAL Y TECNICA',\n",
        "    'ATAQUE A LAS VIAS GENERALES DE COMUNICACIÓN',\n",
        "    'DAÑO EN PROPIEDAD AJENA INTENCIONAL A NEGOCIO',\n",
        "    'FALSEDAD DE DECLARACIONES',\n",
        "    'USO INDEBIDO DE ATRIBUCIONES Y FACULTADES',\n",
        "    'ROBO DE ANIMALES',\n",
        "    'ROBO DE ARMA',\n",
        "    'LESIONES CULPOSAS POR CAIDA DE VEHÍCULO EN MOVIMIENTO',\n",
        "    'CORRUPCIÓN DE PERSONAS MENORES DE EDAD O PERSONAS QUE NO TENGAN CAPACIDAD PARA COMPRENDER EL SIGNIFICADO DEL HECHO O DE PERSONAS QUE NO TENGAN CAPACIDAD DE RESISTIR LA CONDUCTA',\n",
        "    'ROBO A TRANSEUNTE CONDUCTOR DE TAXI PUBLICO Y PRIVADO CON VIOLENCIA',\n",
        "    'DESOBEDIENCIA Y RESISTENCIA DE PARTICULARES',\n",
        "    'CONTRA EL CUMPLIMIENTO DE LA OBLIGACION ALIMENTARIA',\n",
        "    'RESISTENCIA DE PARTICULARES (SE OPONGA O RESISTA)',\n",
        "    'ROBO A OFICINA PÚBLICA SIN VIOLENCIA',\n",
        "    'ROBO A PASAJERO / CONDUCTOR DE TAXI CON VIOLENCIA',\n",
        "    'CORRUPCION DE MENORES',\n",
        "    'CONTRA FUNCIONARIOS PUBLICOS',\n",
        "    'RESPONSABILIDAD PROFESIONAL',\n",
        "    'EJERCICIO INDEBIDO DEL SERVIDOR PUBLICO',\n",
        "    'PERSONAS EXTRAVIADAS Y AUSENTES',\n",
        "    'ABORTO',\n",
        "    'SECUESTRO EXPRESS (PARA COMETER ROBO O EXTORSIÓN)',\n",
        "    'PORTACIÓN, FABRICACIÓN E IMPORTACIÓN DE OBJETOS APTOS PARA AGREDIR',\n",
        "    'MALTRATO ANIMAL',\n",
        "    'DELITOS ELECTORALES',\n",
        "    'DAÑO EN PROPIEDAD AJENA CULPOSA POR TRÁNSITO VEHICULAR A BIENES INMUEBLES',\n",
        "    'COHECHO',\n",
        "    'HOMICIDIO CULPOSO POR TRÁNSITO VEHICULAR (COLISION)',\n",
        "    'OMISION DE AUXILIO O DE CUIDADO',\n",
        "    'PORTACION ARMA/PROHIB.',\n",
        "    'PORTACION DE ARMA DE FUEGO',\n",
        "    'POSESION DE VEHICULO ROBADO',\n",
        "    'ALLANAMIENTO DE MORADA, DESPACHO, OFICINA O ESTABLECIMIENTO MERCANTIL',\n",
        "    'DISCRIMINACION',\n",
        "    'DAÑO EN PROPIEDAD AJENA INTENCIONAL A BIENES INMUEBLES',\n",
        "    'RETENCIÓN O SUSTRACCIÓN DE MENORES INCAPACES',\n",
        "    'HOMICIDIO CULPOSO POR TRÁNSITO VEHICULAR (ATROPELLADO)',\n",
        "    'FALSIFICACION O ALTERACION Y USO INDEBIDO DE DOCUMENTOS',\n",
        "    'USO DE DOCUMENTO FALSO',\n",
        "    'LESIONES CULPOSAS POR CAIDA',\n",
        "    'INSOLVENCIA ALIMENTARIA',\n",
        "    'DAÑO EN PROPIEDAD AJENA INTENCIONAL A CASA HABITACION',\n",
        "    'ROBO DE PLACA DE AUTOMOVIL',\n",
        "    'TORTURA',\n",
        "    'QUEBRANTAMIENTO DE SELLOS',\n",
        "    'DELITOS AMBIENTALES',\n",
        "    'ABANDONO DE PERSONA',\n",
        "    'ROBO A NEGOCIO SIN VIOLENCIA POR FARDEROS (TIENDAS DE AUTOSERVICIO)',\n",
        "    'FALSIFICACION DE DOCUMENTOS',\n",
        "    'ACOSO SEXUAL',\n",
        "    'ALLANAMIENTO DE MORADA',\n",
        "    'ENCUBRIMIENTO POR FAVORECIMIENTO Y RECEPTACIÓN',\n",
        "    'ABUSO DE AUTORIDAD Y USO ILEGAL DE LA FUERZA PUBLICA',\n",
        "    'NEGACION DEL SERVICIO PUBLICO',\n",
        "    'LA ADMINISTRACION DE JUSTICIA',\n",
        "    'EXTORSION',\n",
        "    'PRIVACION DE LA LIBERTAD PERSONAL',\n",
        "    'ROBO DE OBJETOS A ESCUELA',\n",
        "    'ROBO DE VEHICULO DE PEDALES',\n",
        "    'LESIONES INTENCIONALES',\n",
        "    'SUSTRACCION DE MENORES',\n",
        "    'ROBO DE DOCUMENTOS',\n",
        "    'LESIONES CULPOSAS',\n",
        "    'LESIONES CULPOSAS POR TRANSITO VEHICULAR',\n",
        "    'DAÑO EN PROPIEDAD AJENA INTENCIONAL A AUTOMOVIL',\n",
        "    'ABUSO DE AUTORIDAD',\n",
        "    'PRODUCCIÓN, IMPRESIÓN, ENAJENACIÓN, DISTRIBUCIÓN, ALTERACIÓN O FALSIFICACIÓN DE TÍTULOS AL PORTADOR, DOCUMENTOS DE CRÉDITO PÚBLICOS O VALES DE CANJE',\n",
        "    'ENCUBRIMIENTO',\n",
        "    'TENTATIVA DE EXTORSION',\n",
        "    'DAÑO EN PROPIEDAD AJENA CULPOSA',\n",
        "    'LESIONES INTENCIONALES POR ARMA BLANCA',\n",
        "    'DAÑO EN PROPIEDAD AJENA INTENCIONAL',\n",
        "    'USURPACIÓN DE IDENTIDAD',\n",
        "    'FALSIFICACION DE TITULOS AL PORTADOR Y DOCUMENTOS DE CREDITO PUBLICO',\n",
        "    'DAÑO EN PROPIEDAD AJENA CULPOSA POR TRÁNSITO VEHICULAR A AUTOMOVIL',\n",
        "    'ABUSO SEXUAL',\n",
        "    'LESIONES INTENCIONALES POR GOLPES',\n",
        "    'LESIONES CULPOSAS POR TRANSITO VEHICULAR EN COLISION',\n",
        "    'ABUSO DE CONFIANZA',\n",
        "    'DESPOJO',\n",
        "    'NARCOMENUDEO POSESION SIMPLE',\n",
        "    'FRAUDE',\n",
        "    'AMENAZAS',\n",
        "    'VIOLENCIA FAMILIAR',\n",
        "    'ROBO A TRANSEUNTE Y VEHICULO CON VIOLENCIA',\n",
        "    'ROBO S/V DENTRO DE NEGOCIOS, AUTOSERVICIOS, CONVENIENCIA',\n",
        "    'ROBO DE DINERO',\n",
        "    ]"
      ],
      "execution_count": null,
      "outputs": []
    },
    {
      "cell_type": "code",
      "metadata": {
        "id": "CUqYfTMPT1ON",
        "colab_type": "code",
        "colab": {}
      },
      "source": [
        ""
      ],
      "execution_count": null,
      "outputs": []
    },
    {
      "cell_type": "markdown",
      "metadata": {
        "id": "z1kry67jkAiL",
        "colab_type": "text"
      },
      "source": [
        "# Rafael"
      ]
    },
    {
      "cell_type": "code",
      "metadata": {
        "id": "Z8VPCWMLkFWJ",
        "colab_type": "code",
        "colab": {}
      },
      "source": [
        "delitos_a_borrar =[\n",
        "  'ROBO A TRANSPORTISTA Y VEHICULO PESADO SIN VIOLENCIA',\n",
        "  'ROBO A TRANSPORTISTA Y VEHICULO PESADO CON VIOLENCIA',\n",
        "  'VIOLACION EQUIPARADA POR CONOCIDO',\n",
        "  'VIOLACION EQUIPARADA',\n",
        "  'VIOLACION TUMULTUARIA',\n",
        "  'ROBO A SUCURSAL BANCARIA (SUPERMERCADO) CON VIOLENCIA',\n",
        "  'ROBO A SUCURSAL BANCARIA CON VIOLENCIA',\n",
        "  'ROBO DURANTE TRASLADO DE VALORES (NOMINA) CON VIOLENCIA',\n",
        "  'ROBO A SUCURSAL BANCARIA (ASALTO BANCARIO) CON VIOLENCIA',\n",
        "  'ROBO A NEGOCIO CON VIOLENCIA POR FARDEROS (TIENDAS DE AUTOSERVICIO)',\n",
        "  'ROBO A NEGOCIO Y VEHICULO CON VIOLENCIA',\n",
        "  'ROBO A OFICINA PÚBLICA CON VIOLENCIA',\n",
        "  'ROBO A NEGOCIO CON VIOLENCIA POR FARDEROS (TIENDAS DE CONVENIENCIA)',\n",
        "  'ROBO A TRANSEUNTE EN VIA PUBLICA (NOMINA) CON VIOLENCIA',\n",
        "  'ROBO DE MAQUINARIA CON VIOLENCIA',\n",
        "  'ROBO DE VEHICULO DE SERVICIO OFICIAL CON VIOLENCIA',\n",
        "  'ROBO DE VEHICULO DE SERVICIO OFICIAL SIN VIOLENCIA',\n",
        "  'ROBO DE VEHICULO DE SERVICIO DE TRANSPORTE CON VIOLENCIA',\n",
        "  'ROBO DE VEHICULO DE SERVICIO DE TRANSPORTE SIN VIOLENCIA',\n",
        "]\n",
        "# Eliminar 'ROBO A TRANSPORTISTA CON Y SIN VIOLENCIA'\n",
        "# Eliminar 'HECHO NO DELICTIVO'"
      ],
      "execution_count": null,
      "outputs": []
    },
    {
      "cell_type": "code",
      "metadata": {
        "id": "ru0tFJxwkE_N",
        "colab_type": "code",
        "colab": {}
      },
      "source": [
        ""
      ],
      "execution_count": null,
      "outputs": []
    },
    {
      "cell_type": "code",
      "metadata": {
        "id": "ZoyxnGj8kC2T",
        "colab_type": "code",
        "colab": {}
      },
      "source": [
        ""
      ],
      "execution_count": null,
      "outputs": []
    },
    {
      "cell_type": "markdown",
      "metadata": {
        "id": "QdUY-ahVOF_k",
        "colab_type": "text"
      },
      "source": [
        "# BETO"
      ]
    },
    {
      "cell_type": "code",
      "metadata": {
        "id": "M3c6JsCGOG_r",
        "colab_type": "code",
        "colab": {
          "base_uri": "https://localhost:8080/",
          "height": 36
        },
        "outputId": "adce8347-7944-4d4b-a5fd-e8cf31e3655c"
      },
      "source": [
        "## ELIMINA ESTE ARREGLO DE DELITOS - delitos_a_borrar_bajo_impacto\n",
        "## ELIMINA ESTE OTRO - delitos_a_borrar\n",
        "# Eliminar CATEGORIA - 'ROBO A TRANSPORTISTA CON Y SIN VIOLENCIA'\n",
        "# Eliminar CATEGORIA - 'HECHO NO DELICTIVO'\n",
        "\n",
        "# YA NA MAS QUEDA REGATEGORIZAR :) Y TENEMOS NUESTRO DATASET PARA EMPEZAR A TRABAJAR \n",
        "## 7u7\n",
        "crimenes.shape"
      ],
      "execution_count": null,
      "outputs": [
        {
          "output_type": "execute_result",
          "data": {
            "text/plain": [
              "(99639, 6)"
            ]
          },
          "metadata": {
            "tags": []
          },
          "execution_count": 13
        }
      ]
    },
    {
      "cell_type": "code",
      "metadata": {
        "id": "9NR-3_i8tJ6y",
        "colab_type": "code",
        "colab": {
          "base_uri": "https://localhost:8080/",
          "height": 36
        },
        "outputId": "3523bf70-9877-43c5-a09d-b8fd2b5c26e5"
      },
      "source": [
        "crimenes = crimenes[crimenes['categoria']!='ROBO A TRANSPORTISTA CON Y SIN VIOLENCIA']\n",
        "crimenes.shape"
      ],
      "execution_count": null,
      "outputs": [
        {
          "output_type": "execute_result",
          "data": {
            "text/plain": [
              "(99555, 6)"
            ]
          },
          "metadata": {
            "tags": []
          },
          "execution_count": 14
        }
      ]
    },
    {
      "cell_type": "code",
      "metadata": {
        "id": "LYATUDoAtq_h",
        "colab_type": "code",
        "colab": {
          "base_uri": "https://localhost:8080/",
          "height": 36
        },
        "outputId": "4703d47b-b35e-443e-a1c8-e681e25c5a3e"
      },
      "source": [
        "crimenes = crimenes[crimenes['categoria']!='HECHO NO DELICTIVO']\n",
        "crimenes.shape"
      ],
      "execution_count": null,
      "outputs": [
        {
          "output_type": "execute_result",
          "data": {
            "text/plain": [
              "(94477, 6)"
            ]
          },
          "metadata": {
            "tags": []
          },
          "execution_count": 15
        }
      ]
    },
    {
      "cell_type": "code",
      "metadata": {
        "id": "3kWUBW3qORkU",
        "colab_type": "code",
        "colab": {
          "base_uri": "https://localhost:8080/",
          "height": 36
        },
        "outputId": "1988dfaa-d7d8-4473-f1a2-0d28f37ad6c5"
      },
      "source": [
        "for crimen in delitos_a_borrar_bajo_impacto:\n",
        "  crimenes = crimenes[crimenes['crimen']!=crimen]\n",
        "crimenes.shape"
      ],
      "execution_count": null,
      "outputs": [
        {
          "output_type": "execute_result",
          "data": {
            "text/plain": [
              "(45766, 6)"
            ]
          },
          "metadata": {
            "tags": []
          },
          "execution_count": 16
        }
      ]
    },
    {
      "cell_type": "code",
      "metadata": {
        "id": "oHntYhH7rBft",
        "colab_type": "code",
        "colab": {
          "base_uri": "https://localhost:8080/",
          "height": 36
        },
        "outputId": "dbceba74-ca8b-4ccb-b8af-342b35022089"
      },
      "source": [
        "for crimen in delitos_a_borrar:\n",
        "  crimenes = crimenes[crimenes['crimen']!=crimen]\n",
        "crimenes.shape"
      ],
      "execution_count": null,
      "outputs": [
        {
          "output_type": "execute_result",
          "data": {
            "text/plain": [
              "(45538, 6)"
            ]
          },
          "metadata": {
            "tags": []
          },
          "execution_count": 17
        }
      ]
    },
    {
      "cell_type": "code",
      "metadata": {
        "id": "RyBbWHonuHMt",
        "colab_type": "code",
        "colab": {
          "base_uri": "https://localhost:8080/",
          "height": 293
        },
        "outputId": "1ffe756f-695d-4f82-8dc4-4fc637236c46"
      },
      "source": [
        "crimenes.head()"
      ],
      "execution_count": null,
      "outputs": [
        {
          "output_type": "execute_result",
          "data": {
            "text/html": [
              "<div>\n",
              "<style scoped>\n",
              "    .dataframe tbody tr th:only-of-type {\n",
              "        vertical-align: middle;\n",
              "    }\n",
              "\n",
              "    .dataframe tbody tr th {\n",
              "        vertical-align: top;\n",
              "    }\n",
              "\n",
              "    .dataframe thead th {\n",
              "        text-align: right;\n",
              "    }\n",
              "</style>\n",
              "<table border=\"1\" class=\"dataframe\">\n",
              "  <thead>\n",
              "    <tr style=\"text-align: right;\">\n",
              "      <th></th>\n",
              "      <th>fecha</th>\n",
              "      <th>crimen</th>\n",
              "      <th>categoria</th>\n",
              "      <th>colonia</th>\n",
              "      <th>long</th>\n",
              "      <th>lat</th>\n",
              "    </tr>\n",
              "  </thead>\n",
              "  <tbody>\n",
              "    <tr>\n",
              "      <th>0</th>\n",
              "      <td>2016-05-18 17:45:00</td>\n",
              "      <td>ROBO A TRANSEUNTE DE CELULAR CON VIOLENCIA</td>\n",
              "      <td>DELITO DE BAJO IMPACTO</td>\n",
              "      <td>DEFENSORES DE LA REPÚBLICA</td>\n",
              "      <td>-99.141133</td>\n",
              "      <td>19.472193</td>\n",
              "    </tr>\n",
              "    <tr>\n",
              "      <th>2</th>\n",
              "      <td>2016-05-19 13:20:00</td>\n",
              "      <td>ROBO A NEGOCIO SIN VIOLENCIA</td>\n",
              "      <td>DELITO DE BAJO IMPACTO</td>\n",
              "      <td>SANTIAGO ATZACOALCO</td>\n",
              "      <td>-99.097474</td>\n",
              "      <td>19.496379</td>\n",
              "    </tr>\n",
              "    <tr>\n",
              "      <th>3</th>\n",
              "      <td>2016-05-05 17:00:00</td>\n",
              "      <td>ROBO A NEGOCIO CON VIOLENCIA</td>\n",
              "      <td>ROBO A NEGOCIO CON VIOLENCIA</td>\n",
              "      <td>25 DE JULIO</td>\n",
              "      <td>-99.083278</td>\n",
              "      <td>19.495574</td>\n",
              "    </tr>\n",
              "    <tr>\n",
              "      <th>4</th>\n",
              "      <td>2016-05-19 13:35:00</td>\n",
              "      <td>ROBO A TRANSEUNTE EN VIA PUBLICA CON VIOLENCIA</td>\n",
              "      <td>ROBO A TRANSEUNTE EN VÍA PÚBLICA CON Y SIN VIO...</td>\n",
              "      <td>LA LAGUNA TICOMÁN</td>\n",
              "      <td>-99.132372</td>\n",
              "      <td>19.514183</td>\n",
              "    </tr>\n",
              "    <tr>\n",
              "      <th>5</th>\n",
              "      <td>2016-05-18 11:00:00</td>\n",
              "      <td>ROBO A CASA HABITACION SIN VIOLENCIA</td>\n",
              "      <td>DELITO DE BAJO IMPACTO</td>\n",
              "      <td>SANTA ISABEL TOLA</td>\n",
              "      <td>-99.116308</td>\n",
              "      <td>19.494444</td>\n",
              "    </tr>\n",
              "  </tbody>\n",
              "</table>\n",
              "</div>"
            ],
            "text/plain": [
              "                 fecha  ...        lat\n",
              "0  2016-05-18 17:45:00  ...  19.472193\n",
              "2  2016-05-19 13:20:00  ...  19.496379\n",
              "3  2016-05-05 17:00:00  ...  19.495574\n",
              "4  2016-05-19 13:35:00  ...  19.514183\n",
              "5  2016-05-18 11:00:00  ...  19.494444\n",
              "\n",
              "[5 rows x 6 columns]"
            ]
          },
          "metadata": {
            "tags": []
          },
          "execution_count": 18
        }
      ]
    },
    {
      "cell_type": "code",
      "metadata": {
        "id": "gFPIJCEa0-DO",
        "colab_type": "code",
        "colab": {}
      },
      "source": [
        "recategorizacion = pd.DataFrame(np.array([\n",
        "            ['ROBO A TRANSEUNTE A BORDO DE TAXI PÚBLICO Y PRIVADO CON VIOLENCIA','ROBO EN TAXI CV'],\n",
        "            ['ROBO A PASAJERO A BORDO DE TAXI CON VIOLENCIA', 'ROBO EN TAXI CV'],\n",
        "            ['ROBO A TRANSEUNTE SALIENDO DEL CAJERO CON VIOLENCIA', 'ROBO A CUENTAHABIENTE CV'],\n",
        "            ['ROBO A TRANSEUNTE SALIENDO DEL BANCO CON VIOLENCIA', 'ROBO A CUENTAHABIENTE CV'],\n",
        "            ['ROBO A CASA HABITACION Y VEHICULO CON VIOLENCIA', 'ROBO A CASA HABITACION SV'],\n",
        "            ['ROBO A CASA HABITACION CON VIOLENCIA', 'ROBO A CASA HABITACION CV'],\n",
        "            ['ROBO A PASAJERO A BORDO DE METRO CON VIOLENCIA', 'ROBO EN METRO CV'],\n",
        "            ['ROBO A PASAJERO A BORDO DE METRO SIN VIOLENCIA', 'ROBO EN METRO SV'],\n",
        "            ['ROBO A PASAJERO A BORDO DE PESERO COLECTIVO SIN VIOLENCIA', 'ROBO EN MICROBUS SV'],\n",
        "            ['ROBO A PASAJERO A BORDO DE PESERO COLECTIVO CON VIOLENCIA', 'ROBO EN MICROBUS CV'],\n",
        "            ['FEMINICIDIO', 'FEMINICIDIO'],\n",
        "            ['FEMINICIDIO POR GOLPES', 'FEMINICIDIO'],\n",
        "            ['FEMINICIDIO POR ARMA BLANCA', 'FEMINICIDIO'],\n",
        "            ['ROBO A REPARTIDOR Y VEHICULO SIN VIOLENCIA', 'ROBO A REPARTIDOR SV'],\n",
        "            ['ROBO A REPARTIDOR Y VEHICULO CON VIOLENCIA', 'ROBO A REPARTIDOR CV'],\n",
        "            ['ROBO A REPARTIDOR SIN VIOLENCIA', 'ROBO A REPARTIDOR SV'],\n",
        "            ['ROBO A REPARTIDOR CON VIOLENCIA', 'ROBO A REPARTIDOR CV'],\n",
        "            ['ROBO A TRANSEUNTE EN VIA PUBLICA SIN VIOLENCIA', 'ROBO A TRANSEUNTE SV'],\n",
        "            ['ROBO A TRANSEUNTE EN VIA PUBLICA CON VIOLENCIA', 'ROBO A TRANSEUNTE CV'],\n",
        "            ['ROBO DE VEHICULO DE SERVICIO PÚBLICO SIN VIOLENCIA', 'ROBO DE VEHICULO SV'],\n",
        "            ['ROBO DE MOTOCICLETA CON VIOLENCIA', 'ROBO DE VEHICULO CV'],\n",
        "            ['ROBO DE MOTOCICLETA SIN VIOLENCIA', 'ROBO DE VEHICULO SV'],\n",
        "            ['ROBO DE VEHICULO DE SERVICIO PÚBLICO CON VIOLENCIA', 'ROBO DE VEHICULO CV'],\n",
        "            ['ROBO DE VEHICULO DE SERVICIO PARTICULAR CON VIOLENCIA', 'ROBO DE VEHICULO CV'],\n",
        "            ['ROBO DE VEHICULO DE SERVICIO PARTICULAR SIN VIOLENCIA', 'ROBO DE VEHICULO SV'],\n",
        "            ['TENTATIVA DE FEMINICIDIO', 'FEMINICIDIO'],\n",
        "            ['HOMICIDIO CULPOSO POR INSTRUMENTO PUNZO CORTANTE', 'HOMICIDIO DOLOSO'],\n",
        "            ['ROBO A PASAJERO EN ECOBUS CON VIOLENCIA', 'ROBO EN MICROBUS CV'],\n",
        "            ['ROBO A PASAJERO EN RTP SIN VIOLENCIA', 'ROBO EN MICROBUS SV'],\n",
        "            ['ROBO A LOCALES SEMIFIJOS (PUESTOS DE ALIMENTOS,BEBIDAS, ENSERES, PERIODICOS,LOTERIA, OTROS)', 'ROBO A NEGOCIO CV'],\n",
        "            ['DESAPARICION FORZADA DE PERSONAS', 'SECUESTRO'],\n",
        "            ['ROBO A TRANSEUNTE EN HOTEL CON VIOLENCIA', 'ROBO A TRANSEUNTE CV'],\n",
        "            ['HOMICIDIO CULPOSO', 'HOMICIDIO DOLOSO'],\n",
        "            ['ROBO A TRANSEUNTE EN TERMINAL DE PASAJEROS CON VIOLENCIA', 'ROBO A TRANSEUNTE CV'],\n",
        "            ['ROBO A PASAJERO EN AUTOBUS FORANEO SIN VIOLENCIA', 'ROBO EN MICROBUS SV'],\n",
        "            ['ROBO A PASAJERO EN TROLEBUS SIN VIOLENCIA', 'ROBO EN MICROBUS SV'],\n",
        "            ['ROBO A NEGOCIO Y VEHICULO SIN VIOLENCIA', 'ROBO A NEGOCIO SV'],\n",
        "            ['TENTATIVA DE VIOLACION', 'VIOLACIÓN'],\n",
        "            ['ROBO A PASAJERO EN RTP CON VIOLENCIA', 'ROBO EN MICROBUS CV'],\n",
        "            ['ROBO A PASAJERO EN AUTOBÚS FORÁNEO CON VIOLENCIA', 'ROBO EN MICROBUS CV'],\n",
        "            ['HOMICIDIO CULPOSO POR ARMA DE FUEGO', 'HOMICIDIO DOLOSO'],\n",
        "            ['ROBO A PASAJERO EN TROLEBUS CON VIOLENCIA', 'ROBO EN MICROBUS CV'],\n",
        "            ['ROBO A TRANSEUNTE A BORDO DE TAXI PUBLICO Y PRIVADO SIN VIOLENCIA', 'ROBO EN TAXI SV'],\n",
        "            ['ROBO A PASAJERO A BORDO DE TAXI SIN VIOLENCIA', 'ROBO EN TAXI SV'],\n",
        "            ['ROBO A PASAJERO A BORDO DE METROBUS CON VIOLENCIA', 'ROBO EN METROBUS CV'],\n",
        "            ['ROBO A CASA HABITACION Y VEHICULO SIN VIOLENCIA', 'ROBO A CASA HABITACION SV'],\n",
        "            ['TENTATIVA DE HOMICIDIO', 'HOMICIDIO DOLOSO'],\n",
        "            ['ROBO A TRANSEUNTE EN RESTAURANT CON VIOLENCIA', 'ROBO A TRANSEUNTE CV'],\n",
        "            ['TENTATIVA DE ROBO DE VEHICULO', 'ROBO DE VEHICULO CV'],\n",
        "            ['ROBO A TRANSEUNTE EN PARQUES Y MERCADOS CON VIOLENCIA', 'ROBO A TRANSEUNTE CV'],\n",
        "            ['ROBO A PASAJERO A BORDO DE TRANSPORTE PÚBLICO SIN VIOLENCIA', 'VISUALIZAR'],\n",
        "            ['ROBO A TRANSEUNTE EN NEGOCIO CON VIOLENCIA', 'ROBO A TRANSEUNTE CV'],\n",
        "            ['TENTATIVA DE ROBO', 'ROBO A TRANSEUNTE CV'],\n",
        "            ['ROBO A PASAJERO A BORDO DE METROBUS SIN VIOLENCIA', 'ROBO EN METROBUS SV'],\n",
        "            ['NARCOMENUDEO POSESIÓN CON FINES DE VENTA, COMERCIO Y SUMINISTRO', 'NARCOMENUDEO'],\n",
        "            ['ROBO A PASAJERO / CONDUCTOR DE VEHICULO CON VIOLENCIA', 'ROBO EN MICROBUS CV'],\n",
        "            ['ROBO A TRANSEUNTE DE CELULAR SIN VIOLENCIA', 'VISUALIZAR'],\n",
        "            ['ROBO A PASAJERO A BORDO DE TRANSPORTE PÚBLICO CON VIOLENCIA', 'VISUALIZAR'],\n",
        "            ['ROBO A TRANSEUNTE DE CELULAR CON VIOLENCIA', 'VISUALIZAR'],\n",
        "            ['ROBO DE OBJETOS DEL INTERIOR DE UN VEHICULO', 'ROBO A VEHICULO'],\n",
        "            ['ROBO A CASA HABITACION SIN VIOLENCIA', 'ROBO A CASA HABITACION SV'],\n",
        "            ['ROBO DE ACCESORIOS DE AUTO', 'ROBO A VEHICULO'],\n",
        "            ['ROBO A NEGOCIO SIN VIOLENCIA', 'ROBO A NEGOCIO SV'],\n",
        "            ['ROBO A NEGOCIO CON VIOLENCIA', 'ROBO A NEGOCIO CV']\n",
        "            ]),\n",
        "             columns=['Crimen', 'Nueva categoria'])"
      ],
      "execution_count": null,
      "outputs": []
    },
    {
      "cell_type": "code",
      "metadata": {
        "id": "WVQ41RIt15su",
        "colab_type": "code",
        "colab": {
          "base_uri": "https://localhost:8080/",
          "height": 579
        },
        "outputId": "6cda8716-8905-48bc-981a-f7dbd0ef4233"
      },
      "source": [
        "for i in range(len(recategorizacion['Crimen'])):\n",
        "  crimenes.loc[crimenes['crimen']==recategorizacion['Crimen'][i], 'categoria'] = recategorizacion['Nueva categoria'][i]\n",
        "crimenes['categoria'].unique()"
      ],
      "execution_count": null,
      "outputs": [
        {
          "output_type": "execute_result",
          "data": {
            "text/plain": [
              "<StringArray>\n",
              "[                                   'VISUALIZAR',\n",
              "                             'ROBO A NEGOCIO SV',\n",
              "                             'ROBO A NEGOCIO CV',\n",
              "                          'ROBO A TRANSEUNTE CV',\n",
              "                     'ROBO A CASA HABITACION SV',\n",
              "                           'ROBO DE VEHICULO SV',\n",
              "                               'ROBO A VEHICULO',\n",
              "                        'DELITO DE BAJO IMPACTO',\n",
              "                     'ROBO A CASA HABITACION CV',\n",
              "                           'ROBO DE VEHICULO CV',\n",
              "                              'HOMICIDIO DOLOSO',\n",
              "                           'ROBO EN MICROBUS CV',\n",
              " 'LESIONES DOLOSAS POR DISPARO DE ARMA DE FUEGO',\n",
              "                                  'NARCOMENUDEO',\n",
              "                              'ROBO EN METRO SV',\n",
              "                      'ROBO A CUENTAHABIENTE CV',\n",
              "                          'ROBO A REPARTIDOR CV',\n",
              "                               'ROBO EN TAXI CV',\n",
              "                          'ROBO A TRANSEUNTE SV',\n",
              "                          'ROBO A REPARTIDOR SV',\n",
              "                               'ROBO EN TAXI SV',\n",
              "                                     'VIOLACIÓN',\n",
              "                                   'FEMINICIDIO',\n",
              "                              'ROBO EN METRO CV',\n",
              "                           'ROBO EN METROBUS SV',\n",
              "                           'ROBO EN MICROBUS SV',\n",
              "                           'ROBO EN METROBUS CV',\n",
              "                                     'SECUESTRO']\n",
              "Length: 28, dtype: string"
            ]
          },
          "metadata": {
            "tags": []
          },
          "execution_count": 33
        }
      ]
    },
    {
      "cell_type": "code",
      "metadata": {
        "id": "4cW9qWJj2k72",
        "colab_type": "code",
        "colab": {}
      },
      "source": [
        ""
      ],
      "execution_count": null,
      "outputs": []
    }
  ]
}