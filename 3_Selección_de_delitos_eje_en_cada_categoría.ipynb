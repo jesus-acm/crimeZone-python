{
  "nbformat": 4,
  "nbformat_minor": 0,
  "metadata": {
    "colab": {
      "name": "3 - Selección de delitos eje en cada categoría",
      "provenance": [],
      "collapsed_sections": [],
      "toc_visible": true,
      "include_colab_link": true
    },
    "kernelspec": {
      "name": "python3",
      "display_name": "Python 3"
    }
  },
  "cells": [
    {
      "cell_type": "markdown",
      "metadata": {
        "id": "view-in-github",
        "colab_type": "text"
      },
      "source": [
        "<a href=\"https://colab.research.google.com/github/jesus-acm/crimeZone-python-v1/blob/master/3_Selecci%C3%B3n_de_delitos_eje_en_cada_categor%C3%ADa.ipynb\" target=\"_parent\"><img src=\"https://colab.research.google.com/assets/colab-badge.svg\" alt=\"Open In Colab\"/></a>"
      ]
    },
    {
      "cell_type": "code",
      "metadata": {
        "id": "fhOUtcywr8pF",
        "colab_type": "code",
        "colab": {
          "base_uri": "https://localhost:8080/",
          "height": 130
        },
        "outputId": "e0858715-8117-4a70-e3ed-ec1d6aeefec5"
      },
      "source": [
        "## Aqui vamos a seleccionar nuestros delitos principales en cada eje y además obtener las colonias más peligrosas\n",
        "## Posterior a esto vamos a calcular la relación de los delitos para ver si los podemos incluir en las categorías para finalmente\n",
        "## Poder escoger datos que nos sean útiles en nuestro programa\n",
        "import pandas as pd\n",
        "import numpy as np\n",
        "\n",
        "from google.colab import drive\n",
        "drive.mount('/content/drive/')"
      ],
      "execution_count": null,
      "outputs": [
        {
          "output_type": "stream",
          "text": [
            "Go to this URL in a browser: https://accounts.google.com/o/oauth2/auth?client_id=947318989803-6bn6qk8qdgf4n4g3pfee6491hc0brc4i.apps.googleusercontent.com&redirect_uri=urn%3aietf%3awg%3aoauth%3a2.0%3aoob&response_type=code&scope=email%20https%3a%2f%2fwww.googleapis.com%2fauth%2fdocs.test%20https%3a%2f%2fwww.googleapis.com%2fauth%2fdrive%20https%3a%2f%2fwww.googleapis.com%2fauth%2fdrive.photos.readonly%20https%3a%2f%2fwww.googleapis.com%2fauth%2fpeopleapi.readonly\n",
            "\n",
            "Enter your authorization code:\n",
            "··········\n",
            "Mounted at /content/drive/\n"
          ],
          "name": "stdout"
        }
      ]
    },
    {
      "cell_type": "code",
      "metadata": {
        "id": "4IOuC3SVMQ1p",
        "colab_type": "code",
        "colab": {
          "base_uri": "https://localhost:8080/",
          "height": 409
        },
        "outputId": "99facfe3-1668-43c3-9a6f-ef7c5c3e29d8"
      },
      "source": [
        "!pip install hdbscan\n",
        "%cd 'drive/My Drive/Colab_Notebooks_Crimezone/CrimeZone'"
      ],
      "execution_count": null,
      "outputs": [
        {
          "output_type": "stream",
          "text": [
            "Collecting hdbscan\n",
            "\u001b[?25l  Downloading https://files.pythonhosted.org/packages/22/2f/2423d844072f007a74214c1adc46260e45f034bb1679ccadfbb8a601f647/hdbscan-0.8.26.tar.gz (4.7MB)\n",
            "\u001b[K     |████████████████████████████████| 4.7MB 90kB/s \n",
            "\u001b[?25h  Installing build dependencies ... \u001b[?25l\u001b[?25hdone\n",
            "  Getting requirements to build wheel ... \u001b[?25l\u001b[?25hdone\n",
            "    Preparing wheel metadata ... \u001b[?25l\u001b[?25hdone\n",
            "Requirement already satisfied: joblib in /usr/local/lib/python3.6/dist-packages (from hdbscan) (0.15.1)\n",
            "Requirement already satisfied: cython>=0.27 in /usr/local/lib/python3.6/dist-packages (from hdbscan) (0.29.20)\n",
            "Requirement already satisfied: six in /usr/local/lib/python3.6/dist-packages (from hdbscan) (1.12.0)\n",
            "Requirement already satisfied: scikit-learn>=0.17 in /usr/local/lib/python3.6/dist-packages (from hdbscan) (0.22.2.post1)\n",
            "Requirement already satisfied: numpy>=1.16.0 in /usr/local/lib/python3.6/dist-packages (from hdbscan) (1.18.5)\n",
            "Requirement already satisfied: scipy>=0.9 in /usr/local/lib/python3.6/dist-packages (from hdbscan) (1.4.1)\n",
            "Building wheels for collected packages: hdbscan\n",
            "  Building wheel for hdbscan (PEP 517) ... \u001b[?25l\u001b[?25hdone\n",
            "  Created wheel for hdbscan: filename=hdbscan-0.8.26-cp36-cp36m-linux_x86_64.whl size=2307225 sha256=30d52e65b93f9b35af547a1c1633e627e9cbf314e4ea86b3db7aa7095d1056b4\n",
            "  Stored in directory: /root/.cache/pip/wheels/82/38/41/372f034d8abd271ef7787a681e0a47fc05d472683a7eb088ed\n",
            "Successfully built hdbscan\n",
            "Installing collected packages: hdbscan\n",
            "Successfully installed hdbscan-0.8.26\n",
            "/content/drive/.shortcut-targets-by-id/1s1XGSgZeOGfu83xeE4RiHvWK3TrYg3vT/Colab_Notebooks_Crimezone/CrimeZone\n"
          ],
          "name": "stdout"
        }
      ]
    },
    {
      "cell_type": "code",
      "metadata": {
        "id": "8FmVFyFvMbmo",
        "colab_type": "code",
        "colab": {
          "base_uri": "https://localhost:8080/",
          "height": 206
        },
        "outputId": "1b456462-772b-453c-d496-95c327a4c99d"
      },
      "source": [
        "crimenes = pd.read_csv('../CrimeZone_db/crimenes-GAM-limpios.csv')\n",
        "crimenes.head()"
      ],
      "execution_count": null,
      "outputs": [
        {
          "output_type": "execute_result",
          "data": {
            "text/html": [
              "<div>\n",
              "<style scoped>\n",
              "    .dataframe tbody tr th:only-of-type {\n",
              "        vertical-align: middle;\n",
              "    }\n",
              "\n",
              "    .dataframe tbody tr th {\n",
              "        vertical-align: top;\n",
              "    }\n",
              "\n",
              "    .dataframe thead th {\n",
              "        text-align: right;\n",
              "    }\n",
              "</style>\n",
              "<table border=\"1\" class=\"dataframe\">\n",
              "  <thead>\n",
              "    <tr style=\"text-align: right;\">\n",
              "      <th></th>\n",
              "      <th>fecha</th>\n",
              "      <th>crimen</th>\n",
              "      <th>categoria</th>\n",
              "      <th>colonia</th>\n",
              "      <th>long</th>\n",
              "      <th>lat</th>\n",
              "    </tr>\n",
              "  </thead>\n",
              "  <tbody>\n",
              "    <tr>\n",
              "      <th>0</th>\n",
              "      <td>2016-05-18 17:45:00</td>\n",
              "      <td>ROBO A TRANSEUNTE DE CELULAR CON VIOLENCIA</td>\n",
              "      <td>ROBO DE CELULAR CON VIOLENCIA</td>\n",
              "      <td>DEFENSORES DE LA REPÚBLICA</td>\n",
              "      <td>-99.141133</td>\n",
              "      <td>19.472193</td>\n",
              "    </tr>\n",
              "    <tr>\n",
              "      <th>1</th>\n",
              "      <td>2016-05-19 13:20:00</td>\n",
              "      <td>ROBO A NEGOCIO SIN VIOLENCIA</td>\n",
              "      <td>ROBO A NEGOCIO SV</td>\n",
              "      <td>SANTIAGO ATZACOALCO</td>\n",
              "      <td>-99.097474</td>\n",
              "      <td>19.496379</td>\n",
              "    </tr>\n",
              "    <tr>\n",
              "      <th>2</th>\n",
              "      <td>2016-05-05 17:00:00</td>\n",
              "      <td>ROBO A NEGOCIO CON VIOLENCIA</td>\n",
              "      <td>ROBO A NEGOCIO CV</td>\n",
              "      <td>25 DE JULIO</td>\n",
              "      <td>-99.083278</td>\n",
              "      <td>19.495574</td>\n",
              "    </tr>\n",
              "    <tr>\n",
              "      <th>3</th>\n",
              "      <td>2016-05-19 13:35:00</td>\n",
              "      <td>ROBO A TRANSEUNTE EN VIA PUBLICA CON VIOLENCIA</td>\n",
              "      <td>ROBO A TRANSEUNTE CV</td>\n",
              "      <td>LA LAGUNA TICOMÁN</td>\n",
              "      <td>-99.132372</td>\n",
              "      <td>19.514183</td>\n",
              "    </tr>\n",
              "    <tr>\n",
              "      <th>4</th>\n",
              "      <td>2016-05-18 11:00:00</td>\n",
              "      <td>ROBO A CASA HABITACION SIN VIOLENCIA</td>\n",
              "      <td>ROBO A CASA HABITACION SV</td>\n",
              "      <td>SANTA ISABEL TOLA</td>\n",
              "      <td>-99.116308</td>\n",
              "      <td>19.494444</td>\n",
              "    </tr>\n",
              "  </tbody>\n",
              "</table>\n",
              "</div>"
            ],
            "text/plain": [
              "                 fecha  ...        lat\n",
              "0  2016-05-18 17:45:00  ...  19.472193\n",
              "1  2016-05-19 13:20:00  ...  19.496379\n",
              "2  2016-05-05 17:00:00  ...  19.495574\n",
              "3  2016-05-19 13:35:00  ...  19.514183\n",
              "4  2016-05-18 11:00:00  ...  19.494444\n",
              "\n",
              "[5 rows x 6 columns]"
            ]
          },
          "metadata": {
            "tags": []
          },
          "execution_count": 3
        }
      ]
    },
    {
      "cell_type": "code",
      "metadata": {
        "id": "oHMKd0LwMcDz",
        "colab_type": "code",
        "colab": {
          "base_uri": "https://localhost:8080/",
          "height": 147
        },
        "outputId": "78f15ec0-1ff0-4fd0-d70f-ca879cb4006b"
      },
      "source": [
        "crimenes.dtypes"
      ],
      "execution_count": null,
      "outputs": [
        {
          "output_type": "execute_result",
          "data": {
            "text/plain": [
              "fecha         object\n",
              "crimen        object\n",
              "categoria     object\n",
              "colonia       object\n",
              "long         float64\n",
              "lat          float64\n",
              "dtype: object"
            ]
          },
          "metadata": {
            "tags": []
          },
          "execution_count": 4
        }
      ]
    },
    {
      "cell_type": "code",
      "metadata": {
        "id": "qRZ7e36-Mlzw",
        "colab_type": "code",
        "colab": {
          "base_uri": "https://localhost:8080/",
          "height": 147
        },
        "outputId": "c55aa1e7-ddf2-4c36-a378-13f34417b174"
      },
      "source": [
        "## Convertimos los tipos de datos de las columnas\n",
        "crimenes = crimenes.convert_dtypes()\n",
        "crimenes['fecha'] = pd.to_datetime(\n",
        "    crimenes['fecha'],\n",
        "    errors = 'coerce',\n",
        "    format = '%Y/%m/%d %H:%M:%S'\n",
        ")\n",
        "crimenes.dtypes"
      ],
      "execution_count": null,
      "outputs": [
        {
          "output_type": "execute_result",
          "data": {
            "text/plain": [
              "fecha        datetime64[ns]\n",
              "crimen               string\n",
              "categoria            string\n",
              "colonia              string\n",
              "long                float64\n",
              "lat                 float64\n",
              "dtype: object"
            ]
          },
          "metadata": {
            "tags": []
          },
          "execution_count": 5
        }
      ]
    },
    {
      "cell_type": "code",
      "metadata": {
        "id": "nyy-df7hMozt",
        "colab_type": "code",
        "colab": {
          "base_uri": "https://localhost:8080/",
          "height": 576
        },
        "outputId": "191e0626-8713-40d2-f710-4d1948fb3613"
      },
      "source": [
        "## Desplegamos las categorias de nuestro dataset\n",
        "crimenes['categoria'].unique()"
      ],
      "execution_count": null,
      "outputs": [
        {
          "output_type": "execute_result",
          "data": {
            "text/plain": [
              "<StringArray>\n",
              "[                'ROBO DE CELULAR CON VIOLENCIA',\n",
              "                             'ROBO A NEGOCIO SV',\n",
              "                             'ROBO A NEGOCIO CV',\n",
              "                          'ROBO A TRANSEUNTE CV',\n",
              "                     'ROBO A CASA HABITACION SV',\n",
              "                           'ROBO DE VEHICULO SV',\n",
              "                               'ROBO A VEHICULO',\n",
              "                     'ROBO A CASA HABITACION CV',\n",
              "                           'ROBO DE VEHICULO CV',\n",
              "                              'HOMICIDIO DOLOSO',\n",
              "                           'ROBO EN MICROBUS CV',\n",
              " 'LESIONES DOLOSAS POR DISPARO DE ARMA DE FUEGO',\n",
              "                 'ROBO DE CELULAR SIN VIOLENCIA',\n",
              "                                  'NARCOMENUDEO',\n",
              "                              'ROBO EN METRO SV',\n",
              "                      'ROBO A CUENTAHABIENTE CV',\n",
              "                          'ROBO A REPARTIDOR CV',\n",
              "                               'ROBO EN TAXI CV',\n",
              "                          'ROBO A TRANSEUNTE SV',\n",
              "                          'ROBO A REPARTIDOR SV',\n",
              "                               'ROBO EN TAXI SV',\n",
              "                                     'VIOLACIÓN',\n",
              "                                   'FEMINICIDIO',\n",
              "                              'ROBO EN METRO CV',\n",
              "                           'ROBO EN METROBUS SV',\n",
              "                           'ROBO EN MICROBUS SV',\n",
              "                           'ROBO EN METROBUS CV',\n",
              "                                     'SECUESTRO']\n",
              "Length: 28, dtype: string"
            ]
          },
          "metadata": {
            "tags": []
          },
          "execution_count": 6
        }
      ]
    },
    {
      "cell_type": "code",
      "metadata": {
        "id": "tVJh2LWFNb4u",
        "colab_type": "code",
        "colab": {
          "base_uri": "https://localhost:8080/",
          "height": 557
        },
        "outputId": "aa3c10bc-1a74-446c-e190-b6cd3d8682e3"
      },
      "source": [
        "crimenes['categoria'].value_counts()"
      ],
      "execution_count": null,
      "outputs": [
        {
          "output_type": "execute_result",
          "data": {
            "text/plain": [
              "ROBO A NEGOCIO SV                                4850\n",
              "ROBO A TRANSEUNTE CV                             3768\n",
              "ROBO A VEHICULO                                  3710\n",
              "ROBO DE VEHICULO SV                              3268\n",
              "ROBO DE VEHICULO CV                              2358\n",
              "ROBO A CASA HABITACION SV                        2055\n",
              "ROBO EN MICROBUS CV                              1353\n",
              "ROBO A NEGOCIO CV                                1132\n",
              "ROBO DE CELULAR CON VIOLENCIA                    1057\n",
              "ROBO DE CELULAR SIN VIOLENCIA                     871\n",
              "ROBO A REPARTIDOR CV                              777\n",
              "HOMICIDIO DOLOSO                                  584\n",
              "ROBO A TRANSEUNTE SV                              407\n",
              "NARCOMENUDEO                                      386\n",
              "LESIONES DOLOSAS POR DISPARO DE ARMA DE FUEGO     348\n",
              "ROBO EN METRO SV                                  228\n",
              "VIOLACIÓN                                         207\n",
              "ROBO A CASA HABITACION CV                         172\n",
              "ROBO A CUENTAHABIENTE CV                          157\n",
              "ROBO EN METROBUS SV                               152\n",
              "ROBO A REPARTIDOR SV                              131\n",
              "ROBO EN MICROBUS SV                                89\n",
              "ROBO EN TAXI CV                                    55\n",
              "ROBO EN METRO CV                                   41\n",
              "ROBO EN TAXI SV                                    28\n",
              "FEMINICIDIO                                        18\n",
              "ROBO EN METROBUS CV                                10\n",
              "SECUESTRO                                           9\n",
              "Name: categoria, dtype: Int64"
            ]
          },
          "metadata": {
            "tags": []
          },
          "execution_count": 7
        }
      ]
    },
    {
      "cell_type": "markdown",
      "metadata": {
        "id": "E0rLksM2dAno",
        "colab_type": "text"
      },
      "source": [
        "# Selección de crimenes eje\n",
        "\n",
        "### En nuestra cuenta vemos que los delitos más importantes refiriendonos a delitos a PEATONES es  \"ROBO A TRANSEUNTE CV\", esta será la variable eje donde empezaremos a hacer nuestras pruebas para encontar similitud de prescencia de crimenes.\n",
        "\n",
        "### En tanto a lo referente a los delitos de transporte público, como nuestro trabajo terminal está enfocado a el Servicio de transporte público Metro vamos a utilizar \"ROBO EN METRO SV\"\n",
        "\n",
        "### Lo que sigue es clusterizar los delitos a asaltos a transeuntes y calcular la similitud con otros delitos\n",
        "\n"
      ]
    },
    {
      "cell_type": "markdown",
      "metadata": {
        "id": "Q_98ZHBte8sg",
        "colab_type": "text"
      },
      "source": [
        "# Clusterización de delitos:\n",
        "\n",
        "* ## HDBSCAN\n",
        "Este algoritmo se implementará para ver los focos de concentración del delito \"ROBO A TRANSEUNTE CV\"\n"
      ]
    },
    {
      "cell_type": "code",
      "metadata": {
        "id": "Jp-YqHjWN8og",
        "colab_type": "code",
        "colab": {}
      },
      "source": [
        "## Eliminamos columnas que no serán de utilidad para la implementación de nuestro algoritmo :)\n",
        "## Sacamos la columna crimen \n",
        "crimenes = crimenes.drop(['crimen'],axis=1)"
      ],
      "execution_count": null,
      "outputs": []
    },
    {
      "cell_type": "code",
      "metadata": {
        "id": "0Z4VKcOGUPZS",
        "colab_type": "code",
        "colab": {}
      },
      "source": [
        "## preparamos nuestro dataframe para el algoritmo\n",
        "peatones = crimenes.rename(columns={'categoria':'crimen'}).set_index(['crimen']).loc['ROBO A TRANSEUNTE CV'].reset_index()"
      ],
      "execution_count": null,
      "outputs": []
    },
    {
      "cell_type": "code",
      "metadata": {
        "id": "NrTx_A9Eci1s",
        "colab_type": "code",
        "colab": {}
      },
      "source": [
        "def clusterizar(df):\n",
        "  import hdbscan\n",
        "  X = df[['lat', 'long']].values\n",
        "  rads = np.radians(X)\n",
        "  clusterer = hdbscan.HDBSCAN(min_cluster_size=2, metric='haversine')\n",
        "  predictions = clusterer.fit_predict(rads)\n",
        "  df_clusterizado = pd.concat([df.reset_index(), \n",
        "                       pd.DataFrame({'Cluster':predictions})], \n",
        "                      axis=1)\n",
        "  df_clusterizado.drop('index', axis=1, inplace=True)\n",
        "  return df_clusterizado"
      ],
      "execution_count": null,
      "outputs": []
    },
    {
      "cell_type": "code",
      "metadata": {
        "colab_type": "code",
        "id": "23L81gmjcfoS",
        "colab": {
          "base_uri": "https://localhost:8080/",
          "height": 424
        },
        "outputId": "84f7aebc-54f2-45e4-c199-2654e1edc841"
      },
      "source": [
        "clustered = clusterizar(peatones)\n",
        "clustered"
      ],
      "execution_count": null,
      "outputs": [
        {
          "output_type": "execute_result",
          "data": {
            "text/html": [
              "<div>\n",
              "<style scoped>\n",
              "    .dataframe tbody tr th:only-of-type {\n",
              "        vertical-align: middle;\n",
              "    }\n",
              "\n",
              "    .dataframe tbody tr th {\n",
              "        vertical-align: top;\n",
              "    }\n",
              "\n",
              "    .dataframe thead th {\n",
              "        text-align: right;\n",
              "    }\n",
              "</style>\n",
              "<table border=\"1\" class=\"dataframe\">\n",
              "  <thead>\n",
              "    <tr style=\"text-align: right;\">\n",
              "      <th></th>\n",
              "      <th>crimen</th>\n",
              "      <th>fecha</th>\n",
              "      <th>colonia</th>\n",
              "      <th>long</th>\n",
              "      <th>lat</th>\n",
              "      <th>Cluster</th>\n",
              "    </tr>\n",
              "  </thead>\n",
              "  <tbody>\n",
              "    <tr>\n",
              "      <th>0</th>\n",
              "      <td>ROBO A TRANSEUNTE CV</td>\n",
              "      <td>2016-05-19 13:35:00</td>\n",
              "      <td>LA LAGUNA TICOMÁN</td>\n",
              "      <td>-99.132372</td>\n",
              "      <td>19.514183</td>\n",
              "      <td>446</td>\n",
              "    </tr>\n",
              "    <tr>\n",
              "      <th>1</th>\n",
              "      <td>ROBO A TRANSEUNTE CV</td>\n",
              "      <td>2016-05-19 15:20:00</td>\n",
              "      <td>JUAN GONZÁLEZ ROMERO</td>\n",
              "      <td>-99.090854</td>\n",
              "      <td>19.506820</td>\n",
              "      <td>948</td>\n",
              "    </tr>\n",
              "    <tr>\n",
              "      <th>2</th>\n",
              "      <td>ROBO A TRANSEUNTE CV</td>\n",
              "      <td>2016-05-20 18:10:00</td>\n",
              "      <td>FERROCARRILERA</td>\n",
              "      <td>-99.097314</td>\n",
              "      <td>19.479611</td>\n",
              "      <td>573</td>\n",
              "    </tr>\n",
              "    <tr>\n",
              "      <th>3</th>\n",
              "      <td>ROBO A TRANSEUNTE CV</td>\n",
              "      <td>2016-05-20 23:30:00</td>\n",
              "      <td>RESIDENCIAL ZACATENCO</td>\n",
              "      <td>-99.120436</td>\n",
              "      <td>19.495638</td>\n",
              "      <td>-1</td>\n",
              "    </tr>\n",
              "    <tr>\n",
              "      <th>4</th>\n",
              "      <td>ROBO A TRANSEUNTE CV</td>\n",
              "      <td>2016-05-21 12:20:00</td>\n",
              "      <td>VILLA GUSTAVO A. MADERO</td>\n",
              "      <td>-99.113828</td>\n",
              "      <td>19.484084</td>\n",
              "      <td>769</td>\n",
              "    </tr>\n",
              "    <tr>\n",
              "      <th>...</th>\n",
              "      <td>...</td>\n",
              "      <td>...</td>\n",
              "      <td>...</td>\n",
              "      <td>...</td>\n",
              "      <td>...</td>\n",
              "      <td>...</td>\n",
              "    </tr>\n",
              "    <tr>\n",
              "      <th>3763</th>\n",
              "      <td>ROBO A TRANSEUNTE CV</td>\n",
              "      <td>2018-11-28 22:13:00</td>\n",
              "      <td>ARAGÓN INGUARÁN</td>\n",
              "      <td>-99.106636</td>\n",
              "      <td>19.472753</td>\n",
              "      <td>1010</td>\n",
              "    </tr>\n",
              "    <tr>\n",
              "      <th>3764</th>\n",
              "      <td>ROBO A TRANSEUNTE CV</td>\n",
              "      <td>2018-11-29 08:50:00</td>\n",
              "      <td>VALLE DE MADERO</td>\n",
              "      <td>-99.140769</td>\n",
              "      <td>19.546944</td>\n",
              "      <td>274</td>\n",
              "    </tr>\n",
              "    <tr>\n",
              "      <th>3765</th>\n",
              "      <td>ROBO A TRANSEUNTE CV</td>\n",
              "      <td>2018-11-29 16:00:00</td>\n",
              "      <td>C.T.M. ATZACOALCO</td>\n",
              "      <td>-99.106199</td>\n",
              "      <td>19.509012</td>\n",
              "      <td>322</td>\n",
              "    </tr>\n",
              "    <tr>\n",
              "      <th>3766</th>\n",
              "      <td>ROBO A TRANSEUNTE CV</td>\n",
              "      <td>2018-11-27 18:30:00</td>\n",
              "      <td>AMPLIACIÓN CASAS ALEMÁN</td>\n",
              "      <td>-99.081636</td>\n",
              "      <td>19.476153</td>\n",
              "      <td>747</td>\n",
              "    </tr>\n",
              "    <tr>\n",
              "      <th>3767</th>\n",
              "      <td>ROBO A TRANSEUNTE CV</td>\n",
              "      <td>2018-11-29 22:45:00</td>\n",
              "      <td>LINDAVISTA</td>\n",
              "      <td>-99.128371</td>\n",
              "      <td>19.503912</td>\n",
              "      <td>412</td>\n",
              "    </tr>\n",
              "  </tbody>\n",
              "</table>\n",
              "<p>3768 rows × 6 columns</p>\n",
              "</div>"
            ],
            "text/plain": [
              "                    crimen               fecha  ...        lat  Cluster\n",
              "0     ROBO A TRANSEUNTE CV 2016-05-19 13:35:00  ...  19.514183      446\n",
              "1     ROBO A TRANSEUNTE CV 2016-05-19 15:20:00  ...  19.506820      948\n",
              "2     ROBO A TRANSEUNTE CV 2016-05-20 18:10:00  ...  19.479611      573\n",
              "3     ROBO A TRANSEUNTE CV 2016-05-20 23:30:00  ...  19.495638       -1\n",
              "4     ROBO A TRANSEUNTE CV 2016-05-21 12:20:00  ...  19.484084      769\n",
              "...                    ...                 ...  ...        ...      ...\n",
              "3763  ROBO A TRANSEUNTE CV 2018-11-28 22:13:00  ...  19.472753     1010\n",
              "3764  ROBO A TRANSEUNTE CV 2018-11-29 08:50:00  ...  19.546944      274\n",
              "3765  ROBO A TRANSEUNTE CV 2018-11-29 16:00:00  ...  19.509012      322\n",
              "3766  ROBO A TRANSEUNTE CV 2018-11-27 18:30:00  ...  19.476153      747\n",
              "3767  ROBO A TRANSEUNTE CV 2018-11-29 22:45:00  ...  19.503912      412\n",
              "\n",
              "[3768 rows x 6 columns]"
            ]
          },
          "metadata": {
            "tags": []
          },
          "execution_count": 11
        }
      ]
    },
    {
      "cell_type": "code",
      "metadata": {
        "id": "PIAETERU2jZS",
        "colab_type": "code",
        "colab": {
          "base_uri": "https://localhost:8080/",
          "height": 424
        },
        "outputId": "1ecbb0ad-6273-4eb3-bf1e-a69ed41112d9"
      },
      "source": [
        "clustered.sort_values(by=['Cluster'])"
      ],
      "execution_count": null,
      "outputs": [
        {
          "output_type": "execute_result",
          "data": {
            "text/html": [
              "<div>\n",
              "<style scoped>\n",
              "    .dataframe tbody tr th:only-of-type {\n",
              "        vertical-align: middle;\n",
              "    }\n",
              "\n",
              "    .dataframe tbody tr th {\n",
              "        vertical-align: top;\n",
              "    }\n",
              "\n",
              "    .dataframe thead th {\n",
              "        text-align: right;\n",
              "    }\n",
              "</style>\n",
              "<table border=\"1\" class=\"dataframe\">\n",
              "  <thead>\n",
              "    <tr style=\"text-align: right;\">\n",
              "      <th></th>\n",
              "      <th>crimen</th>\n",
              "      <th>fecha</th>\n",
              "      <th>colonia</th>\n",
              "      <th>long</th>\n",
              "      <th>lat</th>\n",
              "      <th>Cluster</th>\n",
              "    </tr>\n",
              "  </thead>\n",
              "  <tbody>\n",
              "    <tr>\n",
              "      <th>403</th>\n",
              "      <td>ROBO A TRANSEUNTE CV</td>\n",
              "      <td>2018-05-03 15:00:00</td>\n",
              "      <td>PROVIDENCIA</td>\n",
              "      <td>-99.067127</td>\n",
              "      <td>19.484915</td>\n",
              "      <td>-1</td>\n",
              "    </tr>\n",
              "    <tr>\n",
              "      <th>3155</th>\n",
              "      <td>ROBO A TRANSEUNTE CV</td>\n",
              "      <td>2020-04-18 13:06:00</td>\n",
              "      <td>SAN JUAN DE ARAGÓN</td>\n",
              "      <td>-99.080519</td>\n",
              "      <td>19.464903</td>\n",
              "      <td>-1</td>\n",
              "    </tr>\n",
              "    <tr>\n",
              "      <th>461</th>\n",
              "      <td>ROBO A TRANSEUNTE CV</td>\n",
              "      <td>2017-12-27 14:00:00</td>\n",
              "      <td>AMPLIACIÓN PROVIDENCIA</td>\n",
              "      <td>-99.070896</td>\n",
              "      <td>19.475763</td>\n",
              "      <td>-1</td>\n",
              "    </tr>\n",
              "    <tr>\n",
              "      <th>1505</th>\n",
              "      <td>ROBO A TRANSEUNTE CV</td>\n",
              "      <td>2018-02-10 06:10:00</td>\n",
              "      <td>ESTANZUELA</td>\n",
              "      <td>-99.108573</td>\n",
              "      <td>19.490102</td>\n",
              "      <td>-1</td>\n",
              "    </tr>\n",
              "    <tr>\n",
              "      <th>3154</th>\n",
              "      <td>ROBO A TRANSEUNTE CV</td>\n",
              "      <td>2020-04-17 16:35:00</td>\n",
              "      <td>SAN JUAN DE ARAGÓN</td>\n",
              "      <td>-99.083594</td>\n",
              "      <td>19.471799</td>\n",
              "      <td>-1</td>\n",
              "    </tr>\n",
              "    <tr>\n",
              "      <th>...</th>\n",
              "      <td>...</td>\n",
              "      <td>...</td>\n",
              "      <td>...</td>\n",
              "      <td>...</td>\n",
              "      <td>...</td>\n",
              "      <td>...</td>\n",
              "    </tr>\n",
              "    <tr>\n",
              "      <th>1297</th>\n",
              "      <td>ROBO A TRANSEUNTE CV</td>\n",
              "      <td>2017-04-12 16:15:00</td>\n",
              "      <td>GUADALUPE TEPEYAC</td>\n",
              "      <td>-99.122037</td>\n",
              "      <td>19.467349</td>\n",
              "      <td>1154</td>\n",
              "    </tr>\n",
              "    <tr>\n",
              "      <th>2637</th>\n",
              "      <td>ROBO A TRANSEUNTE CV</td>\n",
              "      <td>2018-09-21 22:18:00</td>\n",
              "      <td>GUADALUPE TEPEYAC</td>\n",
              "      <td>-99.122063</td>\n",
              "      <td>19.467713</td>\n",
              "      <td>1154</td>\n",
              "    </tr>\n",
              "    <tr>\n",
              "      <th>2165</th>\n",
              "      <td>ROBO A TRANSEUNTE CV</td>\n",
              "      <td>2018-06-11 22:00:00</td>\n",
              "      <td>GUADALUPE TEPEYAC</td>\n",
              "      <td>-99.122096</td>\n",
              "      <td>19.467614</td>\n",
              "      <td>1154</td>\n",
              "    </tr>\n",
              "    <tr>\n",
              "      <th>3255</th>\n",
              "      <td>ROBO A TRANSEUNTE CV</td>\n",
              "      <td>2016-11-16 20:22:00</td>\n",
              "      <td>GUADALUPE TEPEYAC</td>\n",
              "      <td>-99.122418</td>\n",
              "      <td>19.467356</td>\n",
              "      <td>1155</td>\n",
              "    </tr>\n",
              "    <tr>\n",
              "      <th>1504</th>\n",
              "      <td>ROBO A TRANSEUNTE CV</td>\n",
              "      <td>2018-02-12 04:47:00</td>\n",
              "      <td>GUADALUPE TEPEYAC</td>\n",
              "      <td>-99.122347</td>\n",
              "      <td>19.467451</td>\n",
              "      <td>1155</td>\n",
              "    </tr>\n",
              "  </tbody>\n",
              "</table>\n",
              "<p>3768 rows × 6 columns</p>\n",
              "</div>"
            ],
            "text/plain": [
              "                    crimen               fecha  ...        lat  Cluster\n",
              "403   ROBO A TRANSEUNTE CV 2018-05-03 15:00:00  ...  19.484915       -1\n",
              "3155  ROBO A TRANSEUNTE CV 2020-04-18 13:06:00  ...  19.464903       -1\n",
              "461   ROBO A TRANSEUNTE CV 2017-12-27 14:00:00  ...  19.475763       -1\n",
              "1505  ROBO A TRANSEUNTE CV 2018-02-10 06:10:00  ...  19.490102       -1\n",
              "3154  ROBO A TRANSEUNTE CV 2020-04-17 16:35:00  ...  19.471799       -1\n",
              "...                    ...                 ...  ...        ...      ...\n",
              "1297  ROBO A TRANSEUNTE CV 2017-04-12 16:15:00  ...  19.467349     1154\n",
              "2637  ROBO A TRANSEUNTE CV 2018-09-21 22:18:00  ...  19.467713     1154\n",
              "2165  ROBO A TRANSEUNTE CV 2018-06-11 22:00:00  ...  19.467614     1154\n",
              "3255  ROBO A TRANSEUNTE CV 2016-11-16 20:22:00  ...  19.467356     1155\n",
              "1504  ROBO A TRANSEUNTE CV 2018-02-12 04:47:00  ...  19.467451     1155\n",
              "\n",
              "[3768 rows x 6 columns]"
            ]
          },
          "metadata": {
            "tags": []
          },
          "execution_count": 12
        }
      ]
    },
    {
      "cell_type": "code",
      "metadata": {
        "id": "f_QyE0FAJHU2",
        "colab_type": "code",
        "colab": {
          "base_uri": "https://localhost:8080/",
          "height": 259
        },
        "outputId": "209856b2-e948-4a43-f5a0-c8a7c3236c73"
      },
      "source": [
        "clustered['colonia'].unique()"
      ],
      "execution_count": null,
      "outputs": [
        {
          "output_type": "execute_result",
          "data": {
            "text/plain": [
              "<StringArray>\n",
              "[      'LA LAGUNA TICOMÁN',    'JUAN GONZÁLEZ ROMERO',\n",
              "          'FERROCARRILERA',   'RESIDENCIAL ZACATENCO',\n",
              " 'VILLA GUSTAVO A. MADERO',               'LA JOYITA',\n",
              "     'CUCHILLA DEL TESORO',              'DEL OBRERO',\n",
              "     'TEPEYAC INSURGENTES',              'LINDAVISTA',\n",
              " ...\n",
              "      'EX ESCUELA DE TIRO',            'EL TEPETATAL',\n",
              " 'LA ESMERALDA 1A SECCIÓN',        'EL ARBOLILLO CTM',\n",
              "   'HÉROES DE CHAPULTEPEC',     'PRADOS DE CUAUTEPEC',\n",
              "   'PLANETARIO LINDAVISTA',        'EDUARDO MOLINA I',\n",
              "             'TLACAELEL 2',                  'INDECO']\n",
              "Length: 176, dtype: string"
            ]
          },
          "metadata": {
            "tags": []
          },
          "execution_count": 13
        }
      ]
    },
    {
      "cell_type": "markdown",
      "metadata": {
        "id": "AwsjxLtrMFmH",
        "colab_type": "text"
      },
      "source": [
        "## Funcion mapea cluster\n",
        "La función se encarga de mapear con su respectivo color cada cluster.\n",
        "Recibe los siguientes datos la funcion: \n",
        "* El dataframe que se va a mapear.\n",
        "* La columna con la cual se quiere comparar el siguiente arreglo.\n",
        "* Arreglo con los valores que se quiere obtener.\n",
        "\n",
        "Finalmente retorna el mapa con los marcadores de cada cluster y cada uno con su información respectiva."
      ]
    },
    {
      "cell_type": "code",
      "metadata": {
        "id": "IYCNRYzP24CF",
        "colab_type": "code",
        "colab": {}
      },
      "source": [
        "def mapeaCluster(datos, por, arreglo):\n",
        "  import folium\n",
        "  import time\n",
        "  import random\n",
        "\n",
        "  dataframe = clustered\n",
        "  dataframe = dataframe.set_index(por).loc[arreglo].reset_index()\n",
        "\n",
        "  centro_lat, centro_lon = 19.490560, -99.133424\n",
        "  folium_map = folium.Map(location=[centro_lat, centro_lon], zoom_start=12, tiles='cartodb positron')\n",
        "\n",
        "  id_clusters = dataframe['Cluster'].unique()\n",
        "  for id in id_clusters:\n",
        "    datos_aux = dataframe[dataframe['Cluster']==id]\n",
        "    r = lambda: random.randint(0,255)\n",
        "    color_marker = str(('#%02X%02X%02X' % (r(),r(),r())))\n",
        "    for i,row in datos_aux.iterrows():\n",
        "      anio = time.strptime(str(row.fecha), '%Y-%m-%d %H:%M:%S').tm_year\n",
        "      popup_text = f\"<b> Nombre: </b> {row.crimen} <br> <b> Anio: </b> {anio} <br> <b>Cluster: </b> {row.Cluster}\"\n",
        "      folium.CircleMarker(location=[row.lat, row.long], color=color_marker , radius=5, tooltip=popup_text, fill=True, fill_opacity=0.4).add_to(folium_map)\n",
        "\n",
        "  return folium_map"
      ],
      "execution_count": null,
      "outputs": []
    },
    {
      "cell_type": "markdown",
      "metadata": {
        "id": "anM5YfpmRNLc",
        "colab_type": "text"
      },
      "source": [
        "### Experimento con colonia\n",
        "\n",
        "Probamos la función quedandonos con ciertas colonias de la Gustavo A. Madero, las cuales son: \n",
        "* LA LAGUNA TICOMÁN\n",
        "* CUCHILLA DEL TESORO\n",
        "* DEL OBRERO\n",
        "\n",
        "Obtenemos el mapa con todos los cluster que contiene la colonia."
      ]
    },
    {
      "cell_type": "code",
      "metadata": {
        "id": "F0ioWjUyz--_",
        "colab_type": "code",
        "colab": {
          "base_uri": "https://localhost:8080/",
          "height": 782
        },
        "outputId": "ce7c81ef-64c9-4e4f-cdbe-141a0c700b1b"
      },
      "source": [
        "mapeaCluster(clustered, 'colonia', ['LA LAGUNA TICOMÁN','CUCHILLA DEL TESORO','DEL OBRERO'])"
      ],
      "execution_count": null,
      "outputs": [
        {
          "output_type": "execute_result",
          "data": {
            "text/html": [
              "<div style=\"width:100%;\"><div style=\"position:relative;width:100%;height:0;padding-bottom:60%;\"><span style=\"color:#565656\">Make this Notebook Trusted to load map: File -> Trust Notebook</span><iframe src=\"about:blank\" style=\"position:absolute;width:100%;height:100%;left:0;top:0;border:none !important;\" data-html=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 onload=\"this.contentDocument.open();this.contentDocument.write(atob(this.getAttribute('data-html')));this.contentDocument.close();\" allowfullscreen webkitallowfullscreen mozallowfullscreen></iframe></div></div>"
            ],
            "text/plain": [
              "<folium.folium.Map at 0x7fd445e4b278>"
            ]
          },
          "metadata": {
            "tags": []
          },
          "execution_count": 20
        }
      ]
    },
    {
      "cell_type": "markdown",
      "metadata": {
        "id": "XKLmDlZTTN9l",
        "colab_type": "text"
      },
      "source": [
        "### Experimento por Cluster\n",
        "\n",
        "Probamos la función por Cluster, le proporcionamos a la función el conjunto de id de los Cluster que queremos visualizar.\n",
        "\n",
        "Obtenemos el mapa con los marcadores de los cluster que deseamos visualizar."
      ]
    },
    {
      "cell_type": "code",
      "metadata": {
        "id": "Glg9_Pty3J4O",
        "colab_type": "code",
        "colab": {
          "base_uri": "https://localhost:8080/",
          "height": 782
        },
        "outputId": "a9702f2f-ba85-4ac4-a57d-37b3fe5a6d1b"
      },
      "source": [
        "mapeaCluster(clustered, 'Cluster', [1, 2 ,3 , 4])"
      ],
      "execution_count": null,
      "outputs": [
        {
          "output_type": "execute_result",
          "data": {
            "text/html": [
              "<div style=\"width:100%;\"><div style=\"position:relative;width:100%;height:0;padding-bottom:60%;\"><span style=\"color:#565656\">Make this Notebook Trusted to load map: File -> Trust Notebook</span><iframe src=\"about:blank\" style=\"position:absolute;width:100%;height:100%;left:0;top:0;border:none !important;\" data-html=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 onload=\"this.contentDocument.open();this.contentDocument.write(atob(this.getAttribute('data-html')));this.contentDocument.close();\" allowfullscreen webkitallowfullscreen mozallowfullscreen></iframe></div></div>"
            ],
            "text/plain": [
              "<folium.folium.Map at 0x7fd445f59128>"
            ]
          },
          "metadata": {
            "tags": []
          },
          "execution_count": 21
        }
      ]
    },
    {
      "cell_type": "code",
      "metadata": {
        "id": "NORbfL5s4SVF",
        "colab_type": "code",
        "colab": {}
      },
      "source": [
        "def mapeaClusterColonia(datos):\n",
        "  import folium\n",
        "  import time\n",
        "  import random\n",
        "  # Se indexa por colonias paraclusterizar y mapear\n",
        "  df = clustered.set_index('colonia');\n",
        "  for i,colonia in df:\n",
        "      df_aux =  df.loc[colonia].reset_index()\n",
        "  # Se instancia el mapa y se configura\n",
        "  centro_lat, centro_lon = 19.490560, -99.133424\n",
        "  folium_map = folium.Map(location=[centro_lat, centro_lon], zoom_start=12, tiles='cartodb positron')\n",
        "\n",
        "  #Por cada cluster\n",
        "  id_clusters = dataframe['Cluster'].unique()\n",
        "  for id in id_clusters:\n",
        "    datos_aux = dataframe[dataframe['Cluster']==id]\n",
        "    r = lambda: random.randint(0,255)\n",
        "    color_marker = str(('#%02X%02X%02X' % (r(),r(),r())))\n",
        "    for i,row in datos_aux.iterrows():\n",
        "      anio = time.strptime(str(row.fecha), '%Y-%m-%d %H:%M:%S').tm_year\n",
        "      popup_text = f\"<b> Nombre: </b> {row.crimen} <br> <b> Anio: </b> {anio} <br> <b>Cluster: </b> {row.Cluster}\"\n",
        "      folium.CircleMarker(location=[row.lat, row.long], color=color_marker , radius=5, tooltip=popup_text, fill=True, fill_opacity=0.4).add_to(folium_map)\n",
        "\n",
        "  return folium_map"
      ],
      "execution_count": null,
      "outputs": []
    },
    {
      "cell_type": "code",
      "metadata": {
        "id": "whwiF_bs6Pvh",
        "colab_type": "code",
        "colab": {}
      },
      "source": [
        ""
      ],
      "execution_count": null,
      "outputs": []
    },
    {
      "cell_type": "code",
      "metadata": {
        "id": "VVmWkbw8jluF",
        "colab_type": "code",
        "colab": {}
      },
      "source": [
        ""
      ],
      "execution_count": null,
      "outputs": []
    }
  ]
}