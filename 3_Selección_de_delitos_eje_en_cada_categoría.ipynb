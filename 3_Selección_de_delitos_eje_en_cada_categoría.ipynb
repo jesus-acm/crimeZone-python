{
  "nbformat": 4,
  "nbformat_minor": 0,
  "metadata": {
    "colab": {
      "name": "3 - Selección de delitos eje en cada categoría",
      "provenance": [],
      "collapsed_sections": [],
      "include_colab_link": true
    },
    "kernelspec": {
      "name": "python3",
      "display_name": "Python 3"
    }
  },
  "cells": [
    {
      "cell_type": "markdown",
      "metadata": {
        "id": "view-in-github",
        "colab_type": "text"
      },
      "source": [
        "<a href=\"https://colab.research.google.com/github/jesus-acm/crimeZone-python-v1/blob/master/3_Selecci%C3%B3n_de_delitos_eje_en_cada_categor%C3%ADa.ipynb\" target=\"_parent\"><img src=\"https://colab.research.google.com/assets/colab-badge.svg\" alt=\"Open In Colab\"/></a>"
      ]
    },
    {
      "cell_type": "code",
      "metadata": {
        "id": "fhOUtcywr8pF",
        "colab_type": "code",
        "colab": {
          "base_uri": "https://localhost:8080/",
          "height": 36
        },
        "outputId": "0c606314-bdac-4fa2-dfd7-1a8c3550a354"
      },
      "source": [
        "## Aqui vamos a seleccionar nuestros delitos principales en cada eje y además obtener las colonias más peligrosas\n",
        "## Posterior a esto vamos a calcular la relación de los delitos para ver si los podemos incluir en las categorías para finalmente\n",
        "## Poder escoger datos que nos sean útiles en nuestro programa\n",
        "import pandas as pd\n",
        "import numpy as np\n",
        "\n",
        "from google.colab import drive\n",
        "drive.mount('/content/drive/')"
      ],
      "execution_count": null,
      "outputs": [
        {
          "output_type": "stream",
          "text": [
            "Drive already mounted at /content/drive/; to attempt to forcibly remount, call drive.mount(\"/content/drive/\", force_remount=True).\n"
          ],
          "name": "stdout"
        }
      ]
    },
    {
      "cell_type": "code",
      "metadata": {
        "id": "4IOuC3SVMQ1p",
        "colab_type": "code",
        "colab": {
          "base_uri": "https://localhost:8080/",
          "height": 185
        },
        "outputId": "4462e0c6-cabb-4123-c868-96e8a0c00f82"
      },
      "source": [
        "!pip install hdbscan\n",
        "%cd 'drive/My Drive/Colab_Notebooks_Crimezone/CrimeZone'"
      ],
      "execution_count": null,
      "outputs": [
        {
          "output_type": "stream",
          "text": [
            "Requirement already satisfied: hdbscan in /usr/local/lib/python3.6/dist-packages (0.8.26)\n",
            "Requirement already satisfied: scikit-learn>=0.17 in /usr/local/lib/python3.6/dist-packages (from hdbscan) (0.22.2.post1)\n",
            "Requirement already satisfied: scipy>=0.9 in /usr/local/lib/python3.6/dist-packages (from hdbscan) (1.4.1)\n",
            "Requirement already satisfied: cython>=0.27 in /usr/local/lib/python3.6/dist-packages (from hdbscan) (0.29.20)\n",
            "Requirement already satisfied: six in /usr/local/lib/python3.6/dist-packages (from hdbscan) (1.12.0)\n",
            "Requirement already satisfied: numpy>=1.16.0 in /usr/local/lib/python3.6/dist-packages (from hdbscan) (1.18.5)\n",
            "Requirement already satisfied: joblib in /usr/local/lib/python3.6/dist-packages (from hdbscan) (0.15.1)\n",
            "[Errno 2] No such file or directory: 'drive/My Drive/Colab_Notebooks_Crimezone/CrimeZone'\n",
            "/content/drive/.shortcut-targets-by-id/1s1XGSgZeOGfu83xeE4RiHvWK3TrYg3vT/Colab_Notebooks_Crimezone/CrimeZone\n"
          ],
          "name": "stdout"
        }
      ]
    },
    {
      "cell_type": "code",
      "metadata": {
        "id": "8FmVFyFvMbmo",
        "colab_type": "code",
        "colab": {
          "base_uri": "https://localhost:8080/",
          "height": 206
        },
        "outputId": "1b36fd8d-55e6-49f0-baec-9d2c1925a510"
      },
      "source": [
        "crimenes = pd.read_csv('../CrimeZone_db/crimenes-GAM-limpios.csv')\n",
        "crimenes.head()"
      ],
      "execution_count": null,
      "outputs": [
        {
          "output_type": "execute_result",
          "data": {
            "text/html": [
              "<div>\n",
              "<style scoped>\n",
              "    .dataframe tbody tr th:only-of-type {\n",
              "        vertical-align: middle;\n",
              "    }\n",
              "\n",
              "    .dataframe tbody tr th {\n",
              "        vertical-align: top;\n",
              "    }\n",
              "\n",
              "    .dataframe thead th {\n",
              "        text-align: right;\n",
              "    }\n",
              "</style>\n",
              "<table border=\"1\" class=\"dataframe\">\n",
              "  <thead>\n",
              "    <tr style=\"text-align: right;\">\n",
              "      <th></th>\n",
              "      <th>fecha</th>\n",
              "      <th>crimen</th>\n",
              "      <th>categoria</th>\n",
              "      <th>colonia</th>\n",
              "      <th>long</th>\n",
              "      <th>lat</th>\n",
              "    </tr>\n",
              "  </thead>\n",
              "  <tbody>\n",
              "    <tr>\n",
              "      <th>0</th>\n",
              "      <td>2016-05-18 17:45:00</td>\n",
              "      <td>ROBO A TRANSEUNTE DE CELULAR CON VIOLENCIA</td>\n",
              "      <td>ROBO DE CELULAR CON VIOLENCIA</td>\n",
              "      <td>DEFENSORES DE LA REPÚBLICA</td>\n",
              "      <td>-99.141133</td>\n",
              "      <td>19.472193</td>\n",
              "    </tr>\n",
              "    <tr>\n",
              "      <th>1</th>\n",
              "      <td>2016-05-19 13:20:00</td>\n",
              "      <td>ROBO A NEGOCIO SIN VIOLENCIA</td>\n",
              "      <td>ROBO A NEGOCIO SV</td>\n",
              "      <td>SANTIAGO ATZACOALCO</td>\n",
              "      <td>-99.097474</td>\n",
              "      <td>19.496379</td>\n",
              "    </tr>\n",
              "    <tr>\n",
              "      <th>2</th>\n",
              "      <td>2016-05-05 17:00:00</td>\n",
              "      <td>ROBO A NEGOCIO CON VIOLENCIA</td>\n",
              "      <td>ROBO A NEGOCIO CV</td>\n",
              "      <td>25 DE JULIO</td>\n",
              "      <td>-99.083278</td>\n",
              "      <td>19.495574</td>\n",
              "    </tr>\n",
              "    <tr>\n",
              "      <th>3</th>\n",
              "      <td>2016-05-19 13:35:00</td>\n",
              "      <td>ROBO A TRANSEUNTE EN VIA PUBLICA CON VIOLENCIA</td>\n",
              "      <td>ROBO A TRANSEUNTE CV</td>\n",
              "      <td>LA LAGUNA TICOMÁN</td>\n",
              "      <td>-99.132372</td>\n",
              "      <td>19.514183</td>\n",
              "    </tr>\n",
              "    <tr>\n",
              "      <th>4</th>\n",
              "      <td>2016-05-18 11:00:00</td>\n",
              "      <td>ROBO A CASA HABITACION SIN VIOLENCIA</td>\n",
              "      <td>ROBO A CASA HABITACION SV</td>\n",
              "      <td>SANTA ISABEL TOLA</td>\n",
              "      <td>-99.116308</td>\n",
              "      <td>19.494444</td>\n",
              "    </tr>\n",
              "  </tbody>\n",
              "</table>\n",
              "</div>"
            ],
            "text/plain": [
              "                 fecha  ...        lat\n",
              "0  2016-05-18 17:45:00  ...  19.472193\n",
              "1  2016-05-19 13:20:00  ...  19.496379\n",
              "2  2016-05-05 17:00:00  ...  19.495574\n",
              "3  2016-05-19 13:35:00  ...  19.514183\n",
              "4  2016-05-18 11:00:00  ...  19.494444\n",
              "\n",
              "[5 rows x 6 columns]"
            ]
          },
          "metadata": {
            "tags": []
          },
          "execution_count": 126
        }
      ]
    },
    {
      "cell_type": "code",
      "metadata": {
        "id": "oHMKd0LwMcDz",
        "colab_type": "code",
        "colab": {
          "base_uri": "https://localhost:8080/",
          "height": 147
        },
        "outputId": "6bc6b54a-aa1d-480b-a4ca-1ecd86a5a478"
      },
      "source": [
        "crimenes.dtypes"
      ],
      "execution_count": null,
      "outputs": [
        {
          "output_type": "execute_result",
          "data": {
            "text/plain": [
              "fecha         object\n",
              "crimen        object\n",
              "categoria     object\n",
              "colonia       object\n",
              "long         float64\n",
              "lat          float64\n",
              "dtype: object"
            ]
          },
          "metadata": {
            "tags": []
          },
          "execution_count": 127
        }
      ]
    },
    {
      "cell_type": "code",
      "metadata": {
        "id": "qRZ7e36-Mlzw",
        "colab_type": "code",
        "colab": {
          "base_uri": "https://localhost:8080/",
          "height": 147
        },
        "outputId": "64bc59ce-a953-4705-c46b-9e92de25825b"
      },
      "source": [
        "## Convertimos los tipos de datos de las columnas\n",
        "crimenes = crimenes.convert_dtypes()\n",
        "crimenes['fecha'] = pd.to_datetime(\n",
        "    crimenes['fecha'],\n",
        "    errors = 'coerce',\n",
        "    format = '%Y/%m/%d %H:%M:%S'\n",
        ")\n",
        "crimenes.dtypes"
      ],
      "execution_count": null,
      "outputs": [
        {
          "output_type": "execute_result",
          "data": {
            "text/plain": [
              "fecha        datetime64[ns]\n",
              "crimen               string\n",
              "categoria            string\n",
              "colonia              string\n",
              "long                float64\n",
              "lat                 float64\n",
              "dtype: object"
            ]
          },
          "metadata": {
            "tags": []
          },
          "execution_count": 128
        }
      ]
    },
    {
      "cell_type": "code",
      "metadata": {
        "id": "nyy-df7hMozt",
        "colab_type": "code",
        "colab": {
          "base_uri": "https://localhost:8080/",
          "height": 576
        },
        "outputId": "d4246f7c-3a9e-4d41-a321-e8cd10fc083c"
      },
      "source": [
        "## Desplegamos las categorias de nuestro dataset\n",
        "crimenes['categoria'].unique()"
      ],
      "execution_count": null,
      "outputs": [
        {
          "output_type": "execute_result",
          "data": {
            "text/plain": [
              "<StringArray>\n",
              "[                'ROBO DE CELULAR CON VIOLENCIA',\n",
              "                             'ROBO A NEGOCIO SV',\n",
              "                             'ROBO A NEGOCIO CV',\n",
              "                          'ROBO A TRANSEUNTE CV',\n",
              "                     'ROBO A CASA HABITACION SV',\n",
              "                           'ROBO DE VEHICULO SV',\n",
              "                               'ROBO A VEHICULO',\n",
              "                     'ROBO A CASA HABITACION CV',\n",
              "                           'ROBO DE VEHICULO CV',\n",
              "                              'HOMICIDIO DOLOSO',\n",
              "                           'ROBO EN MICROBUS CV',\n",
              " 'LESIONES DOLOSAS POR DISPARO DE ARMA DE FUEGO',\n",
              "                 'ROBO DE CELULAR SIN VIOLENCIA',\n",
              "                                  'NARCOMENUDEO',\n",
              "                              'ROBO EN METRO SV',\n",
              "                      'ROBO A CUENTAHABIENTE CV',\n",
              "                          'ROBO A REPARTIDOR CV',\n",
              "                               'ROBO EN TAXI CV',\n",
              "                          'ROBO A TRANSEUNTE SV',\n",
              "                          'ROBO A REPARTIDOR SV',\n",
              "                               'ROBO EN TAXI SV',\n",
              "                                     'VIOLACIÓN',\n",
              "                                   'FEMINICIDIO',\n",
              "                              'ROBO EN METRO CV',\n",
              "                           'ROBO EN METROBUS SV',\n",
              "                           'ROBO EN MICROBUS SV',\n",
              "                           'ROBO EN METROBUS CV',\n",
              "                                     'SECUESTRO']\n",
              "Length: 28, dtype: string"
            ]
          },
          "metadata": {
            "tags": []
          },
          "execution_count": 129
        }
      ]
    },
    {
      "cell_type": "code",
      "metadata": {
        "id": "tVJh2LWFNb4u",
        "colab_type": "code",
        "colab": {
          "base_uri": "https://localhost:8080/",
          "height": 557
        },
        "outputId": "ceef76f5-27d6-4366-eee9-29364e199c89"
      },
      "source": [
        "crimenes['categoria'].value_counts()"
      ],
      "execution_count": null,
      "outputs": [
        {
          "output_type": "execute_result",
          "data": {
            "text/plain": [
              "ROBO A NEGOCIO SV                                4850\n",
              "ROBO A TRANSEUNTE CV                             3768\n",
              "ROBO A VEHICULO                                  3710\n",
              "ROBO DE VEHICULO SV                              3268\n",
              "ROBO DE VEHICULO CV                              2358\n",
              "ROBO A CASA HABITACION SV                        2055\n",
              "ROBO EN MICROBUS CV                              1353\n",
              "ROBO A NEGOCIO CV                                1132\n",
              "ROBO DE CELULAR CON VIOLENCIA                    1057\n",
              "ROBO DE CELULAR SIN VIOLENCIA                     871\n",
              "ROBO A REPARTIDOR CV                              777\n",
              "HOMICIDIO DOLOSO                                  584\n",
              "ROBO A TRANSEUNTE SV                              407\n",
              "NARCOMENUDEO                                      386\n",
              "LESIONES DOLOSAS POR DISPARO DE ARMA DE FUEGO     348\n",
              "ROBO EN METRO SV                                  228\n",
              "VIOLACIÓN                                         207\n",
              "ROBO A CASA HABITACION CV                         172\n",
              "ROBO A CUENTAHABIENTE CV                          157\n",
              "ROBO EN METROBUS SV                               152\n",
              "ROBO A REPARTIDOR SV                              131\n",
              "ROBO EN MICROBUS SV                                89\n",
              "ROBO EN TAXI CV                                    55\n",
              "ROBO EN METRO CV                                   41\n",
              "ROBO EN TAXI SV                                    28\n",
              "FEMINICIDIO                                        18\n",
              "ROBO EN METROBUS CV                                10\n",
              "SECUESTRO                                           9\n",
              "Name: categoria, dtype: Int64"
            ]
          },
          "metadata": {
            "tags": []
          },
          "execution_count": 130
        }
      ]
    },
    {
      "cell_type": "markdown",
      "metadata": {
        "id": "E0rLksM2dAno",
        "colab_type": "text"
      },
      "source": [
        "# Selección de crimenes eje\n",
        "\n",
        "### En nuestra cuenta vemos que los delitos más importantes refiriendonos a delitos a PEATONES es  \"ROBO A TRANSEUNTE CV\", esta será la variable eje donde empezaremos a hacer nuestras pruebas para encontar similitud de prescencia de crimenes.\n",
        "\n",
        "### En tanto a lo referente a los delitos de transporte público, como nuestro trabajo terminal está enfocado a el Servicio de transporte público Metro vamos a utilizar \"ROBO EN METRO SV\"\n",
        "\n",
        "### Lo que sigue es clusterizar los delitos a asaltos a transeuntes y calcular la similitud con otros delitos\n",
        "\n"
      ]
    },
    {
      "cell_type": "markdown",
      "metadata": {
        "id": "Q_98ZHBte8sg",
        "colab_type": "text"
      },
      "source": [
        "# Clusterización de delitos:\n",
        "\n",
        "* ## HDBSCAN\n",
        "Este algoritmo se implementará para ver los focos de concentración del delito \"ROBO A TRANSEUNTE CV\"\n"
      ]
    },
    {
      "cell_type": "code",
      "metadata": {
        "id": "Jp-YqHjWN8og",
        "colab_type": "code",
        "colab": {}
      },
      "source": [
        "## Eliminamos columnas que no serán de utilidad para la implementación de nuestro algoritmo :)\n",
        "## Sacamos la columna crimen \n",
        "crimenes = crimenes.drop(['crimen'],axis=1)"
      ],
      "execution_count": null,
      "outputs": []
    },
    {
      "cell_type": "code",
      "metadata": {
        "id": "0Z4VKcOGUPZS",
        "colab_type": "code",
        "colab": {}
      },
      "source": [
        "## preparamos nuestro dataframe para el algoritmo\n",
        "peatones = crimenes.rename(columns={'categoria':'crimen'}).set_index(['crimen']).loc['ROBO A TRANSEUNTE CV'].reset_index()"
      ],
      "execution_count": null,
      "outputs": []
    },
    {
      "cell_type": "code",
      "metadata": {
        "id": "NrTx_A9Eci1s",
        "colab_type": "code",
        "colab": {}
      },
      "source": [
        "def clusterizar(df):\n",
        "  import hdbscan\n",
        "  X = df[['lat', 'long']].values\n",
        "  rads = np.radians(X)\n",
        "  clusterer = hdbscan.HDBSCAN(min_cluster_size=2, metric='haversine')\n",
        "  predictions = clusterer.fit_predict(rads)\n",
        "  df_clusterizado = pd.concat([df.reset_index(), \n",
        "                       pd.DataFrame({'Cluster':predictions})], \n",
        "                      axis=1)\n",
        "  df_clusterizado.drop('index', axis=1, inplace=True)\n",
        "  return df_clusterizado"
      ],
      "execution_count": null,
      "outputs": []
    },
    {
      "cell_type": "code",
      "metadata": {
        "colab_type": "code",
        "id": "23L81gmjcfoS",
        "colab": {
          "base_uri": "https://localhost:8080/",
          "height": 402
        },
        "outputId": "13744a7d-aa30-4321-b51e-9f97072deed2"
      },
      "source": [
        "clustered = clusterizar(peatones)\n",
        "clustered"
      ],
      "execution_count": null,
      "outputs": [
        {
          "output_type": "execute_result",
          "data": {
            "text/html": [
              "<div>\n",
              "<style scoped>\n",
              "    .dataframe tbody tr th:only-of-type {\n",
              "        vertical-align: middle;\n",
              "    }\n",
              "\n",
              "    .dataframe tbody tr th {\n",
              "        vertical-align: top;\n",
              "    }\n",
              "\n",
              "    .dataframe thead th {\n",
              "        text-align: right;\n",
              "    }\n",
              "</style>\n",
              "<table border=\"1\" class=\"dataframe\">\n",
              "  <thead>\n",
              "    <tr style=\"text-align: right;\">\n",
              "      <th></th>\n",
              "      <th>crimen</th>\n",
              "      <th>fecha</th>\n",
              "      <th>colonia</th>\n",
              "      <th>long</th>\n",
              "      <th>lat</th>\n",
              "      <th>Cluster</th>\n",
              "    </tr>\n",
              "  </thead>\n",
              "  <tbody>\n",
              "    <tr>\n",
              "      <th>0</th>\n",
              "      <td>ROBO A TRANSEUNTE CV</td>\n",
              "      <td>2016-05-19 13:35:00</td>\n",
              "      <td>LA LAGUNA TICOMÁN</td>\n",
              "      <td>-99.132372</td>\n",
              "      <td>19.514183</td>\n",
              "      <td>446</td>\n",
              "    </tr>\n",
              "    <tr>\n",
              "      <th>1</th>\n",
              "      <td>ROBO A TRANSEUNTE CV</td>\n",
              "      <td>2016-05-19 15:20:00</td>\n",
              "      <td>JUAN GONZÁLEZ ROMERO</td>\n",
              "      <td>-99.090854</td>\n",
              "      <td>19.506820</td>\n",
              "      <td>948</td>\n",
              "    </tr>\n",
              "    <tr>\n",
              "      <th>2</th>\n",
              "      <td>ROBO A TRANSEUNTE CV</td>\n",
              "      <td>2016-05-20 18:10:00</td>\n",
              "      <td>FERROCARRILERA</td>\n",
              "      <td>-99.097314</td>\n",
              "      <td>19.479611</td>\n",
              "      <td>573</td>\n",
              "    </tr>\n",
              "    <tr>\n",
              "      <th>3</th>\n",
              "      <td>ROBO A TRANSEUNTE CV</td>\n",
              "      <td>2016-05-20 23:30:00</td>\n",
              "      <td>RESIDENCIAL ZACATENCO</td>\n",
              "      <td>-99.120436</td>\n",
              "      <td>19.495638</td>\n",
              "      <td>-1</td>\n",
              "    </tr>\n",
              "    <tr>\n",
              "      <th>4</th>\n",
              "      <td>ROBO A TRANSEUNTE CV</td>\n",
              "      <td>2016-05-21 12:20:00</td>\n",
              "      <td>VILLA GUSTAVO A. MADERO</td>\n",
              "      <td>-99.113828</td>\n",
              "      <td>19.484084</td>\n",
              "      <td>769</td>\n",
              "    </tr>\n",
              "    <tr>\n",
              "      <th>...</th>\n",
              "      <td>...</td>\n",
              "      <td>...</td>\n",
              "      <td>...</td>\n",
              "      <td>...</td>\n",
              "      <td>...</td>\n",
              "      <td>...</td>\n",
              "    </tr>\n",
              "    <tr>\n",
              "      <th>3763</th>\n",
              "      <td>ROBO A TRANSEUNTE CV</td>\n",
              "      <td>2018-11-28 22:13:00</td>\n",
              "      <td>ARAGÓN INGUARÁN</td>\n",
              "      <td>-99.106636</td>\n",
              "      <td>19.472753</td>\n",
              "      <td>1010</td>\n",
              "    </tr>\n",
              "    <tr>\n",
              "      <th>3764</th>\n",
              "      <td>ROBO A TRANSEUNTE CV</td>\n",
              "      <td>2018-11-29 08:50:00</td>\n",
              "      <td>VALLE DE MADERO</td>\n",
              "      <td>-99.140769</td>\n",
              "      <td>19.546944</td>\n",
              "      <td>274</td>\n",
              "    </tr>\n",
              "    <tr>\n",
              "      <th>3765</th>\n",
              "      <td>ROBO A TRANSEUNTE CV</td>\n",
              "      <td>2018-11-29 16:00:00</td>\n",
              "      <td>C.T.M. ATZACOALCO</td>\n",
              "      <td>-99.106199</td>\n",
              "      <td>19.509012</td>\n",
              "      <td>322</td>\n",
              "    </tr>\n",
              "    <tr>\n",
              "      <th>3766</th>\n",
              "      <td>ROBO A TRANSEUNTE CV</td>\n",
              "      <td>2018-11-27 18:30:00</td>\n",
              "      <td>AMPLIACIÓN CASAS ALEMÁN</td>\n",
              "      <td>-99.081636</td>\n",
              "      <td>19.476153</td>\n",
              "      <td>747</td>\n",
              "    </tr>\n",
              "    <tr>\n",
              "      <th>3767</th>\n",
              "      <td>ROBO A TRANSEUNTE CV</td>\n",
              "      <td>2018-11-29 22:45:00</td>\n",
              "      <td>LINDAVISTA</td>\n",
              "      <td>-99.128371</td>\n",
              "      <td>19.503912</td>\n",
              "      <td>412</td>\n",
              "    </tr>\n",
              "  </tbody>\n",
              "</table>\n",
              "<p>3768 rows × 6 columns</p>\n",
              "</div>"
            ],
            "text/plain": [
              "                    crimen               fecha  ...        lat  Cluster\n",
              "0     ROBO A TRANSEUNTE CV 2016-05-19 13:35:00  ...  19.514183      446\n",
              "1     ROBO A TRANSEUNTE CV 2016-05-19 15:20:00  ...  19.506820      948\n",
              "2     ROBO A TRANSEUNTE CV 2016-05-20 18:10:00  ...  19.479611      573\n",
              "3     ROBO A TRANSEUNTE CV 2016-05-20 23:30:00  ...  19.495638       -1\n",
              "4     ROBO A TRANSEUNTE CV 2016-05-21 12:20:00  ...  19.484084      769\n",
              "...                    ...                 ...  ...        ...      ...\n",
              "3763  ROBO A TRANSEUNTE CV 2018-11-28 22:13:00  ...  19.472753     1010\n",
              "3764  ROBO A TRANSEUNTE CV 2018-11-29 08:50:00  ...  19.546944      274\n",
              "3765  ROBO A TRANSEUNTE CV 2018-11-29 16:00:00  ...  19.509012      322\n",
              "3766  ROBO A TRANSEUNTE CV 2018-11-27 18:30:00  ...  19.476153      747\n",
              "3767  ROBO A TRANSEUNTE CV 2018-11-29 22:45:00  ...  19.503912      412\n",
              "\n",
              "[3768 rows x 6 columns]"
            ]
          },
          "metadata": {
            "tags": []
          },
          "execution_count": 27
        }
      ]
    },
    {
      "cell_type": "code",
      "metadata": {
        "id": "PIAETERU2jZS",
        "colab_type": "code",
        "colab": {
          "base_uri": "https://localhost:8080/",
          "height": 424
        },
        "outputId": "e0eef8fd-c9b1-4e3e-ae5d-b102d8a06c06"
      },
      "source": [
        "clustered.sort_values(by=['Cluster'])"
      ],
      "execution_count": null,
      "outputs": [
        {
          "output_type": "execute_result",
          "data": {
            "text/html": [
              "<div>\n",
              "<style scoped>\n",
              "    .dataframe tbody tr th:only-of-type {\n",
              "        vertical-align: middle;\n",
              "    }\n",
              "\n",
              "    .dataframe tbody tr th {\n",
              "        vertical-align: top;\n",
              "    }\n",
              "\n",
              "    .dataframe thead th {\n",
              "        text-align: right;\n",
              "    }\n",
              "</style>\n",
              "<table border=\"1\" class=\"dataframe\">\n",
              "  <thead>\n",
              "    <tr style=\"text-align: right;\">\n",
              "      <th></th>\n",
              "      <th>crimen</th>\n",
              "      <th>fecha</th>\n",
              "      <th>colonia</th>\n",
              "      <th>long</th>\n",
              "      <th>lat</th>\n",
              "      <th>Cluster</th>\n",
              "    </tr>\n",
              "  </thead>\n",
              "  <tbody>\n",
              "    <tr>\n",
              "      <th>403</th>\n",
              "      <td>ROBO A TRANSEUNTE CV</td>\n",
              "      <td>2018-05-03 15:00:00</td>\n",
              "      <td>PROVIDENCIA</td>\n",
              "      <td>-99.067127</td>\n",
              "      <td>19.484915</td>\n",
              "      <td>-1</td>\n",
              "    </tr>\n",
              "    <tr>\n",
              "      <th>3155</th>\n",
              "      <td>ROBO A TRANSEUNTE CV</td>\n",
              "      <td>2020-04-18 13:06:00</td>\n",
              "      <td>SAN JUAN DE ARAGÓN</td>\n",
              "      <td>-99.080519</td>\n",
              "      <td>19.464903</td>\n",
              "      <td>-1</td>\n",
              "    </tr>\n",
              "    <tr>\n",
              "      <th>461</th>\n",
              "      <td>ROBO A TRANSEUNTE CV</td>\n",
              "      <td>2017-12-27 14:00:00</td>\n",
              "      <td>AMPLIACIÓN PROVIDENCIA</td>\n",
              "      <td>-99.070896</td>\n",
              "      <td>19.475763</td>\n",
              "      <td>-1</td>\n",
              "    </tr>\n",
              "    <tr>\n",
              "      <th>1505</th>\n",
              "      <td>ROBO A TRANSEUNTE CV</td>\n",
              "      <td>2018-02-10 06:10:00</td>\n",
              "      <td>ESTANZUELA</td>\n",
              "      <td>-99.108573</td>\n",
              "      <td>19.490102</td>\n",
              "      <td>-1</td>\n",
              "    </tr>\n",
              "    <tr>\n",
              "      <th>3154</th>\n",
              "      <td>ROBO A TRANSEUNTE CV</td>\n",
              "      <td>2020-04-17 16:35:00</td>\n",
              "      <td>SAN JUAN DE ARAGÓN</td>\n",
              "      <td>-99.083594</td>\n",
              "      <td>19.471799</td>\n",
              "      <td>-1</td>\n",
              "    </tr>\n",
              "    <tr>\n",
              "      <th>...</th>\n",
              "      <td>...</td>\n",
              "      <td>...</td>\n",
              "      <td>...</td>\n",
              "      <td>...</td>\n",
              "      <td>...</td>\n",
              "      <td>...</td>\n",
              "    </tr>\n",
              "    <tr>\n",
              "      <th>1297</th>\n",
              "      <td>ROBO A TRANSEUNTE CV</td>\n",
              "      <td>2017-04-12 16:15:00</td>\n",
              "      <td>GUADALUPE TEPEYAC</td>\n",
              "      <td>-99.122037</td>\n",
              "      <td>19.467349</td>\n",
              "      <td>1154</td>\n",
              "    </tr>\n",
              "    <tr>\n",
              "      <th>2637</th>\n",
              "      <td>ROBO A TRANSEUNTE CV</td>\n",
              "      <td>2018-09-21 22:18:00</td>\n",
              "      <td>GUADALUPE TEPEYAC</td>\n",
              "      <td>-99.122063</td>\n",
              "      <td>19.467713</td>\n",
              "      <td>1154</td>\n",
              "    </tr>\n",
              "    <tr>\n",
              "      <th>2165</th>\n",
              "      <td>ROBO A TRANSEUNTE CV</td>\n",
              "      <td>2018-06-11 22:00:00</td>\n",
              "      <td>GUADALUPE TEPEYAC</td>\n",
              "      <td>-99.122096</td>\n",
              "      <td>19.467614</td>\n",
              "      <td>1154</td>\n",
              "    </tr>\n",
              "    <tr>\n",
              "      <th>3255</th>\n",
              "      <td>ROBO A TRANSEUNTE CV</td>\n",
              "      <td>2016-11-16 20:22:00</td>\n",
              "      <td>GUADALUPE TEPEYAC</td>\n",
              "      <td>-99.122418</td>\n",
              "      <td>19.467356</td>\n",
              "      <td>1155</td>\n",
              "    </tr>\n",
              "    <tr>\n",
              "      <th>1504</th>\n",
              "      <td>ROBO A TRANSEUNTE CV</td>\n",
              "      <td>2018-02-12 04:47:00</td>\n",
              "      <td>GUADALUPE TEPEYAC</td>\n",
              "      <td>-99.122347</td>\n",
              "      <td>19.467451</td>\n",
              "      <td>1155</td>\n",
              "    </tr>\n",
              "  </tbody>\n",
              "</table>\n",
              "<p>3768 rows × 6 columns</p>\n",
              "</div>"
            ],
            "text/plain": [
              "                    crimen               fecha  ...        lat  Cluster\n",
              "403   ROBO A TRANSEUNTE CV 2018-05-03 15:00:00  ...  19.484915       -1\n",
              "3155  ROBO A TRANSEUNTE CV 2020-04-18 13:06:00  ...  19.464903       -1\n",
              "461   ROBO A TRANSEUNTE CV 2017-12-27 14:00:00  ...  19.475763       -1\n",
              "1505  ROBO A TRANSEUNTE CV 2018-02-10 06:10:00  ...  19.490102       -1\n",
              "3154  ROBO A TRANSEUNTE CV 2020-04-17 16:35:00  ...  19.471799       -1\n",
              "...                    ...                 ...  ...        ...      ...\n",
              "1297  ROBO A TRANSEUNTE CV 2017-04-12 16:15:00  ...  19.467349     1154\n",
              "2637  ROBO A TRANSEUNTE CV 2018-09-21 22:18:00  ...  19.467713     1154\n",
              "2165  ROBO A TRANSEUNTE CV 2018-06-11 22:00:00  ...  19.467614     1154\n",
              "3255  ROBO A TRANSEUNTE CV 2016-11-16 20:22:00  ...  19.467356     1155\n",
              "1504  ROBO A TRANSEUNTE CV 2018-02-12 04:47:00  ...  19.467451     1155\n",
              "\n",
              "[3768 rows x 6 columns]"
            ]
          },
          "metadata": {
            "tags": []
          },
          "execution_count": 137
        }
      ]
    },
    {
      "cell_type": "code",
      "metadata": {
        "id": "f_QyE0FAJHU2",
        "colab_type": "code",
        "colab": {
          "base_uri": "https://localhost:8080/",
          "height": 259
        },
        "outputId": "ede151fd-9274-48e9-f64c-3d0e21bdfd65"
      },
      "source": [
        "clustered['colonia'].unique()"
      ],
      "execution_count": null,
      "outputs": [
        {
          "output_type": "execute_result",
          "data": {
            "text/plain": [
              "<StringArray>\n",
              "[      'LA LAGUNA TICOMÁN',    'JUAN GONZÁLEZ ROMERO',\n",
              "          'FERROCARRILERA',   'RESIDENCIAL ZACATENCO',\n",
              " 'VILLA GUSTAVO A. MADERO',               'LA JOYITA',\n",
              "     'CUCHILLA DEL TESORO',              'DEL OBRERO',\n",
              "     'TEPEYAC INSURGENTES',              'LINDAVISTA',\n",
              " ...\n",
              "      'EX ESCUELA DE TIRO',            'EL TEPETATAL',\n",
              " 'LA ESMERALDA 1A SECCIÓN',        'EL ARBOLILLO CTM',\n",
              "   'HÉROES DE CHAPULTEPEC',     'PRADOS DE CUAUTEPEC',\n",
              "   'PLANETARIO LINDAVISTA',        'EDUARDO MOLINA I',\n",
              "             'TLACAELEL 2',                  'INDECO']\n",
              "Length: 176, dtype: string"
            ]
          },
          "metadata": {
            "tags": []
          },
          "execution_count": 138
        }
      ]
    },
    {
      "cell_type": "code",
      "metadata": {
        "id": "IYCNRYzP24CF",
        "colab_type": "code",
        "colab": {}
      },
      "source": [
        "def mapeaCluster(datos, colonias):\n",
        "  import folium\n",
        "  import time\n",
        "  import random\n",
        "\n",
        "  dataframe = clustered\n",
        "  dataframe = dataframe.set_index('colonia').loc[colonias].reset_index()\n",
        "\n",
        "  centro_lat, centro_lon = 19.490560, -99.133424\n",
        "  folium_map = folium.Map(location=[centro_lat, centro_lon], zoom_start=12, tiles='cartodb positron')\n",
        "\n",
        "  id_clusters = dataframe['Cluster'].unique()\n",
        "  for id in id_clusters:\n",
        "    datos_aux = dataframe[dataframe['Cluster']==id]\n",
        "    r = lambda: random.randint(0,255)\n",
        "    color_marker = str(('#%02X%02X%02X' % (r(),r(),r())))\n",
        "    for i,row in datos_aux.iterrows():\n",
        "      anio = time.strptime(str(row.fecha), '%Y-%m-%d %H:%M:%S').tm_year\n",
        "      popup_text = f\"<b> Nombre: </b> {row.crimen} <br> <b> Anio: </b> {anio} <br> <b>Cluster: </b> {row.Cluster}\"\n",
        "      folium.CircleMarker(location=[row.lat, row.long], color=color_marker , radius=5, tooltip=popup_text, fill=True, fill_opacity=0.4).add_to(folium_map)\n",
        "\n",
        "  return folium_map"
      ],
      "execution_count": null,
      "outputs": []
    },
    {
      "cell_type": "code",
      "metadata": {
        "id": "F0ioWjUyz--_",
        "colab_type": "code",
        "colab": {
          "base_uri": "https://localhost:8080/",
          "height": 963
        },
        "outputId": "0af01006-1d7c-4d52-9fc4-3e54ebb55a51"
      },
      "source": [
        "mapeaCluster(clustered, ['LA LAGUNA TICOMÁN','CUCHILLA DEL TESORO','DEL OBRERO'])"
      ],
      "execution_count": null,
      "outputs": [
        {
          "output_type": "execute_result",
          "data": {
            "text/html": [
              "<div style=\"width:100%;\"><div style=\"position:relative;width:100%;height:0;padding-bottom:60%;\"><span style=\"color:#565656\">Make this Notebook Trusted to load map: File -> Trust Notebook</span><iframe src=\"about:blank\" style=\"position:absolute;width:100%;height:100%;left:0;top:0;border:none !important;\" data-html=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 onload=\"this.contentDocument.open();this.contentDocument.write(atob(this.getAttribute('data-html')));this.contentDocument.close();\" allowfullscreen webkitallowfullscreen mozallowfullscreen></iframe></div></div>"
            ],
            "text/plain": [
              "<folium.folium.Map at 0x7fa27e0270b8>"
            ]
          },
          "metadata": {
            "tags": []
          },
          "execution_count": 156
        }
      ]
    },
    {
      "cell_type": "code",
      "metadata": {
        "id": "Glg9_Pty3J4O",
        "colab_type": "code",
        "colab": {
          "base_uri": "https://localhost:8080/",
          "height": 240
        },
        "outputId": "55572d3b-d2b4-407f-99d7-5690ed93eedf"
      },
      "source": [
        "clustered['Cluster'].value_counts()"
      ],
      "execution_count": null,
      "outputs": [
        {
          "output_type": "execute_result",
          "data": {
            "text/plain": [
              "-1      493\n",
              " 376     10\n",
              " 678      9\n",
              " 661      9\n",
              " 456      9\n",
              "       ... \n",
              " 117      2\n",
              " 115      2\n",
              " 113      2\n",
              " 111      2\n",
              " 0        2\n",
              "Name: Cluster, Length: 1157, dtype: int64"
            ]
          },
          "metadata": {
            "tags": []
          },
          "execution_count": 141
        }
      ]
    },
    {
      "cell_type": "code",
      "metadata": {
        "id": "NORbfL5s4SVF",
        "colab_type": "code",
        "colab": {}
      },
      "source": [
        "def mapeaClusterColonia(datos):\n",
        "  import folium\n",
        "  import time\n",
        "  import random\n",
        "  # Se indexa por colonias paraclusterizar y mapear\n",
        "  df = clustered.set_index('colonia');\n",
        "  for i,colonia in df:\n",
        "      df_aux =  df.loc[colonia].reset_index()\n",
        "  # Se instancia el mapa y se configura\n",
        "  centro_lat, centro_lon = 19.490560, -99.133424\n",
        "  folium_map = folium.Map(location=[centro_lat, centro_lon], zoom_start=12, tiles='cartodb positron')\n",
        "\n",
        "  #Por cada cluster\n",
        "  id_clusters = dataframe['Cluster'].unique()\n",
        "  for id in id_clusters:\n",
        "    datos_aux = dataframe[dataframe['Cluster']==id]\n",
        "    r = lambda: random.randint(0,255)\n",
        "    color_marker = str(('#%02X%02X%02X' % (r(),r(),r())))\n",
        "    for i,row in datos_aux.iterrows():\n",
        "      anio = time.strptime(str(row.fecha), '%Y-%m-%d %H:%M:%S').tm_year\n",
        "      popup_text = f\"<b> Nombre: </b> {row.crimen} <br> <b> Anio: </b> {anio} <br> <b>Cluster: </b> {row.Cluster}\"\n",
        "      folium.CircleMarker(location=[row.lat, row.long], color=color_marker , radius=5, tooltip=popup_text, fill=True, fill_opacity=0.4).add_to(folium_map)\n",
        "\n",
        "  return folium_map"
      ],
      "execution_count": null,
      "outputs": []
    },
    {
      "cell_type": "code",
      "metadata": {
        "id": "whwiF_bs6Pvh",
        "colab_type": "code",
        "colab": {
          "base_uri": "https://localhost:8080/",
          "height": 431
        },
        "outputId": "a8aec10d-ccc2-4826-8c8a-41f160911afc"
      },
      "source": [
        ""
      ],
      "execution_count": 28,
      "outputs": [
        {
          "output_type": "execute_result",
          "data": {
            "text/html": [
              "<div>\n",
              "<style scoped>\n",
              "    .dataframe tbody tr th:only-of-type {\n",
              "        vertical-align: middle;\n",
              "    }\n",
              "\n",
              "    .dataframe tbody tr th {\n",
              "        vertical-align: top;\n",
              "    }\n",
              "\n",
              "    .dataframe thead th {\n",
              "        text-align: right;\n",
              "    }\n",
              "</style>\n",
              "<table border=\"1\" class=\"dataframe\">\n",
              "  <thead>\n",
              "    <tr style=\"text-align: right;\">\n",
              "      <th></th>\n",
              "      <th>crimen</th>\n",
              "      <th>fecha</th>\n",
              "      <th>long</th>\n",
              "      <th>lat</th>\n",
              "      <th>Cluster</th>\n",
              "    </tr>\n",
              "    <tr>\n",
              "      <th>colonia</th>\n",
              "      <th></th>\n",
              "      <th></th>\n",
              "      <th></th>\n",
              "      <th></th>\n",
              "      <th></th>\n",
              "    </tr>\n",
              "  </thead>\n",
              "  <tbody>\n",
              "    <tr>\n",
              "      <th>LA LAGUNA TICOMÁN</th>\n",
              "      <td>ROBO A TRANSEUNTE CV</td>\n",
              "      <td>2016-05-19 13:35:00</td>\n",
              "      <td>-99.132372</td>\n",
              "      <td>19.514183</td>\n",
              "      <td>446</td>\n",
              "    </tr>\n",
              "    <tr>\n",
              "      <th>JUAN GONZÁLEZ ROMERO</th>\n",
              "      <td>ROBO A TRANSEUNTE CV</td>\n",
              "      <td>2016-05-19 15:20:00</td>\n",
              "      <td>-99.090854</td>\n",
              "      <td>19.506820</td>\n",
              "      <td>948</td>\n",
              "    </tr>\n",
              "    <tr>\n",
              "      <th>FERROCARRILERA</th>\n",
              "      <td>ROBO A TRANSEUNTE CV</td>\n",
              "      <td>2016-05-20 18:10:00</td>\n",
              "      <td>-99.097314</td>\n",
              "      <td>19.479611</td>\n",
              "      <td>573</td>\n",
              "    </tr>\n",
              "    <tr>\n",
              "      <th>RESIDENCIAL ZACATENCO</th>\n",
              "      <td>ROBO A TRANSEUNTE CV</td>\n",
              "      <td>2016-05-20 23:30:00</td>\n",
              "      <td>-99.120436</td>\n",
              "      <td>19.495638</td>\n",
              "      <td>-1</td>\n",
              "    </tr>\n",
              "    <tr>\n",
              "      <th>VILLA GUSTAVO A. MADERO</th>\n",
              "      <td>ROBO A TRANSEUNTE CV</td>\n",
              "      <td>2016-05-21 12:20:00</td>\n",
              "      <td>-99.113828</td>\n",
              "      <td>19.484084</td>\n",
              "      <td>769</td>\n",
              "    </tr>\n",
              "    <tr>\n",
              "      <th>...</th>\n",
              "      <td>...</td>\n",
              "      <td>...</td>\n",
              "      <td>...</td>\n",
              "      <td>...</td>\n",
              "      <td>...</td>\n",
              "    </tr>\n",
              "    <tr>\n",
              "      <th>ARAGÓN INGUARÁN</th>\n",
              "      <td>ROBO A TRANSEUNTE CV</td>\n",
              "      <td>2018-11-28 22:13:00</td>\n",
              "      <td>-99.106636</td>\n",
              "      <td>19.472753</td>\n",
              "      <td>1010</td>\n",
              "    </tr>\n",
              "    <tr>\n",
              "      <th>VALLE DE MADERO</th>\n",
              "      <td>ROBO A TRANSEUNTE CV</td>\n",
              "      <td>2018-11-29 08:50:00</td>\n",
              "      <td>-99.140769</td>\n",
              "      <td>19.546944</td>\n",
              "      <td>274</td>\n",
              "    </tr>\n",
              "    <tr>\n",
              "      <th>C.T.M. ATZACOALCO</th>\n",
              "      <td>ROBO A TRANSEUNTE CV</td>\n",
              "      <td>2018-11-29 16:00:00</td>\n",
              "      <td>-99.106199</td>\n",
              "      <td>19.509012</td>\n",
              "      <td>322</td>\n",
              "    </tr>\n",
              "    <tr>\n",
              "      <th>AMPLIACIÓN CASAS ALEMÁN</th>\n",
              "      <td>ROBO A TRANSEUNTE CV</td>\n",
              "      <td>2018-11-27 18:30:00</td>\n",
              "      <td>-99.081636</td>\n",
              "      <td>19.476153</td>\n",
              "      <td>747</td>\n",
              "    </tr>\n",
              "    <tr>\n",
              "      <th>LINDAVISTA</th>\n",
              "      <td>ROBO A TRANSEUNTE CV</td>\n",
              "      <td>2018-11-29 22:45:00</td>\n",
              "      <td>-99.128371</td>\n",
              "      <td>19.503912</td>\n",
              "      <td>412</td>\n",
              "    </tr>\n",
              "  </tbody>\n",
              "</table>\n",
              "<p>3768 rows × 5 columns</p>\n",
              "</div>"
            ],
            "text/plain": [
              "                                       crimen  ... Cluster\n",
              "colonia                                        ...        \n",
              "LA LAGUNA TICOMÁN        ROBO A TRANSEUNTE CV  ...     446\n",
              "JUAN GONZÁLEZ ROMERO     ROBO A TRANSEUNTE CV  ...     948\n",
              "FERROCARRILERA           ROBO A TRANSEUNTE CV  ...     573\n",
              "RESIDENCIAL ZACATENCO    ROBO A TRANSEUNTE CV  ...      -1\n",
              "VILLA GUSTAVO A. MADERO  ROBO A TRANSEUNTE CV  ...     769\n",
              "...                                       ...  ...     ...\n",
              "ARAGÓN INGUARÁN          ROBO A TRANSEUNTE CV  ...    1010\n",
              "VALLE DE MADERO          ROBO A TRANSEUNTE CV  ...     274\n",
              "C.T.M. ATZACOALCO        ROBO A TRANSEUNTE CV  ...     322\n",
              "AMPLIACIÓN CASAS ALEMÁN  ROBO A TRANSEUNTE CV  ...     747\n",
              "LINDAVISTA               ROBO A TRANSEUNTE CV  ...     412\n",
              "\n",
              "[3768 rows x 5 columns]"
            ]
          },
          "metadata": {
            "tags": []
          },
          "execution_count": 28
        }
      ]
    },
    {
      "cell_type": "code",
      "metadata": {
        "id": "VVmWkbw8jluF",
        "colab_type": "code",
        "colab": {}
      },
      "source": [
        ""
      ],
      "execution_count": null,
      "outputs": []
    }
  ]
}